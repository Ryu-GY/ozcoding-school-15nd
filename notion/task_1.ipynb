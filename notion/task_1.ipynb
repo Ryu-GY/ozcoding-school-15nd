{
  "cells": [
    {
      "cell_type": "markdown",
      "metadata": {
        "id": "ZYn64Njn6QTR"
      },
      "source": [
        "안녕하세요. 수강생 여러분~! Chapter33 ~ 41 수업은 잘 들으셨나요?\n",
        "\n",
        "Chapter33 ~ 41의 수업 내용을 바탕으로 아래 문제를 풀어주시면 됩니다.\n",
        "\n",
        "\n",
        "<br>\n",
        "\n",
        "\n",
        "[**답변 입력 방법**]\n",
        "\n",
        "문제 아래에 있는 코드 입력창에 정답코드를 작성하신 후  __▷ 버튼을 클릭해 코드를 실행__ 해보세요<br>"
      ]
    },
    {
      "cell_type": "markdown",
      "metadata": {
        "id": "w3zfc00Z6QTW"
      },
      "source": [
        "---"
      ]
    },
    {
      "cell_type": "markdown",
      "metadata": {
        "id": "uMC5BPtR6QTY"
      },
      "source": [
        "[문제 1]\n",
        "\n",
        "사용자로부터 두 개의 숫자를 입력받아 나눗셈을 수행하는 프로그램을 작성하세요.\n",
        "\n",
        "[예외처리]\n",
        "- 입력 값이 숫자가 아닐 때 발생할 수 있는 ValueError\n",
        "- 나누는 수가 0일 때 발생할 수 있는 ZeroDivisionError\n",
        "- 위 2가지 예외처리 후 사용자에게 이해하기 쉬운 메시지 작성 후 출력되도록 코드를 작성"
      ]
    },
    {
      "cell_type": "code",
      "source": [
        "try:\n",
        "    n1 = float(input(\"첫 번째 숫자: \"))\n",
        "    n2 = float(input(\"두 번째 숫자: \"))\n",
        "\n",
        "    res1 = n1 / n2\n",
        "    print(f\"결과: {res1}\")\n",
        "\n",
        "except ValueError:\n",
        "    print(\"숫자만 입력해주세요.\")\n",
        "except ZeroDivisionError:\n",
        "    print(\"0으로는 나눌 수 없습니다.\")"
      ],
      "metadata": {
        "colab": {
          "base_uri": "https://localhost:8080/"
        },
        "id": "xT5SmDJ7DoUC",
        "outputId": "7ed08dc9-8740-481d-b073-56b03a195665"
      },
      "execution_count": null,
      "outputs": [
        {
          "output_type": "stream",
          "name": "stdout",
          "text": [
            "첫 번째 숫자: 3\n",
            "두 번째 숫자: 오\n",
            "숫자만 입력해주세요.\n"
          ]
        }
      ]
    },
    {
      "cell_type": "markdown",
      "metadata": {
        "id": "9pcyJTSF6QTZ"
      },
      "source": [
        "---"
      ]
    },
    {
      "cell_type": "markdown",
      "metadata": {
        "id": "-rv6cEGp6QTa"
      },
      "source": [
        "[문제 2]\n",
        "\n",
        "파일을 읽어서 내용을 출력하는 프로그램을 작성하세요.\n",
        "\n",
        "- 파일이 존재하지 않을 때 발생하는 FileNotFoundError를 처리\n",
        "- 파일이 존재하지 않을 경우 \"파일을 찾을 수 없습니다.\"라는 메시지를 출력"
      ]
    },
    {
      "cell_type": "code",
      "execution_count": null,
      "metadata": {
        "colab": {
          "base_uri": "https://localhost:8080/"
        },
        "id": "Hnv7wsCm6QTa",
        "outputId": "a6e5fb06-4d4d-46d8-ecca-edab086abc5d"
      },
      "outputs": [
        {
          "output_type": "stream",
          "name": "stdout",
          "text": [
            "파일을 찾을 수 없습니다.\n"
          ]
        }
      ],
      "source": [
        "try:\n",
        "    with open(\"file.txt\", \"r\") as f:\n",
        "        content = f.read()\n",
        "        print(content)\n",
        "except FileNotFoundError:\n",
        "    print(\"파일을 찾을 수 없습니다.\")"
      ]
    },
    {
      "cell_type": "markdown",
      "metadata": {
        "id": "RzqnPg_76QTa"
      },
      "source": [
        "---"
      ]
    },
    {
      "cell_type": "markdown",
      "metadata": {
        "id": "89DV2Bnq6QTa"
      },
      "source": [
        "[문제 3]\n",
        "\n",
        "사용자로부터 여러 개의 숫자를 입력받아 리스트에 저장한 후, 사용자가 'done'이라고 입력할 때까지 계속 입력받으세요.\n",
        "\n",
        "- 입력 중 숫자가 아닌 값이 입력되면 ValueError를 처리\n",
        "- 숫자 외 값이 입력된 경우 어떤 값이 잘못 입력되었는지 사용자에게 알려주는 문구 출력<br>\n",
        "  (예: f\"잘못된 값: {변수}. 숫자를 입력해주세요.\")\n",
        "\n"
      ]
    },
    {
      "cell_type": "code",
      "execution_count": null,
      "metadata": {
        "colab": {
          "base_uri": "https://localhost:8080/"
        },
        "id": "oXbgnagk6QTb",
        "outputId": "c005e592-e142-4739-e07e-f0b5021921d7"
      },
      "outputs": [
        {
          "output_type": "stream",
          "name": "stdout",
          "text": [
            "숫자를 입력하세요 (종료 = done): 4\n",
            "숫자를 입력하세요 (종료 = done): 654\n",
            "숫자를 입력하세요 (종료 = done): 234\n",
            "숫자를 입력하세요 (종료 = done): 63\n",
            "숫자를 입력하세요 (종료 = done): 1\n",
            "숫자를 입력하세요 (종료 = done): 8\n",
            "숫자를 입력하세요 (종료 = done): 54\n",
            "숫자를 입력하세요 (종료 = done): done\n",
            "숫자 리스트: [4, 654, 234, 63, 1, 8, 54]\n"
          ]
        }
      ],
      "source": [
        "numbers = []\n",
        "while True:\n",
        "    user_num = input(\"숫자를 입력하세요 (종료 = done): \")\n",
        "    if user_num.lower() == 'done':\n",
        "        break\n",
        "    try:\n",
        "        number = int(user_num)\n",
        "        numbers.append(number)\n",
        "    except ValueError:\n",
        "        print(f\"잘못된 값: {user_num}. 숫자를 입력해주세요.\")\n",
        "\n",
        "print(\"숫자 리스트:\", numbers)"
      ]
    },
    {
      "cell_type": "markdown",
      "metadata": {
        "id": "7N50puuV6QTb"
      },
      "source": [
        "---"
      ]
    },
    {
      "cell_type": "markdown",
      "metadata": {
        "id": "Bs7t0FcM6QTb"
      },
      "source": [
        "[문제 4]\n",
        "\n",
        "사용자 정의 예외 NegativeNumberError를 생성하고, 사용자로부터 숫자를 입력받아 음수일 경우 NegativeNumberError를 발생시키는 프로그램을 작성하세요.\n",
        "\n",
        "- 예외 처리 구문을 사용하여 음수 입력 시 \"양수를 입력해주세요.\"라는 메시지를 출력"
      ]
    },
    {
      "cell_type": "code",
      "execution_count": null,
      "metadata": {
        "colab": {
          "base_uri": "https://localhost:8080/"
        },
        "id": "HM4LCTsx6QTb",
        "outputId": "5bc7c0db-4b95-4fa7-8b8a-af59753ca648"
      },
      "outputs": [
        {
          "output_type": "stream",
          "name": "stdout",
          "text": [
            "숫자를 입력하세요: -3\n",
            "양수를 입력해주세요.\n"
          ]
        }
      ],
      "source": [
        "class NegativeNumberError(Exception):\n",
        "    pass\n",
        "\n",
        "try:\n",
        "    num = int(input(\"숫자를 입력하세요: \"))\n",
        "    if num < 0:\n",
        "        raise NegativeNumberError(\"음수XX\")\n",
        "    print(f\"입력된 숫자: {num}\")\n",
        "\n",
        "except NegativeNumberError:\n",
        "    print(\"양수를 입력해주세요.\")"
      ]
    },
    {
      "cell_type": "markdown",
      "metadata": {
        "id": "JqHq2RNG6QTc"
      },
      "source": [
        "---"
      ]
    },
    {
      "cell_type": "markdown",
      "metadata": {
        "id": "_M0_P6bT6QTc"
      },
      "source": [
        "[문제 5]\n",
        "\n",
        "datetime 모듈을 사용하여 현재 날짜와 시간을 출력하는 프로그램을 작성하세요.\n",
        "\n",
        "또한, 사용자로부터 태어난 년도를 입력받아 현재 나이를 계산하여 출력하세요."
      ]
    },
    {
      "cell_type": "code",
      "execution_count": null,
      "metadata": {
        "colab": {
          "base_uri": "https://localhost:8080/"
        },
        "id": "drorIdmx6QTd",
        "outputId": "062cfe49-d8dd-439d-9cc3-1295941dca4f"
      },
      "outputs": [
        {
          "output_type": "stream",
          "name": "stdout",
          "text": [
            "2025-10-17 08:00:05.744581\n",
            "태어난 년도를 입력하세요 (YYYY): 2001\n",
            "나이: 24세\n"
          ]
        }
      ],
      "source": [
        "from datetime import datetime\n",
        "\n",
        "now = datetime.now()\n",
        "print(now)\n",
        "\n",
        "try:\n",
        "    birth_year = int(input(\"태어난 년도를 입력하세요 (YYYY): \"))\n",
        "    current_year = now.year\n",
        "    age = current_year - birth_year\n",
        "    print(f\"나이: {age}세\")\n",
        "except ValueError:\n",
        "    print(\"잘못된 입력입니다.\")"
      ]
    },
    {
      "cell_type": "markdown",
      "metadata": {
        "id": "zU3_-mCE6QTd"
      },
      "source": [
        "---"
      ]
    },
    {
      "cell_type": "markdown",
      "metadata": {
        "id": "Ficgg7256QTd"
      },
      "source": [
        "[문제 6]\n",
        "\n",
        "requests 모듈을 사용하여, 웹 페이지의 HTML을 가져오는 간단한 웹 스크레이퍼를 작성하세요.\n",
        "\n",
        "'https://kream.co.kr/'에서<br>\n",
        "데이터를 가져와서 상태 코드와 HTML의 첫 100자를 출력하세요.<br>\n",
        "(실습 전 requests 모듈을 설치해야 함)"
      ]
    },
    {
      "cell_type": "code",
      "metadata": {
        "colab": {
          "base_uri": "https://localhost:8080/"
        },
        "id": "7c2d9e5c",
        "outputId": "0ae969c0-de32-467b-f378-c2bda841c8bc"
      },
      "source": [
        "!pip install requests"
      ],
      "execution_count": 19,
      "outputs": [
        {
          "output_type": "stream",
          "name": "stdout",
          "text": [
            "Requirement already satisfied: requests in /usr/local/lib/python3.12/dist-packages (2.32.4)\n",
            "Requirement already satisfied: charset_normalizer<4,>=2 in /usr/local/lib/python3.12/dist-packages (from requests) (3.4.3)\n",
            "Requirement already satisfied: idna<4,>=2.5 in /usr/local/lib/python3.12/dist-packages (from requests) (3.10)\n",
            "Requirement already satisfied: urllib3<3,>=1.21.1 in /usr/local/lib/python3.12/dist-packages (from requests) (2.5.0)\n",
            "Requirement already satisfied: certifi>=2017.4.17 in /usr/local/lib/python3.12/dist-packages (from requests) (2025.10.5)\n"
          ]
        }
      ]
    },
    {
      "cell_type": "code",
      "metadata": {
        "colab": {
          "base_uri": "https://localhost:8080/"
        },
        "id": "fe027580",
        "outputId": "31e8b003-5131-4a5d-fadb-a30239e5eb3c"
      },
      "source": [
        "import requests\n",
        "\n",
        "url = 'https://kream.co.kr/'\n",
        "\n",
        "try:\n",
        "    response = requests.get(url)\n",
        "    response.raise_for_status()\n",
        "\n",
        "    print(f\"상태 코드: {response.status_code}\")\n",
        "    print(\"HTML의 첫 100자:\")\n",
        "    print(response.text[:100])\n",
        "\n",
        "except requests.exceptions.RequestException as e:\n",
        "    print(f\"요청 중 오류가 발생했습니다: {e}\")"
      ],
      "execution_count": 20,
      "outputs": [
        {
          "output_type": "stream",
          "name": "stdout",
          "text": [
            "요청 중 오류가 발생했습니다: 500 Server Error: Internal Server Error for url: https://kream.co.kr/\n"
          ]
        }
      ]
    },
    {
      "cell_type": "markdown",
      "metadata": {
        "id": "60CQF2vP6QTd"
      },
      "source": [
        "---"
      ]
    },
    {
      "cell_type": "markdown",
      "metadata": {
        "id": "U96FuGLJ6QTe"
      },
      "source": [
        "[문제 7]\n",
        "\n",
        "함수 실행 시간을 측정하는 데코레이터 timer_decorator를 작성하세요.\n",
        "\n",
        "임의의 함수가 실행되는 시간을 측정하여 \"함수 실행 시간: x.xx초\" 형태로 출력하세요."
      ]
    },
    {
      "cell_type": "code",
      "execution_count": 18,
      "metadata": {
        "id": "BBhiQvZX6QTe",
        "colab": {
          "base_uri": "https://localhost:8080/"
        },
        "outputId": "8301d7eb-a10b-4032-828c-563a74fb68b2"
      },
      "outputs": [
        {
          "output_type": "stream",
          "name": "stdout",
          "text": [
            "함수 실행 시간: 2.00초\n"
          ]
        }
      ],
      "source": [
        "import time\n",
        "\n",
        "def timer_decorator(func):\n",
        "    def wrapper(*args, **kwargs):\n",
        "        start_time = time.time()\n",
        "        result = func(*args, **kwargs)\n",
        "        end_time = time.time()\n",
        "        execution_time = end_time - start_time\n",
        "        print(f\"함수 실행 시간: {execution_time:.2f}초\")\n",
        "        return result\n",
        "    return wrapper\n",
        "\n",
        "@timer_decorator\n",
        "def my_function(seconds):\n",
        "    time.sleep(seconds)\n",
        "\n",
        "my_function(2)"
      ]
    },
    {
      "cell_type": "markdown",
      "metadata": {
        "id": "A9_PCNSm6QTe"
      },
      "source": [
        "---"
      ]
    },
    {
      "cell_type": "markdown",
      "metadata": {
        "id": "pFsr7E_t6QTe"
      },
      "source": [
        "[문제 8]\n",
        "\n",
        "여러분이 자주 사용하는 수학적 연산<br>\n",
        "(예: 삼각형 넓이, 원의 넓이, 직육면체의 넓이)을 수행하는 함수들을 포함하는 mymath.py라는 이름의 모듈을 만드세요.\n",
        "\n",
        "이 모듈을 사용하여 작성된 함수들을 실제로 임포트하고 사용하는 간단한 프로그램을 작성하세요."
      ]
    },
    {
      "cell_type": "code",
      "metadata": {
        "colab": {
          "base_uri": "https://localhost:8080/"
        },
        "id": "bc525a48",
        "outputId": "2d4b45ae-0b89-49d3-a416-91956676c346"
      },
      "source": [
        "%%writefile mymath.py\n",
        "\n",
        "import math\n",
        "\n",
        "def triangle_area(base, height):\n",
        "    return 0.5 * base * height\n",
        "\n",
        "def circle_area(radius):\n",
        "    return math.pi * radius**2\n",
        "\n",
        "def rectangular_prism_volume(length, width, height):\n",
        "    return length * width * height"
      ],
      "execution_count": 28,
      "outputs": [
        {
          "output_type": "stream",
          "name": "stdout",
          "text": [
            "Overwriting mymath.py\n"
          ]
        }
      ]
    },
    {
      "cell_type": "code",
      "metadata": {
        "colab": {
          "base_uri": "https://localhost:8080/"
        },
        "id": "19418739",
        "outputId": "e19d474e-da89-449d-e891-0445a2d4f110"
      },
      "source": [
        "from mymath import circle_area\n",
        "\n",
        "radius = 5\n",
        "circle_area_result = circle_area(radius)\n",
        "print(f\"원의 반지름: {radius}, 넓이: {circle_area_result:.2f}\")"
      ],
      "execution_count": 30,
      "outputs": [
        {
          "output_type": "stream",
          "name": "stdout",
          "text": [
            "원의 반지름: 5, 넓이: 78.54\n"
          ]
        }
      ]
    },
    {
      "cell_type": "markdown",
      "metadata": {
        "id": "I6KxakQa6QTe"
      },
      "source": [
        "---"
      ]
    },
    {
      "cell_type": "markdown",
      "metadata": {
        "id": "YEb72o_R6QTe"
      },
      "source": [
        "[문제 9]\n",
        "\n",
        "animals라는 패키지를 만들고, 이 패키지 내에 mammals, birds라는 두 개의 서브 모듈을 생성하세요.\n",
        "\n",
        "- 각 모듈에는 최소한 한 개 이상의 동물에 관한 클래스를 정의하세요<br>\n",
        "  (예: mammals에는 Dog, birds에는 Eagle)\n",
        "- 이 패키지와 모듈을 사용하여 동물들의 정보를 출력하는 프로그램을 작성\n",
        "\n",
        "폴더 및 파일 구조\n",
        "```\n",
        "animals/(폴더)\n",
        "├── __init__.py\n",
        "├── mammals.py\n",
        "└── birds.py\n",
        "```\n"
      ]
    },
    {
      "cell_type": "markdown",
      "source": [
        "이거진짜 어떻게 푸는 거에요 포기ㅠㅠ 공부 예정,,, 입니다,,, 근데 공부해도 못 풀 것 같아요"
      ],
      "metadata": {
        "id": "c_X7xO-FZE7b"
      }
    },
    {
      "cell_type": "code",
      "source": [],
      "metadata": {
        "id": "mRfnbO4-ZDum"
      },
      "execution_count": null,
      "outputs": []
    },
    {
      "cell_type": "markdown",
      "metadata": {
        "id": "ppEbBVgq6QTh"
      },
      "source": [
        "---"
      ]
    }
  ],
  "metadata": {
    "language_info": {
      "name": "python"
    },
    "colab": {
      "provenance": []
    },
    "kernelspec": {
      "name": "python3",
      "display_name": "Python 3"
    }
  },
  "nbformat": 4,
  "nbformat_minor": 0
}
