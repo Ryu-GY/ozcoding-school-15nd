{
  "nbformat": 4,
  "nbformat_minor": 0,
  "metadata": {
    "colab": {
      "provenance": [],
      "authorship_tag": "ABX9TyN1me4laIwPVhfBsxI+uqmP"
    },
    "kernelspec": {
      "name": "python3",
      "display_name": "Python 3"
    },
    "language_info": {
      "name": "python"
    }
  },
  "cells": [
    {
      "cell_type": "markdown",
      "source": [
        "Chapter42"
      ],
      "metadata": {
        "id": "E2v9-STDjl6S"
      }
    },
    {
      "cell_type": "code",
      "execution_count": 1,
      "metadata": {
        "colab": {
          "base_uri": "https://localhost:8080/"
        },
        "id": "1en8ZnOvTpOo",
        "outputId": "2e6f9244-b8c6-4423-9123-24bfb44bb0f5"
      },
      "outputs": [
        {
          "output_type": "stream",
          "name": "stdout",
          "text": [
            "이름\t총점\t평균\n",
            "백현우\t12\t3.0\n",
            "홍혜인\t15\t3.75\n",
            "윤은성\t12\t3.0\n",
            "홍수철\t11\t2.75\n"
          ]
        }
      ],
      "source": [
        "oz_students = [\n",
        "    {\"name\": \"백현우\", \"python\": 4, \"database\": 3, \"Django\": 3, \"AWS\": 2},\n",
        "    {\"name\": \"홍혜인\", \"python\": 4, \"database\": 5, \"Django\": 2, \"AWS\": 4},\n",
        "    {\"name\": \"윤은성\", \"python\": 3, \"database\": 4, \"Django\": 4, \"AWS\": 1},\n",
        "    {\"name\": \"홍수철\", \"python\": 2, \"database\": 3, \"Django\": 1, \"AWS\": 5},\n",
        "]\n",
        "\n",
        "print(\"이름\", \"총점\", \"평균\", sep=\"\\t\")\n",
        "\n",
        "for student in oz_students:\n",
        "    ability_sum = student[\"python\"] + student[\"database\"] + student[\"Django\"] +\\\n",
        "                student[\"AWS\"]\n",
        "    ability_average = ability_sum / 4\n",
        "\n",
        "    print(student[\"name\"], ability_sum, ability_average, sep=\"\\t\")"
      ]
    },
    {
      "cell_type": "code",
      "source": [
        "def create_oz_student(name, python, database, django, AWS):\n",
        "    return{\n",
        "        \"name\": name,\n",
        "        \"python\": python,\n",
        "        \"database\": database,\n",
        "        \"django\": django,\n",
        "        \"AWS\": AWS\n",
        "    }\n",
        "\n",
        "\n",
        "oz_students = [\n",
        "    create_oz_student(\"백현우\",4 ,3 ,3 ,2),\n",
        "    create_oz_student(\"홍혜인\",4 ,5 ,2 ,4),\n",
        "    create_oz_student(\"윤은성\",3 ,4 ,4 ,1),\n",
        "    create_oz_student(\"홍수철\",2 ,3 ,1 ,5)\n",
        "]\n",
        "\n",
        "#총점은 프로그래밍 활용 능력의 총합, 평균은 프로그램 활용 능력의 총합의 평균\n",
        "print(\"이름\", \"총점\", \"평균\", sep=\"\\t\")\n",
        "\n",
        "for student in oz_students:\n",
        "    ability_sum = student[\"python\"] + student[\"database\"] + student[\"django\"] +\\\n",
        "                student[\"AWS\"]\n",
        "    ability_average = ability_sum / 4\n",
        "\n",
        "    print(student[\"name\"], ability_sum, ability_average, sep=\"\\t\")\n"
      ],
      "metadata": {
        "colab": {
          "base_uri": "https://localhost:8080/"
        },
        "id": "GJQg-jtkj3RU",
        "outputId": "ae7a3c82-80de-45dd-a3f3-19d58fef0d32"
      },
      "execution_count": 2,
      "outputs": [
        {
          "output_type": "stream",
          "name": "stdout",
          "text": [
            "이름\t총점\t평균\n",
            "백현우\t12\t3.0\n",
            "홍혜인\t15\t3.75\n",
            "윤은성\t12\t3.0\n",
            "홍수철\t11\t2.75\n"
          ]
        }
      ]
    },
    {
      "cell_type": "code",
      "source": [
        "def create_oz_student(name, python, database, django, AWS):\n",
        "    return{\n",
        "        \"name\": name,\n",
        "        \"python\": python,\n",
        "        \"database\": database,\n",
        "        \"django\": django,\n",
        "        \"AWS\": AWS\n",
        "    }\n",
        "\n",
        "def get_sum(student):\n",
        "    return student[\"python\"] + student[\"database\"] + student[\"django\"] +\\\n",
        "                student[\"AWS\"]\n",
        "\n",
        "def get_average(student):\n",
        "    return get_sum(student) / 4\n",
        "\n",
        "def to_string(student):\n",
        "    return f'{student[\"name\"]}\\t{get_sum(student)}\\t{get_average(student)}'\n",
        "\n",
        "oz_students = [\n",
        "    create_oz_student(\"백현우\",4 ,3 ,3 ,2),\n",
        "    create_oz_student(\"홍혜인\",4 ,5 ,2 ,4),\n",
        "    create_oz_student(\"윤은성\",3 ,4 ,4 ,1),\n",
        "    create_oz_student(\"홍수철\",2 ,3 ,1 ,5)\n",
        "]\n",
        "\n",
        "print(\"이름\", \"총점\", \"평균\", sep=\"\\t\")\n",
        "\n",
        "for student in oz_students:\n",
        "    print(to_string(student))"
      ],
      "metadata": {
        "colab": {
          "base_uri": "https://localhost:8080/"
        },
        "id": "BuB2tby1kdI-",
        "outputId": "db9e3a73-fbc5-46a7-a019-ecaa365b1dd4"
      },
      "execution_count": 3,
      "outputs": [
        {
          "output_type": "stream",
          "name": "stdout",
          "text": [
            "이름\t총점\t평균\n",
            "백현우\t12\t3.0\n",
            "홍혜인\t15\t3.75\n",
            "윤은성\t12\t3.0\n",
            "홍수철\t11\t2.75\n"
          ]
        }
      ]
    },
    {
      "cell_type": "markdown",
      "source": [
        "Chapter43"
      ],
      "metadata": {
        "id": "BStVC5fpjoLx"
      }
    },
    {
      "cell_type": "code",
      "source": [
        "import os\n",
        "\n",
        "os.listdir()"
      ],
      "metadata": {
        "colab": {
          "base_uri": "https://localhost:8080/"
        },
        "id": "pDCvLKNDjlis",
        "outputId": "c5972e66-f225-49f0-cebb-c29aba5175f5"
      },
      "execution_count": 5,
      "outputs": [
        {
          "output_type": "execute_result",
          "data": {
            "text/plain": [
              "['.config', 'sample_data']"
            ]
          },
          "metadata": {},
          "execution_count": 5
        }
      ]
    },
    {
      "cell_type": "code",
      "source": [
        "class CreateOzStudentss:\n",
        "    def __init__(self, name, python, database, django, AWS):\n",
        "            self.name = name,\n",
        "            self.python = python,\n",
        "            self.database = database,\n",
        "            self.django = django\n",
        "            self.AWS = AWS\n",
        "\n",
        "oz_studentss = [\n",
        "    CreateOzStudentss(\"백현우\",4 ,3 ,3 ,2),\n",
        "    CreateOzStudentss(\"홍혜인\",4 ,5 ,2 ,4),\n",
        "    CreateOzStudentss(\"윤은성\",3 ,4 ,4 ,1),\n",
        "    CreateOzStudentss(\"홍수철\",2 ,3 ,1 ,5)\n",
        "]\n",
        "\n",
        "print(oz_studentss[0].name)\n",
        "print(oz_studentss[0].python)\n",
        "print(oz_studentss[0].database)\n",
        "print(oz_studentss[0].django)\n",
        "print(oz_studentss[0].AWS)"
      ],
      "metadata": {
        "colab": {
          "base_uri": "https://localhost:8080/"
        },
        "id": "Tu3vVb96lc8f",
        "outputId": "565d534c-1d8b-4155-fbd6-a6eb5a4aeccd"
      },
      "execution_count": 6,
      "outputs": [
        {
          "output_type": "stream",
          "name": "stdout",
          "text": [
            "('백현우',)\n",
            "(4,)\n",
            "(3,)\n",
            "3\n",
            "2\n"
          ]
        }
      ]
    },
    {
      "cell_type": "code",
      "source": [
        "class CreateOzStudentt:\n",
        "    def __init__(self, name, python, database, django, AWS):\n",
        "        self.name = name\n",
        "        self.python = python\n",
        "        self.database = database\n",
        "        self.django = django\n",
        "        self.AWS = AWS\n",
        "\n",
        "    def get_sum(self):\n",
        "        return self.python + self.database + self.django + self.AWS\n",
        "\n",
        "    def get_average(self):\n",
        "        return self.get_sum() / 4\n",
        "\n",
        "    def to_string(self):\n",
        "        return f'{self.name}\\t{self.get_sum()}\\t{self.get_average()}'\n",
        "\n",
        "oz_studentss = [\n",
        "    CreateOzStudentt(\"백현우\",4 ,3 ,3 ,2),\n",
        "    CreateOzStudentt(\"홍혜인\",4 ,5 ,2 ,4),\n",
        "    CreateOzStudentt(\"윤은성\",3 ,4 ,4 ,1),\n",
        "    CreateOzStudentt(\"홍수철\",2 ,3 ,1 ,5)\n",
        "]\n",
        "\n",
        "print(\"이름\", \"총점\", \"평균\", sep=\"\\t\")\n",
        "\n",
        "for student in oz_studentss:\n",
        "    print(student.to_string())"
      ],
      "metadata": {
        "colab": {
          "base_uri": "https://localhost:8080/"
        },
        "id": "acI5KuaVmCEC",
        "outputId": "513052c6-4785-454e-85e4-71d6edf56078"
      },
      "execution_count": 7,
      "outputs": [
        {
          "output_type": "stream",
          "name": "stdout",
          "text": [
            "이름\t총점\t평균\n",
            "백현우\t12\t3.0\n",
            "홍혜인\t15\t3.75\n",
            "윤은성\t12\t3.0\n",
            "홍수철\t11\t2.75\n"
          ]
        }
      ]
    },
    {
      "cell_type": "markdown",
      "source": [
        "Chapter44"
      ],
      "metadata": {
        "id": "Bdc0ZeTOjpXx"
      }
    },
    {
      "cell_type": "code",
      "source": [
        "class Student:\n",
        "    def __init__(self):\n",
        "        pass\n",
        "student = Student()\n",
        "\n",
        "print(\"isinstance(student, Student):\", isinstance(student, Student))"
      ],
      "metadata": {
        "colab": {
          "base_uri": "https://localhost:8080/"
        },
        "outputId": "69c46305-9243-454a-c188-cb6cd9955f5c",
        "id": "JrcIvTizmkgB"
      },
      "execution_count": 11,
      "outputs": [
        {
          "output_type": "stream",
          "name": "stdout",
          "text": [
            "isinstance(student, Student): True\n"
          ]
        }
      ]
    },
    {
      "cell_type": "code",
      "source": [
        "class Python:\n",
        "    def study(self):\n",
        "        print(\"파이썬을 수강중입니다.\")\n",
        "\n",
        "class Java:\n",
        "    def teach(self):\n",
        "        print(\"자바를 수강중입니다.\")\n",
        "\n",
        "programming_subjects = [Python(), Python(), Python(), Java(), Python()]\n",
        "\n",
        "for subject in programming_subjects:\n",
        "    if isinstance(subject, Python):\n",
        "        subject.study()\n",
        "    elif isinstance(subject, Java):\n",
        "        subject.teach()\n"
      ],
      "metadata": {
        "colab": {
          "base_uri": "https://localhost:8080/"
        },
        "id": "YXu1r3_rmlxc",
        "outputId": "5c9195a4-ec51-4d70-fd06-e1f21042902c"
      },
      "execution_count": 12,
      "outputs": [
        {
          "output_type": "stream",
          "name": "stdout",
          "text": [
            "파이썬을 수강중입니다.\n",
            "파이썬을 수강중입니다.\n",
            "파이썬을 수강중입니다.\n",
            "자바를 수강중입니다.\n",
            "파이썬을 수강중입니다.\n"
          ]
        }
      ]
    },
    {
      "cell_type": "code",
      "source": [
        "class CreateOzStudenttt:\n",
        "    def __init__(self, name, python, database, django, AWS):\n",
        "        self.name = name\n",
        "        self.python = python\n",
        "        self.database = database\n",
        "        self.django = django\n",
        "        self.AWS = AWS\n",
        "\n",
        "    def get_sum(self):\n",
        "        return self.python + self.database + self.django + self.AWS\n",
        "\n",
        "    def get_average(self):\n",
        "        return self.get_sum() / 4\n",
        "\n",
        "    def __str__(self):\n",
        "        return f'{self.name}\\t{self.get_sum()}\\t{self.get_average()}'\n",
        "\n",
        "oz_studentsss = [\n",
        "    CreateOzStudenttt(\"백현우\",4 ,3 ,3 ,2),\n",
        "    CreateOzStudenttt(\"홍혜인\",4 ,5 ,2 ,4),\n",
        "    CreateOzStudenttt(\"윤은성\",3 ,4 ,4 ,1),\n",
        "    CreateOzStudenttt(\"홍수철\",2 ,3 ,1 ,5)\n",
        "]\n",
        "\n",
        "print(\"이름\", \"총점\", \"평균\", sep=\"\\t\")\n",
        "\n",
        "for student in oz_studentsss:\n",
        "    print(str(student))"
      ],
      "metadata": {
        "colab": {
          "base_uri": "https://localhost:8080/"
        },
        "id": "jE7GeygunLai",
        "outputId": "445fa16b-492b-4ccb-c763-89485ee3c0d2"
      },
      "execution_count": 13,
      "outputs": [
        {
          "output_type": "stream",
          "name": "stdout",
          "text": [
            "이름\t총점\t평균\n",
            "백현우\t12\t3.0\n",
            "홍혜인\t15\t3.75\n",
            "윤은성\t12\t3.0\n",
            "홍수철\t11\t2.75\n"
          ]
        }
      ]
    },
    {
      "cell_type": "markdown",
      "source": [
        "Chapter45"
      ],
      "metadata": {
        "id": "096_GU0CjqZg"
      }
    },
    {
      "cell_type": "code",
      "source": [
        "class CreateOzStudents:\n",
        "\n",
        "    count = 0\n",
        "\n",
        "    def __init__(self, name, python, database, django, AWS):\n",
        "        self.name = name\n",
        "        self.python = python\n",
        "        self.database = database\n",
        "        self.django = django\n",
        "        self.AWS = AWS\n",
        "\n",
        "        CreateOzStudents.count += 1\n",
        "        print(f'{CreateOzStudents.count}번째 수강생의 정보가 추가되었습니다.')\n",
        "\n",
        "\n",
        "oz_studentst = [\n",
        "    CreateOzStudents(\"백현우\",4 ,3 ,3 ,2),\n",
        "    CreateOzStudents(\"홍혜인\",4 ,5 ,2 ,4),\n",
        "    CreateOzStudents(\"윤은성\",3 ,4 ,4 ,1),\n",
        "    CreateOzStudents(\"홍수철\",2 ,3 ,1 ,5)\n",
        "]\n",
        "\n",
        "print()\n",
        "print(f'현재 데이터가 입력된 총 수강생은 {CreateOzStudents.count}입니다.')"
      ],
      "metadata": {
        "colab": {
          "base_uri": "https://localhost:8080/"
        },
        "id": "J8W8GGi4jrOx",
        "outputId": "df99ebec-cb69-4a98-a42a-b493ddcb90b4"
      },
      "execution_count": 14,
      "outputs": [
        {
          "output_type": "stream",
          "name": "stdout",
          "text": [
            "1번째 수강생의 정보가 추가되었습니다.\n",
            "2번째 수강생의 정보가 추가되었습니다.\n",
            "3번째 수강생의 정보가 추가되었습니다.\n",
            "4번째 수강생의 정보가 추가되었습니다.\n",
            "\n",
            "현재 데이터가 입력된 총 수강생은 4입니다.\n"
          ]
        }
      ]
    },
    {
      "cell_type": "code",
      "source": [
        "class CreateOzStudents:\n",
        "    students = []\n",
        "\n",
        "    @classmethod\n",
        "    def print(cls):\n",
        "        print(\"수강생 데이터베이스 정보\")\n",
        "        print(\"이름\\t총점\\t평균\")\n",
        "        for student in cls.students:\n",
        "            print(str(student))\n",
        "\n",
        "    def __init__(self, name, python, database, django, AWS):\n",
        "        self.name = name\n",
        "        self.python = python\n",
        "        self.database = database\n",
        "        self.django = django\n",
        "        self.AWS = AWS\n",
        "        CreateOzStudents.students.append(self)\n",
        "\n",
        "    def get_sum(self):\n",
        "        return self.python + self.database + self.django + self.AWS\n",
        "\n",
        "    def get_average(self):\n",
        "        return self.get_sum() / 4\n",
        "\n",
        "    def __str__(self):\n",
        "        return f'{self.name}\\t{self.get_sum()}\\t{self.get_average()}'\n",
        "\n",
        "CreateOzStudents(\"백현우\",4 ,3 ,3 ,2)\n",
        "CreateOzStudents(\"홍혜인\",4 ,5 ,2 ,4)\n",
        "CreateOzStudents(\"윤은성\",3 ,4 ,4 ,1)\n",
        "CreateOzStudents(\"홍수철\",2 ,3 ,1 ,5)\n",
        "\n",
        "CreateOzStudents.print()"
      ],
      "metadata": {
        "colab": {
          "base_uri": "https://localhost:8080/"
        },
        "id": "hc0nhaL8ooUj",
        "outputId": "22e8a7e0-4663-41f7-acf3-700b05efa13e"
      },
      "execution_count": 16,
      "outputs": [
        {
          "output_type": "stream",
          "name": "stdout",
          "text": [
            "수강생 데이터베이스 정보\n",
            "이름\t총점\t평균\n",
            "백현우\t12\t3.0\n",
            "홍혜인\t15\t3.75\n",
            "윤은성\t12\t3.0\n",
            "홍수철\t11\t2.75\n"
          ]
        }
      ]
    },
    {
      "cell_type": "markdown",
      "source": [
        "Chapter46"
      ],
      "metadata": {
        "id": "j0DxvJhRjrVv"
      }
    },
    {
      "cell_type": "code",
      "source": [
        "import math\n",
        "\n",
        "class oz_Circle:\n",
        "    def __init__(self, radius):\n",
        "        self.__radius = radius\n",
        "    def get_circumference(self):\n",
        "        return 2 * math.pi * self.__radius\n",
        "    def get_area(self):\n",
        "        return math.pi * (self.__radius ** 2)\n",
        "\n",
        "circle = oz_Circle(10)\n",
        "circle.radius = -2\n",
        "print(\"원의 둘레:\", circle.get_circumference())\n",
        "print(\"원의 넓이:\", circle.get_area())"
      ],
      "metadata": {
        "colab": {
          "base_uri": "https://localhost:8080/"
        },
        "id": "ZGJCDSSljs6J",
        "outputId": "f8db20c2-93dc-4acb-e6fa-c15de7f51ecd"
      },
      "execution_count": 19,
      "outputs": [
        {
          "output_type": "stream",
          "name": "stdout",
          "text": [
            "원의 둘레: 62.83185307179586\n",
            "원의 넓이: 314.1592653589793\n"
          ]
        }
      ]
    },
    {
      "cell_type": "markdown",
      "source": [
        "Chapter47"
      ],
      "metadata": {
        "id": "vEU4wl97jtHp"
      }
    },
    {
      "cell_type": "code",
      "source": [
        "class Parent:\n",
        "    def __init__(self):\n",
        "        self.value = \"테스트\"\n",
        "        print(\"Parent 클래스의 __init()__ 메소드가 호출되었습니다.\")\n",
        "    def test(self):\n",
        "        print(\"Parent 클래스의 test() 메소드입니다.\")\n",
        "\n",
        "class Child(Parent):\n",
        "    def __init__(self):\n",
        "        super().__init__()\n",
        "        print(\"Child 클래스의 __init()__ 메소드가 호출되었습니다.\")\n",
        "\n",
        "child = Child()\n",
        "child.test()\n",
        "print(child.value)"
      ],
      "metadata": {
        "colab": {
          "base_uri": "https://localhost:8080/"
        },
        "id": "YstWDXUMjuGI",
        "outputId": "2f3ee62a-d8f5-441d-cbb5-a14fa6e49f9b"
      },
      "execution_count": 20,
      "outputs": [
        {
          "output_type": "stream",
          "name": "stdout",
          "text": [
            "Parent 클래스의 __init()__ 메소드가 호출되었습니다.\n",
            "Child 클래스의 __init()__ 메소드가 호출되었습니다.\n",
            "Parent 클래스의 test() 메소드입니다.\n",
            "테스트\n"
          ]
        }
      ]
    }
  ]
}