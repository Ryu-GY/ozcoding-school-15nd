{
  "nbformat": 4,
  "nbformat_minor": 0,
  "metadata": {
    "colab": {
      "provenance": [],
      "authorship_tag": "ABX9TyN0ZES8LNdiev33jokWHvxE"
    },
    "kernelspec": {
      "name": "python3",
      "display_name": "Python 3"
    },
    "language_info": {
      "name": "python"
    }
  },
  "cells": [
    {
      "cell_type": "markdown",
      "source": [
        "Chapter14"
      ],
      "metadata": {
        "id": "JloSjeL1qvJE"
      }
    },
    {
      "cell_type": "code",
      "execution_count": 1,
      "metadata": {
        "colab": {
          "base_uri": "https://localhost:8080/"
        },
        "id": "2wLO4qzzpsMa",
        "outputId": "7b0edcb9-8194-4acd-93aa-aa7072194875"
      },
      "outputs": [
        {
          "output_type": "stream",
          "name": "stdout",
          "text": [
            "붕어빵 몇개 사실껀가요?4\n",
            "개당 1800원 입니다.\n"
          ]
        }
      ],
      "source": [
        "개수 = int(input(\"붕어빵 몇개 사실껀가요?\"))\n",
        "\n",
        "if 개수 > 3:\n",
        "    print(\"개당 1800원 입니다.\")"
      ]
    },
    {
      "cell_type": "code",
      "source": [
        "개수 = int(input(\"붕어빵 몇개 사실껀가요?\"))\n",
        "\n",
        "if 개수 > 3:\n",
        "    print(\"개당 1800원 입니다.\")\n",
        "\n",
        "if 개수 <= 3:\n",
        "    print(\"개당 2000원 입니다.\")"
      ],
      "metadata": {
        "colab": {
          "base_uri": "https://localhost:8080/"
        },
        "id": "jWaHn7xercU9",
        "outputId": "d79a49c5-35c6-414a-b54c-01a4d8446f11"
      },
      "execution_count": 2,
      "outputs": [
        {
          "output_type": "stream",
          "name": "stdout",
          "text": [
            "붕어빵 몇개 사실껀가요?7\n",
            "개당 1800원 입니다.\n"
          ]
        }
      ]
    },
    {
      "cell_type": "code",
      "source": [
        "의문의_숫자 = 10\n",
        "\n",
        "if 의문의_숫자 > 5:\n",
        "    if 의문의_숫자 < 15:\n",
        "        print(\"의문의 숫자는 5보다 크고 10보다 작습니다.\")"
      ],
      "metadata": {
        "colab": {
          "base_uri": "https://localhost:8080/"
        },
        "id": "xcOfc1i8uCQq",
        "outputId": "d252257c-ab58-40dc-c43a-570f224caf87"
      },
      "execution_count": 3,
      "outputs": [
        {
          "output_type": "stream",
          "name": "stdout",
          "text": [
            "의문의 숫자는 5보다 크고 10보다 작습니다.\n"
          ]
        }
      ]
    },
    {
      "cell_type": "code",
      "source": [
        "개수 = int(input(\"붕어빵 몇개 사실껀가요?\"))\n",
        "\n",
        "if 개수 > 3:\n",
        "    print(\"개당 1800원 입니다.\")\n",
        "else:\n",
        "    print(\"개당 2000원 입니다.\")\n",
        ""
      ],
      "metadata": {
        "colab": {
          "base_uri": "https://localhost:8080/"
        },
        "id": "ekL3GB06uI7O",
        "outputId": "b22259a7-27c4-4a88-d035-70aa99f456d5"
      },
      "execution_count": 4,
      "outputs": [
        {
          "output_type": "stream",
          "name": "stdout",
          "text": [
            "붕어빵 몇개 사실껀가요?65\n",
            "개당 1800원 입니다.\n"
          ]
        }
      ]
    },
    {
      "cell_type": "code",
      "source": [
        "개수 = int(input(\"붕어빵 몇개 사실껀가요?\"))\n",
        "\n",
        "if 개수 > 3:\n",
        "    print(\"개당 1800원 입니다.\")\n",
        "else:\n",
        "    print(\"개당 2000원 입니다.\")\n",
        ""
      ],
      "metadata": {
        "colab": {
          "base_uri": "https://localhost:8080/"
        },
        "id": "wb97r5rCuN-q",
        "outputId": "fd0ff3c6-1c01-4eb1-daac-8ab7075e2f8a"
      },
      "execution_count": 5,
      "outputs": [
        {
          "output_type": "stream",
          "name": "stdout",
          "text": [
            "붕어빵 몇개 사실껀가요?1\n",
            "개당 2000원 입니다.\n"
          ]
        }
      ]
    },
    {
      "cell_type": "code",
      "source": [
        "if not '':\n",
        "    print(True)\n",
        "else:\n",
        "    print(False)"
      ],
      "metadata": {
        "colab": {
          "base_uri": "https://localhost:8080/"
        },
        "id": "PSVzMZeCuTuO",
        "outputId": "49d1bfcb-89df-4e5a-bfce-73df09bd5381"
      },
      "execution_count": 16,
      "outputs": [
        {
          "output_type": "stream",
          "name": "stdout",
          "text": [
            "True\n"
          ]
        }
      ]
    },
    {
      "cell_type": "code",
      "source": [
        "a, b = 10, 30\n",
        "\n",
        "if a==10 and b ==30:\n",
        "    print(\"동일합니다.\")\n",
        "else:\n",
        "    print(\"동일하지 않습니다.\")\n",
        "\n",
        "if a==10 or b ==30:\n",
        "    print(\"동일합니다.\")\n",
        "else:\n",
        "    print(\"동일하지 않습니다.\")\n",
        "\n",
        "if a>= 10 and a <20:\n",
        "    print(\"10보다 크고 20보다 작습니다.\")\n",
        "\n",
        "if 10 <= a < 20:\n",
        "    print(\"10보다 크고 20보다 작습니다.\")"
      ],
      "metadata": {
        "colab": {
          "base_uri": "https://localhost:8080/"
        },
        "id": "DC0x8dH8uoyE",
        "outputId": "02e41add-9211-40ca-d63b-0421732aa138"
      },
      "execution_count": 18,
      "outputs": [
        {
          "output_type": "stream",
          "name": "stdout",
          "text": [
            "동일합니다.\n",
            "동일합니다.\n",
            "10보다 크고 20보다 작습니다.\n",
            "10보다 크고 20보다 작습니다.\n"
          ]
        }
      ]
    },
    {
      "cell_type": "code",
      "source": [
        "맛 = input(\"붕어빵 맛을 골라주세요(팥, 슈크림, 피자)\")\n",
        "\n",
        "if 맛 == \"팥\":\n",
        "    print(f'{맛}을 선택하셨습니다.')\n",
        "elif 맛 == \"슈크림\":\n",
        "    print(f'{맛}을 선택하셨습니다.')\n",
        "else:\n",
        "    print(f'{맛}을 선택하셨습니다.')"
      ],
      "metadata": {
        "colab": {
          "base_uri": "https://localhost:8080/"
        },
        "id": "EICP_UkKusmh",
        "outputId": "5489b698-db44-4caa-c807-75d8522302e6"
      },
      "execution_count": 20,
      "outputs": [
        {
          "output_type": "stream",
          "name": "stdout",
          "text": [
            "붕어빵 맛을 골라주세요(팥, 슈크림, 피자)슈크림\n",
            "슈크림을 선택하셨습니다.\n"
          ]
        }
      ]
    },
    {
      "cell_type": "code",
      "source": [
        "a = input()\n",
        "\n",
        "가운데_인덱스 = int(len(a) / 2)\n",
        "\n",
        "if len(a) % 2 != 0 :\n",
        "    print(a[가운데_인덱스])\n",
        "else:\n",
        "    print(a[가운데_인덱스-1 : 가운데_인덱스+1])"
      ],
      "metadata": {
        "colab": {
          "base_uri": "https://localhost:8080/"
        },
        "id": "Za4-moBpu_LO",
        "outputId": "753c4e7e-2cca-4a0c-f657-b46e0138a21f"
      },
      "execution_count": 22,
      "outputs": [
        {
          "output_type": "stream",
          "name": "stdout",
          "text": [
            "poiuytrewq\n",
            "yt\n"
          ]
        }
      ]
    },
    {
      "cell_type": "markdown",
      "source": [
        "Chapter15"
      ],
      "metadata": {
        "id": "oeEvqD0Bqxoc"
      }
    },
    {
      "cell_type": "code",
      "source": [
        "for i in range(5):\n",
        "    print(\"반복해라!\")"
      ],
      "metadata": {
        "colab": {
          "base_uri": "https://localhost:8080/"
        },
        "id": "st1vBKcYq28a",
        "outputId": "102f9121-ee98-4d31-d9bf-7642b063c49d"
      },
      "execution_count": 23,
      "outputs": [
        {
          "output_type": "stream",
          "name": "stdout",
          "text": [
            "반복해라!\n",
            "반복해라!\n",
            "반복해라!\n",
            "반복해라!\n",
            "반복해라!\n"
          ]
        }
      ]
    },
    {
      "cell_type": "code",
      "source": [
        "for i in range(5):\n",
        "    print(\"반복 한 번 더\", i)"
      ],
      "metadata": {
        "colab": {
          "base_uri": "https://localhost:8080/"
        },
        "id": "381is40pw2Im",
        "outputId": "ebf39d0f-167c-4006-cc5f-6b39ffe5d1f2"
      },
      "execution_count": 24,
      "outputs": [
        {
          "output_type": "stream",
          "name": "stdout",
          "text": [
            "반복 한 번 더 0\n",
            "반복 한 번 더 1\n",
            "반복 한 번 더 2\n",
            "반복 한 번 더 3\n",
            "반복 한 번 더 4\n"
          ]
        }
      ]
    },
    {
      "cell_type": "code",
      "source": [
        "for i in range(5):\n",
        "    print(\"반복\", i, \"번 더\")"
      ],
      "metadata": {
        "colab": {
          "base_uri": "https://localhost:8080/"
        },
        "id": "75FVsMIGw5w2",
        "outputId": "2329f1e4-3440-4ec3-c710-f072127f0a13"
      },
      "execution_count": 25,
      "outputs": [
        {
          "output_type": "stream",
          "name": "stdout",
          "text": [
            "반복 0 번 더\n",
            "반복 1 번 더\n",
            "반복 2 번 더\n",
            "반복 3 번 더\n",
            "반복 4 번 더\n"
          ]
        }
      ]
    },
    {
      "cell_type": "code",
      "source": [
        "for i in reversed(range(10)):\n",
        "        print(i)"
      ],
      "metadata": {
        "colab": {
          "base_uri": "https://localhost:8080/"
        },
        "id": "NBwilWBcxHeN",
        "outputId": "b1196d0a-6d76-46d7-cb1d-dbe7205dfe3a"
      },
      "execution_count": 30,
      "outputs": [
        {
          "output_type": "stream",
          "name": "stdout",
          "text": [
            "9\n",
            "8\n",
            "7\n",
            "6\n",
            "5\n",
            "4\n",
            "3\n",
            "2\n",
            "1\n",
            "0\n"
          ]
        }
      ]
    },
    {
      "cell_type": "code",
      "source": [
        "for i in reversed(\"고양이\"):\n",
        "     print(i, end='')"
      ],
      "metadata": {
        "colab": {
          "base_uri": "https://localhost:8080/"
        },
        "id": "eXQQpwnKxLbI",
        "outputId": "c6823031-bd64-405b-fde1-4d6fe6645df3"
      },
      "execution_count": 33,
      "outputs": [
        {
          "output_type": "stream",
          "name": "stdout",
          "text": [
            "이양고"
          ]
        }
      ]
    },
    {
      "cell_type": "code",
      "source": [
        "정수 = [10, 5, 8]\n",
        "부호 = [True, False, True]\n",
        "\n",
        "합 = 0\n",
        "\n",
        "for k, v in zip(부호, 정수):\n",
        "    if k:\n",
        "        합 += v\n",
        "    else:\n",
        "        합 -= v\n",
        "\n",
        "print(f'총 합은 {합}입니다.')"
      ],
      "metadata": {
        "colab": {
          "base_uri": "https://localhost:8080/"
        },
        "id": "eIAngeg5xUz8",
        "outputId": "0a45baeb-3d74-463f-93d6-c488d5427b7b"
      },
      "execution_count": 34,
      "outputs": [
        {
          "output_type": "stream",
          "name": "stdout",
          "text": [
            "총 합은 13입니다.\n"
          ]
        }
      ]
    },
    {
      "cell_type": "markdown",
      "source": [
        "Chapter16"
      ],
      "metadata": {
        "id": "liVW59EAqyAH"
      }
    },
    {
      "cell_type": "code",
      "source": [
        "i = 0\n",
        "while i < 10:\n",
        "    print('야옹')\n",
        "    i += 1"
      ],
      "metadata": {
        "colab": {
          "base_uri": "https://localhost:8080/"
        },
        "id": "V6maIcEyq3V9",
        "outputId": "66d0cae5-3109-435c-c82c-b4ad91b38045"
      },
      "execution_count": 38,
      "outputs": [
        {
          "output_type": "stream",
          "name": "stdout",
          "text": [
            "야옹\n",
            "야옹\n",
            "야옹\n",
            "야옹\n",
            "야옹\n",
            "야옹\n",
            "야옹\n",
            "야옹\n",
            "야옹\n",
            "야옹\n"
          ]
        }
      ]
    },
    {
      "cell_type": "code",
      "source": [
        "i = 1\n",
        "while i < 10:\n",
        "    print('먕',i)\n",
        "    i+=1\n",
        "\n",
        "i = 10\n",
        "while i > 0:\n",
        "    print('먀앙',i)\n",
        "    i-=1"
      ],
      "metadata": {
        "colab": {
          "base_uri": "https://localhost:8080/"
        },
        "id": "rLFSNXscyHXW",
        "outputId": "04bc0f71-0ff8-4601-ae33-d213ef6298fe"
      },
      "execution_count": 39,
      "outputs": [
        {
          "output_type": "stream",
          "name": "stdout",
          "text": [
            "먕 1\n",
            "먕 2\n",
            "먕 3\n",
            "먕 4\n",
            "먕 5\n",
            "먕 6\n",
            "먕 7\n",
            "먕 8\n",
            "먕 9\n",
            "먀앙 10\n",
            "먀앙 9\n",
            "먀앙 8\n",
            "먀앙 7\n",
            "먀앙 6\n",
            "먀앙 5\n",
            "먀앙 4\n",
            "먀앙 3\n",
            "먀앙 2\n",
            "먀앙 1\n"
          ]
        }
      ]
    },
    {
      "cell_type": "code",
      "source": [
        "import random\n",
        "\n",
        "i = 0\n",
        "while i != 4:\n",
        "    i = random.randint(1,6)\n",
        "    print(i)"
      ],
      "metadata": {
        "colab": {
          "base_uri": "https://localhost:8080/"
        },
        "id": "cxbqEG2YySwP",
        "outputId": "8cfd024d-3006-498f-d4eb-b76bf97e0c45"
      },
      "execution_count": 46,
      "outputs": [
        {
          "output_type": "stream",
          "name": "stdout",
          "text": [
            "3\n",
            "3\n",
            "3\n",
            "6\n",
            "3\n",
            "6\n",
            "6\n",
            "4\n"
          ]
        }
      ]
    },
    {
      "cell_type": "code",
      "source": [
        "감자 = 14\n",
        "while 감자 > 10:\n",
        "    print(\"감자\", 감자, \"개 남았습니다.\")\n",
        "    if 감자 ==0:\n",
        "        break\n",
        "    감자 -=1\n",
        "else:\n",
        "    print(\"감자 다 팔렸습니다.\")"
      ],
      "metadata": {
        "colab": {
          "base_uri": "https://localhost:8080/"
        },
        "id": "kS-_aOheyheM",
        "outputId": "31c6693e-1ec7-4137-c46f-935e3317ec1b"
      },
      "execution_count": 52,
      "outputs": [
        {
          "output_type": "stream",
          "name": "stdout",
          "text": [
            "감자 14 개 남았습니다.\n",
            "감자 13 개 남았습니다.\n",
            "감자 12 개 남았습니다.\n",
            "감자 11 개 남았습니다.\n",
            "감자 다 팔렸습니다.\n"
          ]
        }
      ]
    },
    {
      "cell_type": "code",
      "source": [
        "i = 0\n",
        "while True:\n",
        "    print(i)\n",
        "    i+=1\n",
        "    if i == 10:\n",
        "        break\n",
        "\n",
        "for i in range(100):\n",
        "    print(i)\n",
        "    if i == 10:\n",
        "        break"
      ],
      "metadata": {
        "colab": {
          "base_uri": "https://localhost:8080/"
        },
        "id": "VoLdRiGfyyJY",
        "outputId": "94ee0dbd-ed54-461b-e2b8-d53a6c475ae3"
      },
      "execution_count": 55,
      "outputs": [
        {
          "output_type": "stream",
          "name": "stdout",
          "text": [
            "0\n",
            "1\n",
            "2\n",
            "3\n",
            "4\n",
            "5\n",
            "6\n",
            "7\n",
            "8\n",
            "9\n",
            "0\n",
            "1\n",
            "2\n",
            "3\n",
            "4\n",
            "5\n",
            "6\n",
            "7\n",
            "8\n",
            "9\n",
            "10\n"
          ]
        }
      ]
    },
    {
      "cell_type": "code",
      "source": [
        "i = 0\n",
        "while i < 10:\n",
        "    i+=1\n",
        "    if i % 2 == 0:\n",
        "        continue\n",
        "    print(i)\n",
        "\n",
        "for i in range(10):\n",
        "    if i % 2 == 0:\n",
        "        continue\n",
        "    print(i)"
      ],
      "metadata": {
        "colab": {
          "base_uri": "https://localhost:8080/"
        },
        "id": "bCV5v0-Qy23D",
        "outputId": "d19fe955-753c-48bc-f096-e8795e23becf"
      },
      "execution_count": 57,
      "outputs": [
        {
          "output_type": "stream",
          "name": "stdout",
          "text": [
            "1\n",
            "3\n",
            "5\n",
            "7\n",
            "9\n",
            "1\n",
            "3\n",
            "5\n",
            "7\n",
            "9\n"
          ]
        }
      ]
    }
  ]
}