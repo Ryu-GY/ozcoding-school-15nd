{
  "nbformat": 4,
  "nbformat_minor": 0,
  "metadata": {
    "colab": {
      "provenance": [],
      "authorship_tag": "ABX9TyPJyrvs1R9WZPsZBg42c5K4"
    },
    "kernelspec": {
      "name": "python3",
      "display_name": "Python 3"
    },
    "language_info": {
      "name": "python"
    }
  },
  "cells": [
    {
      "cell_type": "markdown",
      "source": [
        "Chapter21"
      ],
      "metadata": {
        "id": "-eQUJfcPTqoa"
      }
    },
    {
      "cell_type": "code",
      "execution_count": 9,
      "metadata": {
        "colab": {
          "base_uri": "https://localhost:8080/"
        },
        "id": "VeX_Hrs2Nn19",
        "outputId": "471ff587-e14b-44bd-fd07-c38f3354ff1d"
      },
      "outputs": [
        {
          "output_type": "stream",
          "name": "stdout",
          "text": [
            "oz코딩스쿨\n",
            "oz코딩스쿨\n",
            "oz코딩스쿨\n",
            "oz코딩스쿨\n",
            "oz코딩스쿨\n"
          ]
        }
      ],
      "source": [
        "def oz():\n",
        "    for i in range(5):\n",
        "        print('oz코딩스쿨')\n",
        "\n",
        "oz()"
      ]
    },
    {
      "cell_type": "code",
      "source": [
        "print('어떤가요 이것도 힘수였어요')"
      ],
      "metadata": {
        "colab": {
          "base_uri": "https://localhost:8080/"
        },
        "id": "peSg1pFcQoBq",
        "outputId": "d70465f6-971f-4dd4-e26b-1dfbc50e4b03"
      },
      "execution_count": 10,
      "outputs": [
        {
          "output_type": "stream",
          "name": "stdout",
          "text": [
            "어떤가요 이것도 힘수였어요\n"
          ]
        }
      ]
    },
    {
      "cell_type": "code",
      "source": [
        "print()"
      ],
      "metadata": {
        "colab": {
          "base_uri": "https://localhost:8080/"
        },
        "id": "EcfKRe_YQqir",
        "outputId": "25b3124d-5080-4d38-bfbf-fcc64e173447"
      },
      "execution_count": 11,
      "outputs": [
        {
          "output_type": "stream",
          "name": "stdout",
          "text": [
            "\n"
          ]
        }
      ]
    },
    {
      "cell_type": "code",
      "source": [
        "def oz(message, n):\n",
        "    for i in range(n):\n",
        "        print(message)\n",
        "\n",
        "oz('오즈코딩스쿨', 5)"
      ],
      "metadata": {
        "colab": {
          "base_uri": "https://localhost:8080/"
        },
        "id": "TYNyAow6QsQB",
        "outputId": "57ee6d81-d572-48de-87b1-d18ab2422138"
      },
      "execution_count": 12,
      "outputs": [
        {
          "output_type": "stream",
          "name": "stdout",
          "text": [
            "오즈코딩스쿨\n",
            "오즈코딩스쿨\n",
            "오즈코딩스쿨\n",
            "오즈코딩스쿨\n",
            "오즈코딩스쿨\n"
          ]
        }
      ]
    },
    {
      "cell_type": "markdown",
      "source": [
        "Chapter22"
      ],
      "metadata": {
        "id": "ABUH5P8FToMz"
      }
    },
    {
      "cell_type": "code",
      "source": [
        "#매개변수를 적게\n",
        "def oz(message, n):\n",
        "    for i in range(n):\n",
        "        print(message)\n",
        "\n",
        "oz('오즈코딩스쿨')"
      ],
      "metadata": {
        "colab": {
          "base_uri": "https://localhost:8080/",
          "height": 180
        },
        "id": "AL-sjEkjSJ3D",
        "outputId": "2d77264d-9723-43b0-a57c-261a6178999a"
      },
      "execution_count": 13,
      "outputs": [
        {
          "output_type": "error",
          "ename": "TypeError",
          "evalue": "oz() missing 1 required positional argument: 'n'",
          "traceback": [
            "\u001b[0;31m---------------------------------------------------------------------------\u001b[0m",
            "\u001b[0;31mTypeError\u001b[0m                                 Traceback (most recent call last)",
            "\u001b[0;32m/tmp/ipython-input-3196063760.py\u001b[0m in \u001b[0;36m<cell line: 0>\u001b[0;34m()\u001b[0m\n\u001b[1;32m      4\u001b[0m         \u001b[0mprint\u001b[0m\u001b[0;34m(\u001b[0m\u001b[0mmessage\u001b[0m\u001b[0;34m)\u001b[0m\u001b[0;34m\u001b[0m\u001b[0;34m\u001b[0m\u001b[0m\n\u001b[1;32m      5\u001b[0m \u001b[0;34m\u001b[0m\u001b[0m\n\u001b[0;32m----> 6\u001b[0;31m \u001b[0moz\u001b[0m\u001b[0;34m(\u001b[0m\u001b[0;34m'오즈코딩스쿨'\u001b[0m\u001b[0;34m)\u001b[0m\u001b[0;34m\u001b[0m\u001b[0;34m\u001b[0m\u001b[0m\n\u001b[0m",
            "\u001b[0;31mTypeError\u001b[0m: oz() missing 1 required positional argument: 'n'"
          ]
        }
      ]
    },
    {
      "cell_type": "code",
      "source": [
        "#매개변수를 많이\n",
        "def oz(message, n):\n",
        "    for i in range(n):\n",
        "        print(message)\n",
        "\n",
        "oz('오즈코딩스쿨', 5, 3)"
      ],
      "metadata": {
        "colab": {
          "base_uri": "https://localhost:8080/",
          "height": 180
        },
        "id": "1MWAqDT1S0YG",
        "outputId": "d417681e-0982-46e7-d604-68c84072ecc7"
      },
      "execution_count": 14,
      "outputs": [
        {
          "output_type": "error",
          "ename": "TypeError",
          "evalue": "oz() takes 2 positional arguments but 3 were given",
          "traceback": [
            "\u001b[0;31m---------------------------------------------------------------------------\u001b[0m",
            "\u001b[0;31mTypeError\u001b[0m                                 Traceback (most recent call last)",
            "\u001b[0;32m/tmp/ipython-input-3413370204.py\u001b[0m in \u001b[0;36m<cell line: 0>\u001b[0;34m()\u001b[0m\n\u001b[1;32m      4\u001b[0m         \u001b[0mprint\u001b[0m\u001b[0;34m(\u001b[0m\u001b[0mmessage\u001b[0m\u001b[0;34m)\u001b[0m\u001b[0;34m\u001b[0m\u001b[0;34m\u001b[0m\u001b[0m\n\u001b[1;32m      5\u001b[0m \u001b[0;34m\u001b[0m\u001b[0m\n\u001b[0;32m----> 6\u001b[0;31m \u001b[0moz\u001b[0m\u001b[0;34m(\u001b[0m\u001b[0;34m'오즈코딩스쿨'\u001b[0m\u001b[0;34m,\u001b[0m \u001b[0;36m5\u001b[0m\u001b[0;34m,\u001b[0m \u001b[0;36m3\u001b[0m\u001b[0;34m)\u001b[0m\u001b[0;34m\u001b[0m\u001b[0;34m\u001b[0m\u001b[0m\n\u001b[0m",
            "\u001b[0;31mTypeError\u001b[0m: oz() takes 2 positional arguments but 3 were given"
          ]
        }
      ]
    },
    {
      "cell_type": "code",
      "source": [
        "print('하나', 2, 3, '넷')\n"
      ],
      "metadata": {
        "colab": {
          "base_uri": "https://localhost:8080/"
        },
        "id": "leV1CzvaT7Wp",
        "outputId": "87258f41-2339-4c1a-b7b3-d9a43c972ea2"
      },
      "execution_count": 15,
      "outputs": [
        {
          "output_type": "stream",
          "name": "stdout",
          "text": [
            "하나 2 3 넷\n"
          ]
        }
      ]
    },
    {
      "cell_type": "code",
      "source": [
        "def oz(n, *values):\n",
        "    for i in range(n):\n",
        "        for value in values:\n",
        "            print(value)\n",
        "        print()\n",
        "\n",
        "oz(5, \"짱구\", \"철수\", \"맹구\", \"유리\", \"떡잎마을 방범대\")"
      ],
      "metadata": {
        "colab": {
          "base_uri": "https://localhost:8080/"
        },
        "id": "-1o8Gz-OT-T2",
        "outputId": "c03432ce-4d4f-4079-ba7d-4a31d8f93a43"
      },
      "execution_count": 16,
      "outputs": [
        {
          "output_type": "stream",
          "name": "stdout",
          "text": [
            "짱구\n",
            "철수\n",
            "맹구\n",
            "유리\n",
            "떡잎마을 방범대\n",
            "\n",
            "짱구\n",
            "철수\n",
            "맹구\n",
            "유리\n",
            "떡잎마을 방범대\n",
            "\n",
            "짱구\n",
            "철수\n",
            "맹구\n",
            "유리\n",
            "떡잎마을 방범대\n",
            "\n",
            "짱구\n",
            "철수\n",
            "맹구\n",
            "유리\n",
            "떡잎마을 방범대\n",
            "\n",
            "짱구\n",
            "철수\n",
            "맹구\n",
            "유리\n",
            "떡잎마을 방범대\n",
            "\n"
          ]
        }
      ]
    },
    {
      "cell_type": "code",
      "source": [
        "def oz(*values, n):\n",
        "    for i in range(n):\n",
        "        for value in values:\n",
        "            print(value)\n",
        "        print()\n",
        "\n",
        "oz(\"훈이\", \"타도\", \"이훈이\", \"퇴출\", 4)"
      ],
      "metadata": {
        "colab": {
          "base_uri": "https://localhost:8080/",
          "height": 180
        },
        "id": "PB07ezFMUPOE",
        "outputId": "73397193-4e3b-4cfc-9c89-b37816c43e44"
      },
      "execution_count": 22,
      "outputs": [
        {
          "output_type": "error",
          "ename": "TypeError",
          "evalue": "oz() missing 1 required keyword-only argument: 'n'",
          "traceback": [
            "\u001b[0;31m---------------------------------------------------------------------------\u001b[0m",
            "\u001b[0;31mTypeError\u001b[0m                                 Traceback (most recent call last)",
            "\u001b[0;32m/tmp/ipython-input-283020216.py\u001b[0m in \u001b[0;36m<cell line: 0>\u001b[0;34m()\u001b[0m\n\u001b[1;32m      5\u001b[0m         \u001b[0mprint\u001b[0m\u001b[0;34m(\u001b[0m\u001b[0;34m)\u001b[0m\u001b[0;34m\u001b[0m\u001b[0;34m\u001b[0m\u001b[0m\n\u001b[1;32m      6\u001b[0m \u001b[0;34m\u001b[0m\u001b[0m\n\u001b[0;32m----> 7\u001b[0;31m \u001b[0moz\u001b[0m\u001b[0;34m(\u001b[0m\u001b[0;34m\"훈이\"\u001b[0m\u001b[0;34m,\u001b[0m \u001b[0;34m\"타도\"\u001b[0m\u001b[0;34m,\u001b[0m \u001b[0;34m\"이훈이\"\u001b[0m\u001b[0;34m,\u001b[0m \u001b[0;34m\"퇴출\"\u001b[0m\u001b[0;34m,\u001b[0m \u001b[0;36m4\u001b[0m\u001b[0;34m)\u001b[0m\u001b[0;34m\u001b[0m\u001b[0;34m\u001b[0m\u001b[0m\n\u001b[0m",
            "\u001b[0;31mTypeError\u001b[0m: oz() missing 1 required keyword-only argument: 'n'"
          ]
        }
      ]
    },
    {
      "cell_type": "markdown",
      "source": [
        "Chapter23"
      ],
      "metadata": {
        "id": "71Oz53UkUiXA"
      }
    },
    {
      "cell_type": "code",
      "source": [
        "def oz(value, n=2):\n",
        "    for i in range(n):\n",
        "        print(value)\n",
        "\n",
        "oz(\"일반 매개변수 다음에 기본 매개변수를 배치해야 합니다.\")"
      ],
      "metadata": {
        "colab": {
          "base_uri": "https://localhost:8080/"
        },
        "id": "FXwr_I2yUcLp",
        "outputId": "53831dd7-4940-46b0-c256-a252815b0c36"
      },
      "execution_count": 18,
      "outputs": [
        {
          "output_type": "stream",
          "name": "stdout",
          "text": [
            "일반 매개변수 다음에 기본 매개변수를 배치해야 합니다.\n",
            "일반 매개변수 다음에 기본 매개변수를 배치해야 합니다.\n"
          ]
        }
      ]
    },
    {
      "cell_type": "code",
      "source": [
        "def oz(value, n=2):\n",
        "    for i in range(n):\n",
        "        print(value)\n",
        "\n",
        "oz(\"일반 매개변수 다음에 기본 매개변수를 배치해야 합니다.\", n=5)"
      ],
      "metadata": {
        "colab": {
          "base_uri": "https://localhost:8080/"
        },
        "id": "Ps0nA_QUUk58",
        "outputId": "46eb30e7-f3b1-4f00-cf21-61983de4a68f"
      },
      "execution_count": 19,
      "outputs": [
        {
          "output_type": "stream",
          "name": "stdout",
          "text": [
            "일반 매개변수 다음에 기본 매개변수를 배치해야 합니다.\n",
            "일반 매개변수 다음에 기본 매개변수를 배치해야 합니다.\n",
            "일반 매개변수 다음에 기본 매개변수를 배치해야 합니다.\n",
            "일반 매개변수 다음에 기본 매개변수를 배치해야 합니다.\n",
            "일반 매개변수 다음에 기본 매개변수를 배치해야 합니다.\n"
          ]
        }
      ]
    },
    {
      "cell_type": "code",
      "source": [
        "def oz(n=2, value):\n",
        "    for i in range(n):\n",
        "        print(value)\n",
        "\n",
        "oz(\"일반 매개변수 다음에 기본 매개변수를 배치해야 합니다.\")"
      ],
      "metadata": {
        "colab": {
          "base_uri": "https://localhost:8080/",
          "height": 108
        },
        "id": "tTMEFNxCVGN1",
        "outputId": "8f3e7857-b10f-476b-99e2-844f06d91f1a"
      },
      "execution_count": 23,
      "outputs": [
        {
          "output_type": "error",
          "ename": "SyntaxError",
          "evalue": "parameter without a default follows parameter with a default (ipython-input-51992979.py, line 1)",
          "traceback": [
            "\u001b[0;36m  File \u001b[0;32m\"/tmp/ipython-input-51992979.py\"\u001b[0;36m, line \u001b[0;32m1\u001b[0m\n\u001b[0;31m    def oz(n=2, value):\u001b[0m\n\u001b[0m                ^\u001b[0m\n\u001b[0;31mSyntaxError\u001b[0m\u001b[0;31m:\u001b[0m parameter without a default follows parameter with a default\n"
          ]
        }
      ]
    },
    {
      "cell_type": "markdown",
      "source": [
        "Chapter24"
      ],
      "metadata": {
        "id": "9DSZgBNiVPfD"
      }
    },
    {
      "cell_type": "code",
      "source": [
        "def oz(n=3, *values):\n",
        "    for i in range(n):\n",
        "        for value in values:\n",
        "            print(value)\n",
        "        print()\n",
        "\n",
        "oz(\"기본 매개변수 다음에\", \"가변 매개변수를\", \"넣을 수 있을까요?\")"
      ],
      "metadata": {
        "colab": {
          "base_uri": "https://localhost:8080/",
          "height": 305
        },
        "id": "mwoSTK4ZVIZz",
        "outputId": "7288216e-b86e-4219-c5f3-d05893232798"
      },
      "execution_count": 24,
      "outputs": [
        {
          "output_type": "error",
          "ename": "TypeError",
          "evalue": "'str' object cannot be interpreted as an integer",
          "traceback": [
            "\u001b[0;31m---------------------------------------------------------------------------\u001b[0m",
            "\u001b[0;31mTypeError\u001b[0m                                 Traceback (most recent call last)",
            "\u001b[0;32m/tmp/ipython-input-2774339426.py\u001b[0m in \u001b[0;36m<cell line: 0>\u001b[0;34m()\u001b[0m\n\u001b[1;32m      5\u001b[0m         \u001b[0mprint\u001b[0m\u001b[0;34m(\u001b[0m\u001b[0;34m)\u001b[0m\u001b[0;34m\u001b[0m\u001b[0;34m\u001b[0m\u001b[0m\n\u001b[1;32m      6\u001b[0m \u001b[0;34m\u001b[0m\u001b[0m\n\u001b[0;32m----> 7\u001b[0;31m \u001b[0moz\u001b[0m\u001b[0;34m(\u001b[0m\u001b[0;34m\"기본 매개변수 다음에\"\u001b[0m\u001b[0;34m,\u001b[0m \u001b[0;34m\"가변 매개변수를\"\u001b[0m\u001b[0;34m,\u001b[0m \u001b[0;34m\"넣을 수 있을까요?\"\u001b[0m\u001b[0;34m)\u001b[0m\u001b[0;34m\u001b[0m\u001b[0;34m\u001b[0m\u001b[0m\n\u001b[0m",
            "\u001b[0;32m/tmp/ipython-input-2774339426.py\u001b[0m in \u001b[0;36moz\u001b[0;34m(n, *values)\u001b[0m\n\u001b[1;32m      1\u001b[0m \u001b[0;32mdef\u001b[0m \u001b[0moz\u001b[0m\u001b[0;34m(\u001b[0m\u001b[0mn\u001b[0m\u001b[0;34m=\u001b[0m\u001b[0;36m3\u001b[0m\u001b[0;34m,\u001b[0m \u001b[0;34m*\u001b[0m\u001b[0mvalues\u001b[0m\u001b[0;34m)\u001b[0m\u001b[0;34m:\u001b[0m\u001b[0;34m\u001b[0m\u001b[0;34m\u001b[0m\u001b[0m\n\u001b[0;32m----> 2\u001b[0;31m     \u001b[0;32mfor\u001b[0m \u001b[0mi\u001b[0m \u001b[0;32min\u001b[0m \u001b[0mrange\u001b[0m\u001b[0;34m(\u001b[0m\u001b[0mn\u001b[0m\u001b[0;34m)\u001b[0m\u001b[0;34m:\u001b[0m\u001b[0;34m\u001b[0m\u001b[0;34m\u001b[0m\u001b[0m\n\u001b[0m\u001b[1;32m      3\u001b[0m         \u001b[0;32mfor\u001b[0m \u001b[0mvalue\u001b[0m \u001b[0;32min\u001b[0m \u001b[0mvalues\u001b[0m\u001b[0;34m:\u001b[0m\u001b[0;34m\u001b[0m\u001b[0;34m\u001b[0m\u001b[0m\n\u001b[1;32m      4\u001b[0m             \u001b[0mprint\u001b[0m\u001b[0;34m(\u001b[0m\u001b[0mvalue\u001b[0m\u001b[0;34m)\u001b[0m\u001b[0;34m\u001b[0m\u001b[0;34m\u001b[0m\u001b[0m\n\u001b[1;32m      5\u001b[0m         \u001b[0mprint\u001b[0m\u001b[0;34m(\u001b[0m\u001b[0;34m)\u001b[0m\u001b[0;34m\u001b[0m\u001b[0;34m\u001b[0m\u001b[0m\n",
            "\u001b[0;31mTypeError\u001b[0m: 'str' object cannot be interpreted as an integer"
          ]
        }
      ]
    },
    {
      "cell_type": "code",
      "source": [
        "def oz(*values, n=3):\n",
        "    for i in range(n):\n",
        "        for value in values:\n",
        "            print(value)\n",
        "        print()\n",
        "\n",
        "oz(\"기본 매개변수 다음에\", \"가변 매개변수를\", \"넣을 수 있을까요?\", 10)"
      ],
      "metadata": {
        "colab": {
          "base_uri": "https://localhost:8080/"
        },
        "id": "t9G9nRNQVOG1",
        "outputId": "41381f1a-3124-4331-8636-802aa033950f"
      },
      "execution_count": 26,
      "outputs": [
        {
          "output_type": "stream",
          "name": "stdout",
          "text": [
            "기본 매개변수 다음에\n",
            "가변 매개변수를\n",
            "넣을 수 있을까요?\n",
            "10\n",
            "\n",
            "기본 매개변수 다음에\n",
            "가변 매개변수를\n",
            "넣을 수 있을까요?\n",
            "10\n",
            "\n",
            "기본 매개변수 다음에\n",
            "가변 매개변수를\n",
            "넣을 수 있을까요?\n",
            "10\n",
            "\n"
          ]
        }
      ]
    },
    {
      "cell_type": "code",
      "source": [
        "listm = [\"안\", \"녕\", \"하\", \"세\", \"요\"]\n",
        "for i in listm:\n",
        "    print(i)"
      ],
      "metadata": {
        "colab": {
          "base_uri": "https://localhost:8080/"
        },
        "id": "zK_wyNDyVU1D",
        "outputId": "7b15f6e1-413c-4d1c-fedc-4c3296938370"
      },
      "execution_count": 25,
      "outputs": [
        {
          "output_type": "stream",
          "name": "stdout",
          "text": [
            "안\n",
            "녕\n",
            "하\n",
            "세\n",
            "요\n"
          ]
        }
      ]
    },
    {
      "cell_type": "code",
      "source": [
        "listm = [\"안\", \"녕\", \"하\", \"세\", \"요\"]\n",
        "for i in listm:\n",
        "    print(i, end=\"\")"
      ],
      "metadata": {
        "colab": {
          "base_uri": "https://localhost:8080/"
        },
        "id": "E6TUiM1MVYsM",
        "outputId": "487727e6-0814-4b3d-cdbc-bb67edfd2ca9"
      },
      "execution_count": 27,
      "outputs": [
        {
          "output_type": "stream",
          "name": "stdout",
          "text": [
            "안녕하세요"
          ]
        }
      ]
    },
    {
      "cell_type": "code",
      "source": [
        "def oz(x, y=20, h=10):\n",
        "    print(x * y * h)\n",
        "\n",
        "oz(10)\n",
        "oz(10, y=10)\n",
        "oz(x=5, y=5, h=5)"
      ],
      "metadata": {
        "colab": {
          "base_uri": "https://localhost:8080/"
        },
        "id": "33RtZCjIVZ-F",
        "outputId": "ca19164f-a42b-46b8-e34d-f51fd29f120c"
      },
      "execution_count": 28,
      "outputs": [
        {
          "output_type": "stream",
          "name": "stdout",
          "text": [
            "2000\n",
            "1000\n",
            "125\n"
          ]
        }
      ]
    },
    {
      "cell_type": "markdown",
      "source": [
        "Chapter25"
      ],
      "metadata": {
        "id": "83zvxugeVmIZ"
      }
    },
    {
      "cell_type": "code",
      "source": [
        "def oz_return():\n",
        "    print(\"고양이\")\n",
        "    print(\"귀여워\")\n",
        "    return\n",
        "    print(\"야옹\")\n",
        "\n",
        "oz_return()"
      ],
      "metadata": {
        "colab": {
          "base_uri": "https://localhost:8080/"
        },
        "id": "79fHq4r2Vmoz",
        "outputId": "771a2321-9d51-448c-d5b4-8a092d6a8385"
      },
      "execution_count": 29,
      "outputs": [
        {
          "output_type": "stream",
          "name": "stdout",
          "text": [
            "고양이\n",
            "귀여워\n"
          ]
        }
      ]
    },
    {
      "cell_type": "code",
      "source": [
        "def oz_return():\n",
        "    return \"고양이 귀여워\"\n",
        "\n",
        "result = oz_return()\n",
        "print(result)"
      ],
      "metadata": {
        "colab": {
          "base_uri": "https://localhost:8080/"
        },
        "id": "fzgwewomVwKP",
        "outputId": "6ba06f6f-cf79-43fa-d8ae-6fd5032e13d3"
      },
      "execution_count": 30,
      "outputs": [
        {
          "output_type": "stream",
          "name": "stdout",
          "text": [
            "고양이 귀여워\n"
          ]
        }
      ]
    },
    {
      "cell_type": "code",
      "source": [
        "def oz_return():\n",
        "    return\n",
        "\n",
        "result = oz_return()\n",
        "print(result)"
      ],
      "metadata": {
        "colab": {
          "base_uri": "https://localhost:8080/"
        },
        "id": "WNVYmOkoVz0N",
        "outputId": "420a9386-c5bf-4eab-a7f4-a81f5e01d582"
      },
      "execution_count": 31,
      "outputs": [
        {
          "output_type": "stream",
          "name": "stdout",
          "text": [
            "None\n"
          ]
        }
      ]
    },
    {
      "cell_type": "code",
      "source": [
        "bool(None)"
      ],
      "metadata": {
        "colab": {
          "base_uri": "https://localhost:8080/"
        },
        "id": "jjzyqUERV3aM",
        "outputId": "f628048d-b717-43fc-8696-db4a52899dd2"
      },
      "execution_count": 32,
      "outputs": [
        {
          "output_type": "execute_result",
          "data": {
            "text/plain": [
              "False"
            ]
          },
          "metadata": {},
          "execution_count": 32
        }
      ]
    },
    {
      "cell_type": "code",
      "source": [
        "result = input(\"고양이?\")\n",
        "print(result)"
      ],
      "metadata": {
        "colab": {
          "base_uri": "https://localhost:8080/"
        },
        "id": "PjH7kBosV57M",
        "outputId": "d7ee14c9-dd9b-4281-a2f1-3049278eb013"
      },
      "execution_count": 33,
      "outputs": [
        {
          "output_type": "stream",
          "name": "stdout",
          "text": [
            "고양이?야옹\n",
            "야옹\n"
          ]
        }
      ]
    },
    {
      "cell_type": "markdown",
      "source": [
        "Chapter26"
      ],
      "metadata": {
        "id": "YjGRhiN2WDVG"
      }
    },
    {
      "cell_type": "code",
      "source": [
        "def oz(start, end, multiple):\n",
        "    for i in range(start, end, multiple):\n",
        "        print(i, \" \", end=\"\")\n",
        "    print()\n",
        "\n",
        "oz(1, 10, 3)\n",
        "oz(start=1, end=50, multiple=5)\n",
        "oz(start=10, end=100, multiple=10)"
      ],
      "metadata": {
        "colab": {
          "base_uri": "https://localhost:8080/"
        },
        "id": "4gKxB4uNV-zA",
        "outputId": "3870a9b4-98b2-4d71-b3e8-4c7dffed811b"
      },
      "execution_count": 34,
      "outputs": [
        {
          "output_type": "stream",
          "name": "stdout",
          "text": [
            "1  4  7  \n",
            "1  6  11  16  21  26  31  36  41  46  \n",
            "10  20  30  40  50  60  70  80  90  \n"
          ]
        }
      ]
    },
    {
      "cell_type": "code",
      "source": [
        "def oz(start=1, end=10, multiple=1):\n",
        "    for i in range(start, end, multiple):\n",
        "        print(i, \" \", end=\"\")\n",
        "    print()\n",
        "\n",
        "oz(1, 10, 3)\n",
        "oz(end=50)\n",
        "oz(end=100, multiple=10)"
      ],
      "metadata": {
        "colab": {
          "base_uri": "https://localhost:8080/"
        },
        "id": "wB5yY1kiWFos",
        "outputId": "1cf871ec-4c37-4c27-e758-a51938db38b4"
      },
      "execution_count": 35,
      "outputs": [
        {
          "output_type": "stream",
          "name": "stdout",
          "text": [
            "1  4  7  \n",
            "1  2  3  4  5  6  7  8  9  10  11  12  13  14  15  16  17  18  19  20  21  22  23  24  25  26  27  28  29  30  31  32  33  34  35  36  37  38  39  40  41  42  43  44  45  46  47  48  49  \n",
            "1  11  21  31  41  51  61  71  81  91  \n"
          ]
        }
      ]
    },
    {
      "cell_type": "markdown",
      "source": [
        "Chapter27"
      ],
      "metadata": {
        "id": "uEeD2GaTWMTp"
      }
    },
    {
      "cell_type": "code",
      "source": [
        "def oz_factorial(n):\n",
        "    output = 1\n",
        "    for i in range(1, n+1):\n",
        "        output *= i\n",
        "    return output\n",
        "\n",
        "n = int(input(\"구하고자하는 팩토리얼의 수를 입력해주세요\"))\n",
        "print(f'{n}의 결과는 {oz_factorial(n)}입니다.')"
      ],
      "metadata": {
        "colab": {
          "base_uri": "https://localhost:8080/"
        },
        "id": "hdId23e8WHV9",
        "outputId": "57239aaf-08c6-4408-cad8-2261f2c9c961"
      },
      "execution_count": 36,
      "outputs": [
        {
          "output_type": "stream",
          "name": "stdout",
          "text": [
            "구하고자하는 팩토리얼의 수를 입력해주세요3\n",
            "3의 결과는 6입니다.\n"
          ]
        }
      ]
    },
    {
      "cell_type": "code",
      "source": [
        "def oz_factorial(n):\n",
        "    if n == 0:\n",
        "        return 1\n",
        "    else:\n",
        "        return n * oz_factorial(n-1)\n",
        "\n",
        "n = int(input(\"구하고자하는 팩토리얼의 수를 입력해주세요\"))\n",
        "print(f'{n}의 결과는 {oz_factorial(n)}입니다.')"
      ],
      "metadata": {
        "colab": {
          "base_uri": "https://localhost:8080/"
        },
        "id": "m8EPlRJCWORy",
        "outputId": "4fa38464-d280-4fdc-c5c1-f86879e1c8ce"
      },
      "execution_count": 37,
      "outputs": [
        {
          "output_type": "stream",
          "name": "stdout",
          "text": [
            "구하고자하는 팩토리얼의 수를 입력해주세요4\n",
            "4의 결과는 24입니다.\n"
          ]
        }
      ]
    },
    {
      "cell_type": "code",
      "source": [
        "count = 0\n",
        "\n",
        "def oz_fibo(n):\n",
        "    print(f'피보나치 수열 {n}을 구하는 중입니다.')\n",
        "    global count\n",
        "    count += 1\n",
        "\n",
        "    if n == 1:\n",
        "        return 1\n",
        "    if n == 2:\n",
        "        return 1\n",
        "    else:\n",
        "        return oz_fibo(n-1) + oz_fibo(n-2)\n",
        "\n",
        "n = int(input(\"구하고자하는 피보나치의 수열의 수를 입력해주세요\"))\n",
        "oz_fibo(n)\n",
        "print(f'피보나치 수열 {n}을 구하기 위해 계산된 횟수는 {count}입니다')"
      ],
      "metadata": {
        "colab": {
          "base_uri": "https://localhost:8080/"
        },
        "id": "_wgi_EAqWRbs",
        "outputId": "52a7ca6d-b97f-40c8-ee1c-211b0bb15bbc"
      },
      "execution_count": 38,
      "outputs": [
        {
          "output_type": "stream",
          "name": "stdout",
          "text": [
            "구하고자하는 피보나치의 수열의 수를 입력해주세요4\n",
            "피보나치 수열 4을 구하는 중입니다.\n",
            "피보나치 수열 3을 구하는 중입니다.\n",
            "피보나치 수열 2을 구하는 중입니다.\n",
            "피보나치 수열 1을 구하는 중입니다.\n",
            "피보나치 수열 2을 구하는 중입니다.\n",
            "피보나치 수열 4을 구하기 위해 계산된 횟수는 5입니다\n"
          ]
        }
      ]
    },
    {
      "cell_type": "code",
      "source": [
        "memo = {\n",
        "    1: 1,\n",
        "    2: 1,\n",
        "}\n",
        "\n",
        "count = 0\n",
        "\n",
        "def oz_fibo(n):\n",
        "    print(f'피보나치 수열 {n}을 구하는 중입니다.')\n",
        "    global count\n",
        "    count += 1\n",
        "\n",
        "    if n in memo:\n",
        "        return memo[n]\n",
        "    else:\n",
        "        output = oz_fibo(n-1) + oz_fibo(n-2)\n",
        "        memo[n] = output\n",
        "        return output\n",
        "\n",
        "n = int(input(\"구하고자하는 피보나치의 수열의 수를 입력해주세요\"))\n",
        "oz_fibo(n)\n",
        "print(f'피보나치 수열 {n}을 구하기 위해 계산된 횟수는 {count}입니다')"
      ],
      "metadata": {
        "colab": {
          "base_uri": "https://localhost:8080/"
        },
        "id": "UN2SD8JTWWgk",
        "outputId": "42ee8d4a-9f47-4153-9b90-79afe08ad0c5"
      },
      "execution_count": 39,
      "outputs": [
        {
          "output_type": "stream",
          "name": "stdout",
          "text": [
            "구하고자하는 피보나치의 수열의 수를 입력해주세요2\n",
            "피보나치 수열 2을 구하는 중입니다.\n",
            "피보나치 수열 2을 구하기 위해 계산된 횟수는 1입니다\n"
          ]
        }
      ]
    },
    {
      "cell_type": "markdown",
      "source": [
        "Chapter28"
      ],
      "metadata": {
        "id": "gr1ucMe5XBFi"
      }
    },
    {
      "cell_type": "code",
      "source": [
        "memo = {\n",
        "    1: 1,\n",
        "    2: 1\n",
        "}\n",
        "\n",
        "count = 0\n",
        "\n",
        "def oz_fibo(n):\n",
        "    print(f\"피보나치 수열 {n}을 구하는 중입니다.\")\n",
        "    global count\n",
        "    count += 1\n",
        "\n",
        "    if n in memo:\n",
        "        return memo[n]\n",
        "    else:\n",
        "        output = oz_fibo(n-1) + oz_fibo(n-2)\n",
        "        memo[n] = output\n",
        "        return output\n",
        "\n",
        "n = int(input(\"구하고자 하는 피보나치 수열의 수를 입력해주세요\"))\n",
        "oz_fibo(n)\n",
        "print(f\"피보나치 수열 {n}을 구하기 위해 계산된 횟수는 {count}입니다.\")"
      ],
      "metadata": {
        "colab": {
          "base_uri": "https://localhost:8080/"
        },
        "id": "xwSZpUvoWqpk",
        "outputId": "51546260-b756-48ce-ec1a-7d0fa6887bc4"
      },
      "execution_count": 41,
      "outputs": [
        {
          "output_type": "stream",
          "name": "stdout",
          "text": [
            "구하고자 하는 피보나치 수열의 수를 입력해주세요3\n",
            "피보나치 수열 3을 구하는 중입니다.\n",
            "피보나치 수열 2을 구하는 중입니다.\n",
            "피보나치 수열 1을 구하는 중입니다.\n",
            "피보나치 수열 3을 구하기 위해 계산된 횟수는 3입니다.\n"
          ]
        }
      ]
    },
    {
      "cell_type": "code",
      "source": [
        "memo = {\n",
        "    1: 1,\n",
        "    2: 1\n",
        "}\n",
        "\n",
        "count = 0\n",
        "\n",
        "def oz_fibo(n):\n",
        "    print(f\"피보나치 수열 {n}을 구하는 중입니다.\")\n",
        "    global count\n",
        "    count += 1\n",
        "\n",
        "    if n in memo:\n",
        "        return memo[n]\n",
        "\n",
        "    output = oz_fibo(n-1) + oz_fibo(n-2)\n",
        "    memo[n] = output\n",
        "    return output\n",
        "\n",
        "n = int(input(\"구하고자 하는 피보나치 수열의 수를 입력해주세요\"))\n",
        "oz_fibo(n)\n",
        "print(f\"피보나치 수열 {n}을 구하기 위해 계산된 횟수는 {count}입니다.\")"
      ],
      "metadata": {
        "colab": {
          "base_uri": "https://localhost:8080/"
        },
        "id": "_PO1acCEXRcT",
        "outputId": "bf24dd14-4e33-4c8a-b0af-9a5fb8325916"
      },
      "execution_count": 42,
      "outputs": [
        {
          "output_type": "stream",
          "name": "stdout",
          "text": [
            "구하고자 하는 피보나치 수열의 수를 입력해주세요4\n",
            "피보나치 수열 4을 구하는 중입니다.\n",
            "피보나치 수열 3을 구하는 중입니다.\n",
            "피보나치 수열 2을 구하는 중입니다.\n",
            "피보나치 수열 1을 구하는 중입니다.\n",
            "피보나치 수열 2을 구하는 중입니다.\n",
            "피보나치 수열 4을 구하기 위해 계산된 횟수는 5입니다.\n"
          ]
        }
      ]
    },
    {
      "cell_type": "markdown",
      "source": [
        "Chapter29"
      ],
      "metadata": {
        "id": "CwMpQIKgXekW"
      }
    },
    {
      "cell_type": "code",
      "source": [
        "oz_tuple = (1,2,3)\n",
        "\n",
        "print(oz_tuple)\n",
        "print(oz_tuple[0])\n",
        "print(oz_tuple[1])\n",
        "print(oz_tuple[2])"
      ],
      "metadata": {
        "colab": {
          "base_uri": "https://localhost:8080/"
        },
        "id": "NAyw5uNDXWrD",
        "outputId": "f7351348-137d-4a8f-9a54-99395457ea6a"
      },
      "execution_count": 43,
      "outputs": [
        {
          "output_type": "stream",
          "name": "stdout",
          "text": [
            "(1, 2, 3)\n",
            "1\n",
            "2\n",
            "3\n"
          ]
        }
      ]
    },
    {
      "cell_type": "code",
      "source": [
        "oz_tuple[2] = 5"
      ],
      "metadata": {
        "colab": {
          "base_uri": "https://localhost:8080/",
          "height": 144
        },
        "id": "FdJeqzBzXjP6",
        "outputId": "43f40019-cd36-4530-9daf-ecfb93db9f65"
      },
      "execution_count": 44,
      "outputs": [
        {
          "output_type": "error",
          "ename": "TypeError",
          "evalue": "'tuple' object does not support item assignment",
          "traceback": [
            "\u001b[0;31m---------------------------------------------------------------------------\u001b[0m",
            "\u001b[0;31mTypeError\u001b[0m                                 Traceback (most recent call last)",
            "\u001b[0;32m/tmp/ipython-input-3745016083.py\u001b[0m in \u001b[0;36m<cell line: 0>\u001b[0;34m()\u001b[0m\n\u001b[0;32m----> 1\u001b[0;31m \u001b[0moz_tuple\u001b[0m\u001b[0;34m[\u001b[0m\u001b[0;36m2\u001b[0m\u001b[0;34m]\u001b[0m \u001b[0;34m=\u001b[0m \u001b[0;36m5\u001b[0m\u001b[0;34m\u001b[0m\u001b[0;34m\u001b[0m\u001b[0m\n\u001b[0m",
            "\u001b[0;31mTypeError\u001b[0m: 'tuple' object does not support item assignment"
          ]
        }
      ]
    },
    {
      "cell_type": "code",
      "source": [
        "oz_tuple = 1, 2, 3, 4\n",
        "\n",
        "print(\"oz_tuple: \", oz_tuple)\n",
        "print(\"oz_tuple type: \", type(oz_tuple))"
      ],
      "metadata": {
        "colab": {
          "base_uri": "https://localhost:8080/"
        },
        "id": "36qP1SgAXliC",
        "outputId": "455ac3e3-dd28-42a7-d6c3-5c185c9400e4"
      },
      "execution_count": 45,
      "outputs": [
        {
          "output_type": "stream",
          "name": "stdout",
          "text": [
            "oz_tuple:  (1, 2, 3, 4)\n",
            "oz_tuple type:  <class 'tuple'>\n"
          ]
        }
      ]
    },
    {
      "cell_type": "code",
      "source": [
        "x, y ,z = 1, 2, 3\n",
        "print(x)\n",
        "print(y)\n",
        "print(z)"
      ],
      "metadata": {
        "colab": {
          "base_uri": "https://localhost:8080/"
        },
        "id": "zT2pKHY2XpOa",
        "outputId": "e5b9955b-9c98-45c7-c073-1ac8f08bfee7"
      },
      "execution_count": 46,
      "outputs": [
        {
          "output_type": "stream",
          "name": "stdout",
          "text": [
            "1\n",
            "2\n",
            "3\n"
          ]
        }
      ]
    },
    {
      "cell_type": "code",
      "source": [
        "x, y = 1, 2\n",
        "\n",
        "print(\"x: \", x)\n",
        "print(\"y: \", y)\n",
        "print()\n",
        "\n",
        "x, y = y, x\n",
        "print(\"x: \", x)\n",
        "print(\"y: \", y)"
      ],
      "metadata": {
        "colab": {
          "base_uri": "https://localhost:8080/"
        },
        "id": "s-ADcaTgXqmq",
        "outputId": "ee88c59f-1761-452a-9b89-5593f42e5fa1"
      },
      "execution_count": 47,
      "outputs": [
        {
          "output_type": "stream",
          "name": "stdout",
          "text": [
            "x:  1\n",
            "y:  2\n",
            "\n",
            "x:  2\n",
            "y:  1\n"
          ]
        }
      ]
    },
    {
      "cell_type": "code",
      "source": [
        "def oz_tuple():\n",
        "    return (1, 2)\n",
        "\n",
        "x, y = oz_tuple()\n",
        "\n",
        "print(\"x:\", x)\n",
        "print(\"y:\", y)"
      ],
      "metadata": {
        "colab": {
          "base_uri": "https://localhost:8080/"
        },
        "id": "MnGsxUZtXsea",
        "outputId": "604a9dc4-be0e-4623-dec0-a52b89b94c56"
      },
      "execution_count": 48,
      "outputs": [
        {
          "output_type": "stream",
          "name": "stdout",
          "text": [
            "x: 1\n",
            "y: 2\n"
          ]
        }
      ]
    },
    {
      "cell_type": "code",
      "source": [
        "for i, fruit in enumerate([1,2,3,4]):\n",
        "    print(i, fruit)"
      ],
      "metadata": {
        "colab": {
          "base_uri": "https://localhost:8080/"
        },
        "id": "2eE_dShmXueS",
        "outputId": "5caca376-8327-438f-cae3-7deb96ec1840"
      },
      "execution_count": 49,
      "outputs": [
        {
          "output_type": "stream",
          "name": "stdout",
          "text": [
            "0 1\n",
            "1 2\n",
            "2 3\n",
            "3 4\n"
          ]
        }
      ]
    },
    {
      "cell_type": "code",
      "source": [
        "a, b = 7, 3\n",
        "x, y = divmod(a, b)\n",
        "print(\"몫:\", x)\n",
        "print(\"나머지:\", y)"
      ],
      "metadata": {
        "colab": {
          "base_uri": "https://localhost:8080/"
        },
        "id": "Ue84x4fhXwGq",
        "outputId": "68242f0f-b082-412f-dfa8-cb98590a0b15"
      },
      "execution_count": 50,
      "outputs": [
        {
          "output_type": "stream",
          "name": "stdout",
          "text": [
            "몫: 2\n",
            "나머지: 1\n"
          ]
        }
      ]
    },
    {
      "cell_type": "markdown",
      "source": [
        "Chapter30"
      ],
      "metadata": {
        "id": "7jDFV9HjXy6U"
      }
    },
    {
      "cell_type": "code",
      "source": [
        "def oz_call(function):\n",
        "    for i in range(5):\n",
        "        function()\n",
        "\n",
        "def talk():\n",
        "    print(\"파이썬 비상탈출\")\n",
        "\n",
        "oz_call(talk)"
      ],
      "metadata": {
        "colab": {
          "base_uri": "https://localhost:8080/"
        },
        "id": "HuAY-LM1Xx8K",
        "outputId": "9980d208-a03c-4bac-99bf-cb5993ebb11f"
      },
      "execution_count": 51,
      "outputs": [
        {
          "output_type": "stream",
          "name": "stdout",
          "text": [
            "파이썬 비상탈출\n",
            "파이썬 비상탈출\n",
            "파이썬 비상탈출\n",
            "파이썬 비상탈출\n",
            "파이썬 비상탈출\n"
          ]
        }
      ]
    },
    {
      "cell_type": "code",
      "source": [
        "def square(i):\n",
        "    return i * i\n",
        "\n",
        "numbers_list = [1,2,3,4,5,6,7,8,9,10]\n",
        "\n",
        "result = map(square, numbers_list)\n",
        "\n",
        "print(\"map 결과:\", result)\n",
        "print(\"map 결과의 list 형변환:\", list(result))"
      ],
      "metadata": {
        "colab": {
          "base_uri": "https://localhost:8080/"
        },
        "id": "bZCCbFeyX9ql",
        "outputId": "aa061fc4-f54f-4a3b-f098-b9481a9078e7"
      },
      "execution_count": 52,
      "outputs": [
        {
          "output_type": "stream",
          "name": "stdout",
          "text": [
            "map 결과: <map object at 0x7be0a8e8fe50>\n",
            "map 결과의 list 형변환: [1, 4, 9, 16, 25, 36, 49, 64, 81, 100]\n"
          ]
        }
      ]
    },
    {
      "cell_type": "code",
      "source": [
        "def under(i):\n",
        "    return i < 5\n",
        "\n",
        "numbers_list = [1,2,3,4,5,6,7,8,9,10]\n",
        "\n",
        "result = filter(under, numbers_list)\n",
        "\n",
        "print(\"map 결과:\", result)\n",
        "print(\"map 결과의 list 형변환:\", list(result))"
      ],
      "metadata": {
        "colab": {
          "base_uri": "https://localhost:8080/"
        },
        "id": "kqdJDQduYFGC",
        "outputId": "47e803db-afe1-4327-ce8c-84884c8872bc"
      },
      "execution_count": 53,
      "outputs": [
        {
          "output_type": "stream",
          "name": "stdout",
          "text": [
            "map 결과: <filter object at 0x7be0a8d4a380>\n",
            "map 결과의 list 형변환: [1, 2, 3, 4]\n"
          ]
        }
      ]
    },
    {
      "cell_type": "code",
      "source": [
        "square = lambda i : i * i\n",
        "\n",
        "numbers_list = [1,2,3,4,5,6,7,8,9,10]\n",
        "\n",
        "result = map(square, numbers_list)\n",
        "\n",
        "print(\"map 결과:\", result)\n",
        "print(\"map 결과의 list 형변환:\", list(result))"
      ],
      "metadata": {
        "colab": {
          "base_uri": "https://localhost:8080/"
        },
        "id": "oALeoSnfbaHw",
        "outputId": "4870e9fc-0762-4fff-9c2a-53c09ee0ed8d"
      },
      "execution_count": 54,
      "outputs": [
        {
          "output_type": "stream",
          "name": "stdout",
          "text": [
            "map 결과: <map object at 0x7be0a8e8c910>\n",
            "map 결과의 list 형변환: [1, 4, 9, 16, 25, 36, 49, 64, 81, 100]\n"
          ]
        }
      ]
    },
    {
      "cell_type": "code",
      "source": [
        "under = lambda i : i < 5\n",
        "\n",
        "numbers_list = [1,2,3,4,5,6,7,8,9,10]\n",
        "\n",
        "result = filter(under, numbers_list)\n",
        "\n",
        "print(\"map 결과:\", result)\n",
        "print(\"map 결과의 list 형변환:\", list(result))"
      ],
      "metadata": {
        "colab": {
          "base_uri": "https://localhost:8080/"
        },
        "id": "18nZTSyAbcb_",
        "outputId": "28f8e8a2-6f34-4533-8643-3c2c95f2b977"
      },
      "execution_count": 55,
      "outputs": [
        {
          "output_type": "stream",
          "name": "stdout",
          "text": [
            "map 결과: <filter object at 0x7be0a8e8c160>\n",
            "map 결과의 list 형변환: [1, 2, 3, 4]\n"
          ]
        }
      ]
    },
    {
      "cell_type": "code",
      "source": [
        "numbers_list = [1,2,3,4,5,6,7,8,9,10]\n",
        "\n",
        "result = map(lambda i : i * i, numbers_list)\n",
        "print(\"map 결과 :\", result)\n",
        "print(\"map 결과의 list 형변환:\", list(result))"
      ],
      "metadata": {
        "colab": {
          "base_uri": "https://localhost:8080/"
        },
        "id": "4_OmipNdbeU5",
        "outputId": "ae319bf4-193a-44e9-82d6-f59132d790c9"
      },
      "execution_count": 56,
      "outputs": [
        {
          "output_type": "stream",
          "name": "stdout",
          "text": [
            "map 결과 : <map object at 0x7be0a8e8ffa0>\n",
            "map 결과의 list 형변환: [1, 4, 9, 16, 25, 36, 49, 64, 81, 100]\n"
          ]
        }
      ]
    },
    {
      "cell_type": "code",
      "source": [
        "numbers_list = [1,2,3,4,5,6,7,8,9,10]\n",
        "\n",
        "result = filter(lambda i : i < 5, numbers_list)\n",
        "\n",
        "print(\"map 결과:\", result)\n",
        "print(\"map 결과의 list 형변환:\", list(result))"
      ],
      "metadata": {
        "colab": {
          "base_uri": "https://localhost:8080/"
        },
        "id": "uU5R_bRDbsWH",
        "outputId": "bcecadc9-ec49-48a6-ad70-83860e26d328"
      },
      "execution_count": 57,
      "outputs": [
        {
          "output_type": "stream",
          "name": "stdout",
          "text": [
            "map 결과: <filter object at 0x7be0a8e8c160>\n",
            "map 결과의 list 형변환: [1, 2, 3, 4]\n"
          ]
        }
      ]
    },
    {
      "cell_type": "markdown",
      "source": [
        "Chapter31"
      ],
      "metadata": {
        "id": "EDVKzOSfdad7"
      }
    },
    {
      "cell_type": "code",
      "source": [
        "def test():\n",
        "    print(\"제너레이터 실습 코드입니다.\")\n",
        "    yield \"test\"\n",
        "\n",
        "print(\"첫번째 출력\")\n",
        "test()\n",
        "\n",
        "print(\"두번째 출력\")\n",
        "test()\n",
        "\n",
        "print(test())"
      ],
      "metadata": {
        "colab": {
          "base_uri": "https://localhost:8080/"
        },
        "id": "yVkdeiV-b6yv",
        "outputId": "2cf53ca6-bd5f-401a-ba34-3522778c39ec"
      },
      "execution_count": 58,
      "outputs": [
        {
          "output_type": "stream",
          "name": "stdout",
          "text": [
            "첫번째 출력\n",
            "두번째 출력\n",
            "<generator object test at 0x7be0a8e4df00>\n"
          ]
        }
      ]
    },
    {
      "cell_type": "code",
      "source": [
        "def test():\n",
        "    print(\"첫번째 출력\")\n",
        "    yield 1\n",
        "    print(\"두번째 출력\")\n",
        "    yield 2\n",
        "    print(\"세번째 출력\")\n",
        "\n",
        "output = test()\n",
        "print(\"네번째 출력\")\n",
        "\n",
        "x = next(output)\n",
        "print(x)\n",
        "print(\"다섯번째 출력\")\n",
        "y = next(output)\n",
        "print(y)\n",
        "print(\"여섯번째 출력\")\n",
        "z = next(output)\n",
        "print(z)"
      ],
      "metadata": {
        "colab": {
          "base_uri": "https://localhost:8080/",
          "height": 341
        },
        "id": "98-IVwtOdcBw",
        "outputId": "445317b8-02a6-449a-cb6e-16e1b48412db"
      },
      "execution_count": 61,
      "outputs": [
        {
          "output_type": "stream",
          "name": "stdout",
          "text": [
            "네번째 출력\n",
            "첫번째 출력\n",
            "1\n",
            "다섯번째 출력\n",
            "두번째 출력\n",
            "2\n",
            "여섯번째 출력\n",
            "세번째 출력\n"
          ]
        },
        {
          "output_type": "error",
          "ename": "StopIteration",
          "evalue": "",
          "traceback": [
            "\u001b[0;31m---------------------------------------------------------------------------\u001b[0m",
            "\u001b[0;31mStopIteration\u001b[0m                             Traceback (most recent call last)",
            "\u001b[0;32m/tmp/ipython-input-3228586764.py\u001b[0m in \u001b[0;36m<cell line: 0>\u001b[0;34m()\u001b[0m\n\u001b[1;32m     15\u001b[0m \u001b[0mprint\u001b[0m\u001b[0;34m(\u001b[0m\u001b[0my\u001b[0m\u001b[0;34m)\u001b[0m\u001b[0;34m\u001b[0m\u001b[0;34m\u001b[0m\u001b[0m\n\u001b[1;32m     16\u001b[0m \u001b[0mprint\u001b[0m\u001b[0;34m(\u001b[0m\u001b[0;34m\"여섯번째 출력\"\u001b[0m\u001b[0;34m)\u001b[0m\u001b[0;34m\u001b[0m\u001b[0;34m\u001b[0m\u001b[0m\n\u001b[0;32m---> 17\u001b[0;31m \u001b[0mz\u001b[0m \u001b[0;34m=\u001b[0m \u001b[0mnext\u001b[0m\u001b[0;34m(\u001b[0m\u001b[0moutput\u001b[0m\u001b[0;34m)\u001b[0m\u001b[0;34m\u001b[0m\u001b[0;34m\u001b[0m\u001b[0m\n\u001b[0m\u001b[1;32m     18\u001b[0m \u001b[0mprint\u001b[0m\u001b[0;34m(\u001b[0m\u001b[0mz\u001b[0m\u001b[0;34m)\u001b[0m\u001b[0;34m\u001b[0m\u001b[0;34m\u001b[0m\u001b[0m\n",
            "\u001b[0;31mStopIteration\u001b[0m: "
          ]
        }
      ]
    },
    {
      "cell_type": "markdown",
      "source": [
        "Chapter32"
      ],
      "metadata": {
        "id": "Jp54_-dTdrxs"
      }
    },
    {
      "cell_type": "code",
      "source": [
        "num = 10\n",
        "print(type(num))\n",
        "\n",
        "num = \"10\"\n",
        "print(type(num))"
      ],
      "metadata": {
        "colab": {
          "base_uri": "https://localhost:8080/"
        },
        "id": "n9ZF4AA_dd9H",
        "outputId": "427d399a-cb64-480d-b419-1e4e19249dfc"
      },
      "execution_count": 62,
      "outputs": [
        {
          "output_type": "stream",
          "name": "stdout",
          "text": [
            "<class 'int'>\n",
            "<class 'str'>\n"
          ]
        }
      ]
    },
    {
      "cell_type": "code",
      "source": [
        "def oz(x, y, h):\n",
        "    return x * y * h\n",
        "\n",
        "oz(10,10,10)"
      ],
      "metadata": {
        "colab": {
          "base_uri": "https://localhost:8080/"
        },
        "id": "Ta2w0GEVduch",
        "outputId": "ce6d03c3-ef0b-459c-ecc8-063daa833829"
      },
      "execution_count": 64,
      "outputs": [
        {
          "output_type": "execute_result",
          "data": {
            "text/plain": [
              "1000"
            ]
          },
          "metadata": {},
          "execution_count": 64
        }
      ]
    },
    {
      "cell_type": "code",
      "source": [
        "def oz(x: int, y: int, h: int) -> int:\n",
        "    return x * y * h\n",
        "\n",
        "oz(10,10,10)"
      ],
      "metadata": {
        "colab": {
          "base_uri": "https://localhost:8080/"
        },
        "id": "R2kapqwjdxxi",
        "outputId": "4ac70cdb-3e6f-4120-dfad-d4479688075e"
      },
      "execution_count": 65,
      "outputs": [
        {
          "output_type": "execute_result",
          "data": {
            "text/plain": [
              "1000"
            ]
          },
          "metadata": {},
          "execution_count": 65
        }
      ]
    },
    {
      "cell_type": "code",
      "source": [
        "my_dog : str = \"hunt\"\n",
        "my_dog_age : int = 7\n",
        "\n",
        "dogs: list[str] = [\"딕스훈트\", \"시바견\", \"웰시코기\", \"이탈리안그레이하운드\"]\n",
        "\n",
        "dogs: dict[str, int] = {\n",
        "    \"닥스훈트\" : 7,\n",
        "    \"시바견\" : 5,\n",
        "    \"웰시코기\" : 6,\n",
        "    \"이탈리안그레이하운드\" : 3,\n",
        "}\n",
        "\n",
        "print(my_dog)"
      ],
      "metadata": {
        "colab": {
          "base_uri": "https://localhost:8080/"
        },
        "id": "lCGLud9Hdzpr",
        "outputId": "29a9eb2d-254f-44af-bac6-0c56b6611c4f"
      },
      "execution_count": 66,
      "outputs": [
        {
          "output_type": "stream",
          "name": "stdout",
          "text": [
            "hunt\n"
          ]
        }
      ]
    },
    {
      "cell_type": "code",
      "source": [
        "def hunt(name: str) -> str:\n",
        "    return name[0]\n",
        "\n",
        "def hunt_info(name: str, age: int = 7) -> str:\n",
        "    return name + str(age)\n",
        "\n",
        "def hunt_happy_time(name: str) -> None:\n",
        "    print(\"간식줄께\" + name)\n",
        "\n",
        "def hunt_bow(message: str, times: int = 10) -> list[str]:\n",
        "    return [message] * times"
      ],
      "metadata": {
        "id": "f_ahToUkd18l"
      },
      "execution_count": 67,
      "outputs": []
    }
  ]
}