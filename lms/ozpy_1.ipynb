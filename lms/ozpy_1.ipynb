{
  "nbformat": 4,
  "nbformat_minor": 0,
  "metadata": {
    "colab": {
      "provenance": [],
      "authorship_tag": "ABX9TyMGEZY9FUPWLvDAY8TCEkih"
    },
    "kernelspec": {
      "name": "python3",
      "display_name": "Python 3"
    },
    "language_info": {
      "name": "python"
    }
  },
  "cells": [
    {
      "cell_type": "code",
      "execution_count": 1,
      "metadata": {
        "colab": {
          "base_uri": "https://localhost:8080/"
        },
        "id": "J6JDqUXG0CsU",
        "outputId": "453f2722-1e0d-46f9-893c-9b00fc0a9623"
      },
      "outputs": [
        {
          "output_type": "stream",
          "name": "stdout",
          "text": [
            "진짜 안 보이는 거야?\n"
          ]
        }
      ],
      "source": [
        "# 주석 달기\n",
        "print(\"진짜 안 보이는 거야?\")\n",
        "# print(\"신기하네?\")"
      ]
    },
    {
      "cell_type": "code",
      "source": [
        "for 동물 in (\"토끼\", \"사자\", \"푸바오\", \"호랑이\"):\n",
        "  print(동물)\n",
        "  print(\"보러 갈래요?\")"
      ],
      "metadata": {
        "colab": {
          "base_uri": "https://localhost:8080/"
        },
        "id": "Zz0yUyxz0V0C",
        "outputId": "6e8c221c-383d-42c5-d35e-0f2e360357c4"
      },
      "execution_count": 2,
      "outputs": [
        {
          "output_type": "stream",
          "name": "stdout",
          "text": [
            "토끼\n",
            "보러 갈래요?\n",
            "사자\n",
            "보러 갈래요?\n",
            "푸바오\n",
            "보러 갈래요?\n",
            "호랑이\n",
            "보러 갈래요?\n"
          ]
        }
      ]
    },
    {
      "cell_type": "code",
      "source": [
        "# 더하기\n",
        "print(3 + 2)"
      ],
      "metadata": {
        "colab": {
          "base_uri": "https://localhost:8080/"
        },
        "id": "Aw7YaPHS0uAE",
        "outputId": "eb266e0a-f561-42ab-adca-a17da9ea065a"
      },
      "execution_count": 3,
      "outputs": [
        {
          "output_type": "stream",
          "name": "stdout",
          "text": [
            "5\n"
          ]
        }
      ]
    },
    {
      "cell_type": "code",
      "source": [
        "# 빼기\n",
        "print(3 - 2)"
      ],
      "metadata": {
        "colab": {
          "base_uri": "https://localhost:8080/"
        },
        "id": "76-72T651M5w",
        "outputId": "8986bede-0e38-4ad9-e8f9-7a966f4d5eb3"
      },
      "execution_count": 5,
      "outputs": [
        {
          "output_type": "stream",
          "name": "stdout",
          "text": [
            "1\n"
          ]
        }
      ]
    },
    {
      "cell_type": "code",
      "source": [
        "# 곱하기\n",
        "print(3 * 2)"
      ],
      "metadata": {
        "colab": {
          "base_uri": "https://localhost:8080/"
        },
        "id": "R9VrEpfs1RI9",
        "outputId": "f7f4d3b1-f481-4f5a-8c68-6124a64899ba"
      },
      "execution_count": 6,
      "outputs": [
        {
          "output_type": "stream",
          "name": "stdout",
          "text": [
            "6\n"
          ]
        }
      ]
    },
    {
      "cell_type": "code",
      "source": [
        "# /\n",
        "print(7 / 2)\n",
        "\n",
        "# //\n",
        "print(7 // 2)\n",
        "\n",
        "# %\n",
        "print(7 % 2)"
      ],
      "metadata": {
        "colab": {
          "base_uri": "https://localhost:8080/"
        },
        "id": "gUVWeG6X1jcu",
        "outputId": "8dfaa32a-af37-4084-a6c7-7daade13ce43"
      },
      "execution_count": 9,
      "outputs": [
        {
          "output_type": "stream",
          "name": "stdout",
          "text": [
            "3.5\n",
            "3\n",
            "1\n"
          ]
        }
      ]
    },
    {
      "cell_type": "code",
      "source": [
        "print(divmod(3, 2))\n",
        "print(divmod(7, 4))\n",
        "print(divmod(13, 2))\n",
        "print(divmod(19, 4))\n",
        "print(divmod(15, 5))\n",
        "\n",
        "print(7//4, \", \", 7%4)"
      ],
      "metadata": {
        "colab": {
          "base_uri": "https://localhost:8080/"
        },
        "id": "2k5Af0Wk1ps1",
        "outputId": "e99691db-0b44-4d8d-a9fe-08657ce9d781"
      },
      "execution_count": 14,
      "outputs": [
        {
          "output_type": "stream",
          "name": "stdout",
          "text": [
            "(1, 1)\n",
            "(1, 3)\n",
            "(6, 1)\n",
            "(4, 3)\n",
            "(3, 0)\n",
            "1 ,  3\n"
          ]
        }
      ]
    },
    {
      "cell_type": "code",
      "source": [],
      "metadata": {
        "id": "C7n1nqR21txg"
      },
      "execution_count": null,
      "outputs": []
    }
  ]
}
