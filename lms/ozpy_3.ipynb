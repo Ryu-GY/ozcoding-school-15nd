{
  "nbformat": 4,
  "nbformat_minor": 0,
  "metadata": {
    "colab": {
      "provenance": [],
      "authorship_tag": "ABX9TyOSmh+22LtrKNPhkr7lLS03"
    },
    "kernelspec": {
      "name": "python3",
      "display_name": "Python 3"
    },
    "language_info": {
      "name": "python"
    }
  },
  "cells": [
    {
      "cell_type": "markdown",
      "source": [
        "Chapter 9"
      ],
      "metadata": {
        "id": "4FgC_Nokproe"
      }
    },
    {
      "cell_type": "code",
      "execution_count": 18,
      "metadata": {
        "colab": {
          "base_uri": "https://localhost:8080/"
        },
        "id": "4WCEm515Ufz5",
        "outputId": "0bc7e7c8-85a3-4251-c511-aa966e628395"
      },
      "outputs": [
        {
          "output_type": "execute_result",
          "data": {
            "text/plain": [
              "1"
            ]
          },
          "metadata": {},
          "execution_count": 18
        }
      ],
      "source": [
        "\"까먹으신건가요?\".count(\"까\")"
      ]
    },
    {
      "cell_type": "code",
      "source": [
        "\"까먹으신건가요?\".index(\"까\")"
      ],
      "metadata": {
        "colab": {
          "base_uri": "https://localhost:8080/"
        },
        "id": "0DAnXia1naBB",
        "outputId": "4f73bc27-b912-4680-f056-4dac38fee1ac"
      },
      "execution_count": 19,
      "outputs": [
        {
          "output_type": "execute_result",
          "data": {
            "text/plain": [
              "0"
            ]
          },
          "metadata": {},
          "execution_count": 19
        }
      ]
    },
    {
      "cell_type": "code",
      "source": [
        "숫자, 문자 = 5, \"5\"\n",
        "\n",
        "print(숫자, 문자)"
      ],
      "metadata": {
        "colab": {
          "base_uri": "https://localhost:8080/"
        },
        "id": "eRKsNacMnhZD",
        "outputId": "6178b28b-6768-4a90-d0d7-e4ad0b31a7c5"
      },
      "execution_count": 20,
      "outputs": [
        {
          "output_type": "stream",
          "name": "stdout",
          "text": [
            "5 5\n"
          ]
        }
      ]
    },
    {
      "cell_type": "code",
      "source": [
        "인사 = input(\"(뭐야)아... 안녕\")\n",
        "print(인사 + \" 눈부시다\")"
      ],
      "metadata": {
        "colab": {
          "base_uri": "https://localhost:8080/"
        },
        "id": "PfojC6thnhmj",
        "outputId": "dad8b073-0df3-441d-93bc-8271a8a6b34f"
      },
      "execution_count": 21,
      "outputs": [
        {
          "output_type": "stream",
          "name": "stdout",
          "text": [
            "(뭐야)아... 안녕 ㅇㅇ\n",
            " ㅇㅇ 눈부시다\n"
          ]
        }
      ]
    },
    {
      "cell_type": "code",
      "source": [
        "정수 = input()\n",
        "정수 = int(정수)\n",
        "print(정수, type(정수))\n",
        "\n",
        "실수 = input()\n",
        "실수 = float(실수)\n",
        "print(실수, type(실수))"
      ],
      "metadata": {
        "colab": {
          "base_uri": "https://localhost:8080/"
        },
        "id": "-mFH_zHontcb",
        "outputId": "11aafa91-8820-4ac7-a633-2d537efc9177"
      },
      "execution_count": 22,
      "outputs": [
        {
          "output_type": "stream",
          "name": "stdout",
          "text": [
            "12\n",
            "12 <class 'int'>\n",
            "14.4\n",
            "14.4 <class 'float'>\n"
          ]
        }
      ]
    },
    {
      "cell_type": "code",
      "source": [
        "정수 = int(input())\n",
        "print(정수, type(정수))\n",
        "\n",
        "실수 = float(input())\n",
        "print(실수, type(실수))"
      ],
      "metadata": {
        "colab": {
          "base_uri": "https://localhost:8080/"
        },
        "id": "WPcLqkPLn-Mr",
        "outputId": "d58b4d4d-da79-4464-c748-d64554981b00"
      },
      "execution_count": 23,
      "outputs": [
        {
          "output_type": "stream",
          "name": "stdout",
          "text": [
            "13\n",
            "13 <class 'int'>\n",
            "15.7\n",
            "15.7 <class 'float'>\n"
          ]
        }
      ]
    },
    {
      "cell_type": "code",
      "source": [
        "번호1, 번호2, 번호3, 번호4 = input().split(\",\")\n",
        "\n",
        "번호1 = int(번호1)\n",
        "번호2 = int(번호2)\n",
        "번호3 = int(번호3)\n",
        "번호4 = int(번호4)\n",
        "\n",
        "print(type(번호1), 번호2, 번호3, 번호4)"
      ],
      "metadata": {
        "colab": {
          "base_uri": "https://localhost:8080/"
        },
        "id": "FFQF1KTOoNaT",
        "outputId": "ab5af107-629e-429c-8639-b55f0ba982e6"
      },
      "execution_count": 24,
      "outputs": [
        {
          "output_type": "stream",
          "name": "stdout",
          "text": [
            "12, 1243, 54, 1234\n",
            "<class 'int'> 1243 54 1234\n"
          ]
        }
      ]
    },
    {
      "cell_type": "code",
      "source": [
        "번호1, 번호2, 번호3, 번호4 = map(int, input().split(\",\"))\n",
        "print(type(번호1), 번호2, 번호3, 번호4)"
      ],
      "metadata": {
        "colab": {
          "base_uri": "https://localhost:8080/"
        },
        "id": "6ddTZt8AottH",
        "outputId": "b9d985c8-8778-4a96-d857-1e4b1eab9d2d"
      },
      "execution_count": 25,
      "outputs": [
        {
          "output_type": "stream",
          "name": "stdout",
          "text": [
            "123, 5643, 632, 234\n",
            "<class 'int'> 5643 632 234\n"
          ]
        }
      ]
    },
    {
      "cell_type": "code",
      "source": [
        "print(\"초코칩\", \"민트\", \"샷추가\", \"휘핑크림\")\n",
        "print(\"초코칩\", \"민트\", \"샷추가\", \"휘핑크림\", sep='/')\n",
        "print(\"초코칩\", \"민트\", \"샷추가\", \"휘핑크림\", sep =':')\n",
        "print(\"초코칩\", \"민트\", \"샷추가\", \"휘핑크림\")\n",
        "print(\"초코칩\", \"민트\", \"샷추가\", \"휘핑크림\", sep ='\\n')"
      ],
      "metadata": {
        "colab": {
          "base_uri": "https://localhost:8080/"
        },
        "id": "NKwVAPpooxgS",
        "outputId": "6d548d1c-e6a1-4963-c296-663b12e8d81a"
      },
      "execution_count": 26,
      "outputs": [
        {
          "output_type": "stream",
          "name": "stdout",
          "text": [
            "초코칩 민트 샷추가 휘핑크림\n",
            "초코칩/민트/샷추가/휘핑크림\n",
            "초코칩:민트:샷추가:휘핑크림\n",
            "초코칩 민트 샷추가 휘핑크림\n",
            "초코칩\n",
            "민트\n",
            "샷추가\n",
            "휘핑크림\n"
          ]
        }
      ]
    },
    {
      "cell_type": "code",
      "source": [
        "print(\"초코칩\", \"민트\", \"샷추가\", \"휘핑크림\", end=' ')\n",
        "print(\"초코칩\", \"민트\", \"샷추가\", \"휘핑크림\", end=' ')\n",
        "print(\"초코칩\", \"민트\", \"샷추가\", \"휘핑크림\", end=' ')"
      ],
      "metadata": {
        "colab": {
          "base_uri": "https://localhost:8080/"
        },
        "id": "8MWdZueEpX9N",
        "outputId": "74806d4b-8292-4062-edce-33c82ceeca72"
      },
      "execution_count": 27,
      "outputs": [
        {
          "output_type": "stream",
          "name": "stdout",
          "text": [
            "초코칩 민트 샷추가 휘핑크림 초코칩 민트 샷추가 휘핑크림 초코칩 민트 샷추가 휘핑크림 "
          ]
        }
      ]
    },
    {
      "cell_type": "markdown",
      "source": [
        "Chapter 10"
      ],
      "metadata": {
        "id": "hfQrwovrplB8"
      }
    },
    {
      "cell_type": "code",
      "source": [
        "리스트 = []\n",
        "print(리스트)\n",
        "\n",
        "리스트 = [23, \"이게 리스트다\", 3,23, True, False]\n",
        "print(리스트)"
      ],
      "metadata": {
        "colab": {
          "base_uri": "https://localhost:8080/"
        },
        "id": "Gw6KF9zip4WP",
        "outputId": "e02a3f9a-75de-4504-ec72-43dcf82fda45"
      },
      "execution_count": 28,
      "outputs": [
        {
          "output_type": "stream",
          "name": "stdout",
          "text": [
            "[]\n",
            "[23, '이게 리스트다', 3, 23, True, False]\n"
          ]
        }
      ]
    },
    {
      "cell_type": "code",
      "source": [
        "리스트 = [\"이\", \"렇\", \"게\", \"만\", \"들\", \"어\", \"요\"]\n",
        "리스트\n",
        "리스트2 = list()\n",
        "리스트2\n",
        "\n",
        "range(10)\n",
        "\n",
        "리스트_매직 = list(range(0, 20))\n",
        "리스트_매직"
      ],
      "metadata": {
        "colab": {
          "base_uri": "https://localhost:8080/"
        },
        "id": "hGP0XyFtqxw9",
        "outputId": "97d8706b-3e0d-4e4d-e226-adb01af38210"
      },
      "execution_count": 29,
      "outputs": [
        {
          "output_type": "execute_result",
          "data": {
            "text/plain": [
              "[0, 1, 2, 3, 4, 5, 6, 7, 8, 9, 10, 11, 12, 13, 14, 15, 16, 17, 18, 19]"
            ]
          },
          "metadata": {},
          "execution_count": 29
        }
      ]
    },
    {
      "cell_type": "code",
      "source": [
        "리스트_매직2 = list(range(0,20,2))\n",
        "print(리스트_매직2)\n",
        "\n",
        "리스트_매직3 = list(range(20,0,-1))\n",
        "print(리스트_매직3)\n",
        "\n",
        "리스트_매직4 = list(range(20,0))\n",
        "print(리스트_매직4)"
      ],
      "metadata": {
        "colab": {
          "base_uri": "https://localhost:8080/"
        },
        "id": "l46mX8z9rKCn",
        "outputId": "5d348c85-d162-4c15-84d9-468defb553a3"
      },
      "execution_count": 30,
      "outputs": [
        {
          "output_type": "stream",
          "name": "stdout",
          "text": [
            "[0, 2, 4, 6, 8, 10, 12, 14, 16, 18]\n",
            "[20, 19, 18, 17, 16, 15, 14, 13, 12, 11, 10, 9, 8, 7, 6, 5, 4, 3, 2, 1]\n",
            "[]\n"
          ]
        }
      ]
    },
    {
      "cell_type": "code",
      "source": [
        "a, b, c = [\"들\", \"어\", \"가\"]\n",
        "print(a, b, c)\n",
        "\n",
        "d, e, f = [7, 7, 8]\n",
        "print(7, 7, 8)\n",
        "\n",
        "지갑 = [10000, 5000, 1000]\n",
        "만원, 오천원, 천원 = 지갑\n",
        "print(f'{만원} 2장, {오천원} 3장, {천원} 1장' )"
      ],
      "metadata": {
        "colab": {
          "base_uri": "https://localhost:8080/"
        },
        "id": "5GsW-W7XrK6Y",
        "outputId": "471a7d3c-da30-4e76-9a71-8f28fe5f0446"
      },
      "execution_count": 31,
      "outputs": [
        {
          "output_type": "stream",
          "name": "stdout",
          "text": [
            "들 어 가\n",
            "7 7 8\n",
            "10000 2장, 5000 3장, 1000 1장\n"
          ]
        }
      ]
    },
    {
      "cell_type": "code",
      "source": [
        "input().split()"
      ],
      "metadata": {
        "colab": {
          "base_uri": "https://localhost:8080/"
        },
        "id": "I6Z2ZEmUrVXZ",
        "outputId": "cf00a37d-2670-4304-ace7-783c4317919c"
      },
      "execution_count": 34,
      "outputs": [
        {
          "name": "stdout",
          "output_type": "stream",
          "text": [
            " a s d f q w e r\n"
          ]
        },
        {
          "output_type": "execute_result",
          "data": {
            "text/plain": [
              "['a', 's', 'd', 'f', 'q', 'w', 'e', 'r']"
            ]
          },
          "metadata": {},
          "execution_count": 34
        }
      ]
    },
    {
      "cell_type": "code",
      "source": [
        "로또 = [3, 5, 15, 33, 41, 44]\n",
        "print(로또[1:3])\n",
        "print(로또[-1])\n",
        "print(로또[::-1])\n",
        "print( 33 in 로또)\n",
        "로또2 = [2,12,15,24,33,39]\n",
        "print(로또 + 로또2)\n",
        "짝수 = list(range(2,12,2))\n",
        "print(짝수)\n",
        "짝수 = 짝수 * 2\n",
        "print(짝수)\n",
        "print(len(짝수))\n",
        "print(짝수[3])\n",
        "print(짝수[len(짝수)-1])"
      ],
      "metadata": {
        "colab": {
          "base_uri": "https://localhost:8080/"
        },
        "id": "Ouy_XOuzrc5f",
        "outputId": "ac9b5163-c82c-4391-c591-00bcd4cb9d7b"
      },
      "execution_count": 35,
      "outputs": [
        {
          "output_type": "stream",
          "name": "stdout",
          "text": [
            "[5, 15]\n",
            "44\n",
            "[44, 41, 33, 15, 5, 3]\n",
            "True\n",
            "[3, 5, 15, 33, 41, 44, 2, 12, 15, 24, 33, 39]\n",
            "[2, 4, 6, 8, 10]\n",
            "[2, 4, 6, 8, 10, 2, 4, 6, 8, 10]\n",
            "10\n",
            "8\n",
            "10\n"
          ]
        }
      ]
    },
    {
      "cell_type": "code",
      "source": [
        "mzfood = [\"숙주\", \"분모자\", \"마라\", \"소세지\", \"소고기\", \"옥수수면\"]\n",
        "\n",
        "mzfood.append(\"고수\")\n",
        "print(mzfood)\n",
        "\n",
        "mzfood.insert(0, \"탕후루\")\n",
        "print(mzfood)\n",
        "\n",
        "del mzfood[-1]\n",
        "print(mzfood)\n",
        "\n",
        "del mzfood[0]\n",
        "print(mzfood)\n",
        "\n",
        "mzfood[-2] = \"양고기\"\n",
        "print(mzfood)"
      ],
      "metadata": {
        "colab": {
          "base_uri": "https://localhost:8080/"
        },
        "id": "yurDkSPssqBs",
        "outputId": "e2f95c4f-3e84-471b-8707-92792f309e49"
      },
      "execution_count": 36,
      "outputs": [
        {
          "output_type": "stream",
          "name": "stdout",
          "text": [
            "['숙주', '분모자', '마라', '소세지', '소고기', '옥수수면', '고수']\n",
            "['탕후루', '숙주', '분모자', '마라', '소세지', '소고기', '옥수수면', '고수']\n",
            "['탕후루', '숙주', '분모자', '마라', '소세지', '소고기', '옥수수면']\n",
            "['숙주', '분모자', '마라', '소세지', '소고기', '옥수수면']\n",
            "['숙주', '분모자', '마라', '소세지', '양고기', '옥수수면']\n"
          ]
        }
      ]
    },
    {
      "cell_type": "code",
      "source": [
        "print(dir(list))"
      ],
      "metadata": {
        "colab": {
          "base_uri": "https://localhost:8080/"
        },
        "id": "51ajwN0ys0Ba",
        "outputId": "725c9719-5bbc-4980-e2f0-4410cb4d2eae"
      },
      "execution_count": 37,
      "outputs": [
        {
          "output_type": "stream",
          "name": "stdout",
          "text": [
            "['__add__', '__class__', '__class_getitem__', '__contains__', '__delattr__', '__delitem__', '__dir__', '__doc__', '__eq__', '__format__', '__ge__', '__getattribute__', '__getitem__', '__getstate__', '__gt__', '__hash__', '__iadd__', '__imul__', '__init__', '__init_subclass__', '__iter__', '__le__', '__len__', '__lt__', '__mul__', '__ne__', '__new__', '__reduce__', '__reduce_ex__', '__repr__', '__reversed__', '__rmul__', '__setattr__', '__setitem__', '__sizeof__', '__str__', '__subclasshook__', 'append', 'clear', 'copy', 'count', 'extend', 'index', 'insert', 'pop', 'remove', 'reverse', 'sort']\n"
          ]
        }
      ]
    },
    {
      "cell_type": "code",
      "source": [
        "print(mzfood)\n",
        "print(mzfood.reverse())\n",
        "print(mzfood.sort())"
      ],
      "metadata": {
        "colab": {
          "base_uri": "https://localhost:8080/"
        },
        "id": "samhBznts5xl",
        "outputId": "22f9bcba-f225-42b3-9988-89a873974ff4"
      },
      "execution_count": 38,
      "outputs": [
        {
          "output_type": "stream",
          "name": "stdout",
          "text": [
            "['숙주', '분모자', '마라', '소세지', '양고기', '옥수수면']\n",
            "None\n",
            "None\n"
          ]
        }
      ]
    },
    {
      "cell_type": "code",
      "source": [
        "양파같은 = [[2,0], [3,1]]\n",
        "양파같은\n",
        "\n",
        "양파같은[0]\n",
        "양파같은[1]\n",
        "#3을 출력해줘\n",
        "양파같은[1][0]\n",
        "\n",
        "양파같은.append([4,1])\n",
        "양파같은"
      ],
      "metadata": {
        "colab": {
          "base_uri": "https://localhost:8080/"
        },
        "id": "3oztslafs8_f",
        "outputId": "e0d18551-2646-4f1f-b0c2-5213e5688ba2"
      },
      "execution_count": 39,
      "outputs": [
        {
          "output_type": "execute_result",
          "data": {
            "text/plain": [
              "[[2, 0], [3, 1], [4, 1]]"
            ]
          },
          "metadata": {},
          "execution_count": 39
        }
      ]
    },
    {
      "cell_type": "markdown",
      "source": [
        "Chapter 11"
      ],
      "metadata": {
        "id": "raq1-IRVp5oC"
      }
    },
    {
      "cell_type": "code",
      "source": [
        "튜플 = (1, \"이\", 3.0)\n",
        "print(type(튜플))\n",
        "print(튜플)\n",
        "\n",
        "튜플2 = 1, \"이\", 3\n",
        "print(type(튜플2))\n",
        "print(튜플2)\n",
        "\n",
        "튜플_솔로 = (1, )\n",
        "print(type(튜플_솔로))\n",
        "print(튜플_솔로)\n",
        "\n",
        "튜플_나는솔로 = (1)\n",
        "print(type(튜플_나는솔로))\n",
        "print(튜플_나는솔로)"
      ],
      "metadata": {
        "colab": {
          "base_uri": "https://localhost:8080/"
        },
        "id": "gMEETH12p-f-",
        "outputId": "c50dfcfd-4933-43c2-9064-a6ef848ceccf"
      },
      "execution_count": 40,
      "outputs": [
        {
          "output_type": "stream",
          "name": "stdout",
          "text": [
            "<class 'tuple'>\n",
            "(1, '이', 3.0)\n",
            "<class 'tuple'>\n",
            "(1, '이', 3)\n",
            "<class 'tuple'>\n",
            "(1,)\n",
            "<class 'int'>\n",
            "1\n"
          ]
        }
      ]
    },
    {
      "cell_type": "code",
      "source": [
        "print(튜플)\n",
        "print(dir(튜플))\n",
        "\n",
        "튜플_리스트화 = list(튜플)\n",
        "print(type(튜플_리스트화))"
      ],
      "metadata": {
        "colab": {
          "base_uri": "https://localhost:8080/"
        },
        "id": "gXbwucvjtbei",
        "outputId": "a31c812e-c355-46de-e7e3-2f8fa583e113"
      },
      "execution_count": 41,
      "outputs": [
        {
          "output_type": "stream",
          "name": "stdout",
          "text": [
            "(1, '이', 3.0)\n",
            "['__add__', '__class__', '__class_getitem__', '__contains__', '__delattr__', '__dir__', '__doc__', '__eq__', '__format__', '__ge__', '__getattribute__', '__getitem__', '__getnewargs__', '__getstate__', '__gt__', '__hash__', '__init__', '__init_subclass__', '__iter__', '__le__', '__len__', '__lt__', '__mul__', '__ne__', '__new__', '__reduce__', '__reduce_ex__', '__repr__', '__rmul__', '__setattr__', '__sizeof__', '__str__', '__subclasshook__', 'count', 'index']\n",
            "<class 'list'>\n"
          ]
        }
      ]
    },
    {
      "cell_type": "code",
      "source": [
        "\n",
        "튜플.append(\"두리안\")\n",
        "del 튜플[2]\n",
        "튜플[1] = \"너만 믿는다\"\n",
        "튜플"
      ],
      "metadata": {
        "colab": {
          "base_uri": "https://localhost:8080/",
          "height": 198
        },
        "id": "-TkZXZ1SteQj",
        "outputId": "57effc1a-d53d-4584-a4ea-e64434e47e6a"
      },
      "execution_count": 42,
      "outputs": [
        {
          "output_type": "error",
          "ename": "AttributeError",
          "evalue": "'tuple' object has no attribute 'append'",
          "traceback": [
            "\u001b[0;31m---------------------------------------------------------------------------\u001b[0m",
            "\u001b[0;31mAttributeError\u001b[0m                            Traceback (most recent call last)",
            "\u001b[0;32m/tmp/ipython-input-2319133564.py\u001b[0m in \u001b[0;36m<cell line: 0>\u001b[0;34m()\u001b[0m\n\u001b[0;32m----> 1\u001b[0;31m \u001b[0m튜플\u001b[0m\u001b[0;34m.\u001b[0m\u001b[0mappend\u001b[0m\u001b[0;34m(\u001b[0m\u001b[0;34m\"두리안\"\u001b[0m\u001b[0;34m)\u001b[0m\u001b[0;34m\u001b[0m\u001b[0;34m\u001b[0m\u001b[0m\n\u001b[0m\u001b[1;32m      2\u001b[0m \u001b[0;32mdel\u001b[0m \u001b[0m튜플\u001b[0m\u001b[0;34m[\u001b[0m\u001b[0;36m2\u001b[0m\u001b[0;34m]\u001b[0m\u001b[0;34m\u001b[0m\u001b[0;34m\u001b[0m\u001b[0m\n\u001b[1;32m      3\u001b[0m \u001b[0m튜플\u001b[0m\u001b[0;34m[\u001b[0m\u001b[0;36m1\u001b[0m\u001b[0;34m]\u001b[0m \u001b[0;34m=\u001b[0m \u001b[0;34m\"너만 믿는다\"\u001b[0m\u001b[0;34m\u001b[0m\u001b[0;34m\u001b[0m\u001b[0m\n\u001b[1;32m      4\u001b[0m \u001b[0m튜플\u001b[0m\u001b[0;34m\u001b[0m\u001b[0;34m\u001b[0m\u001b[0m\n",
            "\u001b[0;31mAttributeError\u001b[0m: 'tuple' object has no attribute 'append'"
          ]
        }
      ]
    },
    {
      "cell_type": "code",
      "source": [
        "수강생 = \"중꺾그마\"\n",
        "\n",
        "수강생_list = list(수강생)\n",
        "수강생_tuple = tuple(수강생)\n",
        "\n",
        "print(수강생_list)\n",
        "print(수강생_tuple)\n",
        "\n",
        "수강생_list[1] = \"뿌\"\n",
        "print(수강생_list)\n",
        "\n",
        "취뽀_수강생 = \"\".join(수강생_list)\n",
        "print(취뽀_수강생)"
      ],
      "metadata": {
        "colab": {
          "base_uri": "https://localhost:8080/"
        },
        "id": "WQmyQZd1tl78",
        "outputId": "9a7aada2-c395-48e2-fd3c-aa7f0d55a2bc"
      },
      "execution_count": 43,
      "outputs": [
        {
          "output_type": "stream",
          "name": "stdout",
          "text": [
            "['중', '꺾', '그', '마']\n",
            "('중', '꺾', '그', '마')\n",
            "['중', '뿌', '그', '마']\n",
            "중뿌그마\n"
          ]
        }
      ]
    },
    {
      "cell_type": "code",
      "source": [
        "print(튜플)\n",
        "len(튜플)\n",
        "튜플 * 3\n",
        "튜플 + 튜플\n",
        "튜플[2]\n",
        "튜플.index(3.0)\n",
        "튜플.count(1)\n",
        "튜플[1:3]"
      ],
      "metadata": {
        "colab": {
          "base_uri": "https://localhost:8080/"
        },
        "id": "NTlHZMCdtrD9",
        "outputId": "3fdae522-7b67-4330-e4f9-1fc8169d4a25"
      },
      "execution_count": 44,
      "outputs": [
        {
          "output_type": "stream",
          "name": "stdout",
          "text": [
            "(1, '이', 3.0)\n"
          ]
        },
        {
          "output_type": "execute_result",
          "data": {
            "text/plain": [
              "('이', 3.0)"
            ]
          },
          "metadata": {},
          "execution_count": 44
        }
      ]
    },
    {
      "cell_type": "markdown",
      "source": [
        "Chapter 12"
      ],
      "metadata": {
        "id": "nrasAztOp6cS"
      }
    },
    {
      "cell_type": "code",
      "source": [
        "짱짱맨 = {\"힘\":30, \"지능\":20, \"체력\":40, \"민첩\":90}\n",
        "짱짱맨\n",
        "\n",
        "짱짱맨[\"힘\"]\n",
        "print(f'짱짱맨님은 힘이 {짱짱맨[\"힘\"]}입니다.')"
      ],
      "metadata": {
        "colab": {
          "base_uri": "https://localhost:8080/"
        },
        "id": "qQbuCqKnt5yJ",
        "outputId": "6b28a3ad-f9cb-415f-ce1e-57dcdf7a87e1"
      },
      "execution_count": 45,
      "outputs": [
        {
          "output_type": "stream",
          "name": "stdout",
          "text": [
            "짱짱맨님은 힘이 30입니다.\n"
          ]
        }
      ]
    },
    {
      "cell_type": "code",
      "source": [
        "딕셔너리 = {}\n",
        "딕셔너리\n",
        "\n",
        "딕셔너리2 = dict()\n",
        "딕셔너리2\n",
        "\n",
        "딕셔너리3 = dict(힘=30, 지능=20, 체력=40, 민첩=90)\n",
        "딕셔너리3\n",
        "\n",
        "딕셔너리4 = dict(zip([\"힘\", \"지능\", \"체력\", \"민첩\"], [30,20,40,90]))\n",
        "딕셔너리4"
      ],
      "metadata": {
        "colab": {
          "base_uri": "https://localhost:8080/"
        },
        "id": "jS9Saz2mp-9p",
        "outputId": "848affae-88b8-4719-f20c-9a56b931a78a"
      },
      "execution_count": 46,
      "outputs": [
        {
          "output_type": "execute_result",
          "data": {
            "text/plain": [
              "{'힘': 30, '지능': 20, '체력': 40, '민첩': 90}"
            ]
          },
          "metadata": {},
          "execution_count": 46
        }
      ]
    },
    {
      "cell_type": "code",
      "source": [
        "짱짱맨 = {\"힘\":30, \"지능\":20, \"체력\":40, \"민첩\":90, \"힘\":40, \"지구력\":90}\n",
        "짱짱맨\n",
        "\n",
        "\"체력\" in 짱짱맨"
      ],
      "metadata": {
        "colab": {
          "base_uri": "https://localhost:8080/"
        },
        "id": "i4SAJr05uJDY",
        "outputId": "92f5dd7c-c99e-49d5-8e02-371c4256b8aa"
      },
      "execution_count": 47,
      "outputs": [
        {
          "output_type": "execute_result",
          "data": {
            "text/plain": [
              "True"
            ]
          },
          "metadata": {},
          "execution_count": 47
        }
      ]
    },
    {
      "cell_type": "code",
      "source": [
        "print(짱짱맨.keys())\n",
        "print(짱짱맨.values())\n",
        "\n",
        "print(짱짱맨.items())\n",
        "print(type(짱짱맨.items()))\n",
        "\n",
        "리스화된_짱짱맨 = list(짱짱맨.items())\n",
        "리스화된_짱짱맨[0][1]"
      ],
      "metadata": {
        "colab": {
          "base_uri": "https://localhost:8080/"
        },
        "id": "s5AHSXTYuMMG",
        "outputId": "6255113d-83ae-4906-a055-39a88dd6da64"
      },
      "execution_count": 48,
      "outputs": [
        {
          "output_type": "stream",
          "name": "stdout",
          "text": [
            "dict_keys(['힘', '지능', '체력', '민첩', '지구력'])\n",
            "dict_values([40, 20, 40, 90, 90])\n",
            "dict_items([('힘', 40), ('지능', 20), ('체력', 40), ('민첩', 90), ('지구력', 90)])\n",
            "<class 'dict_items'>\n"
          ]
        },
        {
          "output_type": "execute_result",
          "data": {
            "text/plain": [
              "40"
            ]
          },
          "metadata": {},
          "execution_count": 48
        }
      ]
    },
    {
      "cell_type": "code",
      "source": [
        "짱짱맨.update({\"손재주\":44, \"매력\":100})\n",
        "짱짱맨"
      ],
      "metadata": {
        "colab": {
          "base_uri": "https://localhost:8080/"
        },
        "id": "yH6taYX8uPAc",
        "outputId": "e6163263-09b8-4bcc-ef41-0c32208df1a2"
      },
      "execution_count": 49,
      "outputs": [
        {
          "output_type": "execute_result",
          "data": {
            "text/plain": [
              "{'힘': 40, '지능': 20, '체력': 40, '민첩': 90, '지구력': 90, '손재주': 44, '매력': 100}"
            ]
          },
          "metadata": {},
          "execution_count": 49
        }
      ]
    },
    {
      "cell_type": "code",
      "source": [
        "코디 = {\n",
        "    \"모자\" : {\n",
        "        \"캡\" : \"발렌시아\",\n",
        "        \"비니\" : \"셀린느\"\n",
        "    },\n",
        "    \"상의\" : {\n",
        "        \"후드티\":\"칼하트\",\n",
        "        \"맨투맨\":\"슈프림\"\n",
        "    }\n",
        "}\n",
        "\n",
        "코디\n",
        "코디[\"모자\"]\n",
        "코디[\"모자\"][\"캡\"]"
      ],
      "metadata": {
        "colab": {
          "base_uri": "https://localhost:8080/",
          "height": 36
        },
        "id": "kFLaUPsNuTNr",
        "outputId": "a2154203-8fe4-412d-e542-e9ec457feef6"
      },
      "execution_count": 50,
      "outputs": [
        {
          "output_type": "execute_result",
          "data": {
            "text/plain": [
              "'발렌시아'"
            ],
            "application/vnd.google.colaboratory.intrinsic+json": {
              "type": "string"
            }
          },
          "metadata": {},
          "execution_count": 50
        }
      ]
    },
    {
      "cell_type": "markdown",
      "source": [
        "Chapter 13"
      ],
      "metadata": {
        "id": "cmKjjaJ_p67Y"
      }
    },
    {
      "cell_type": "code",
      "source": [
        "채소 = {\"당근\", \"배추\", \"대파\", \"양파\"}\n",
        "type(채소)\n",
        "print(채소)\n"
      ],
      "metadata": {
        "colab": {
          "base_uri": "https://localhost:8080/"
        },
        "id": "q88R86_Pp_cc",
        "outputId": "f36a747f-f5a7-4301-da33-926291bb0b24"
      },
      "execution_count": 61,
      "outputs": [
        {
          "output_type": "stream",
          "name": "stdout",
          "text": [
            "{'배추', '양파', '당근', '대파'}\n"
          ]
        }
      ]
    },
    {
      "cell_type": "code",
      "source": [
        "세트 = set()\n",
        "세트\n",
        "세트2 = {}\n",
        "세트2"
      ],
      "metadata": {
        "colab": {
          "base_uri": "https://localhost:8080/"
        },
        "id": "TiAUFOObu4EC",
        "outputId": "524b2a78-077c-4689-fc13-11ab90acad21"
      },
      "execution_count": 62,
      "outputs": [
        {
          "output_type": "execute_result",
          "data": {
            "text/plain": [
              "{}"
            ]
          },
          "metadata": {},
          "execution_count": 62
        }
      ]
    },
    {
      "cell_type": "code",
      "source": [
        "사과_리스트 = list(\"apple\")\n",
        "print(사과_리스트)\n",
        "사과_튜플 = tuple(\"apple\")\n",
        "print(사과_튜플)\n",
        "사과_set = set(\"apple\")\n",
        "print(사과_set)\n"
      ],
      "metadata": {
        "colab": {
          "base_uri": "https://localhost:8080/"
        },
        "id": "zHbdwTRTu-_W",
        "outputId": "ac5c28e8-fbf8-4d63-8468-f855401aa1d7"
      },
      "execution_count": 63,
      "outputs": [
        {
          "output_type": "stream",
          "name": "stdout",
          "text": [
            "['a', 'p', 'p', 'l', 'e']\n",
            "('a', 'p', 'p', 'l', 'e')\n",
            "{'p', 'l', 'e', 'a'}\n"
          ]
        }
      ]
    },
    {
      "cell_type": "code",
      "source": [
        "#set() 함수의 데이터 삽입\n",
        "# 채소.add(\"토마토\")\n",
        "# 채소\n",
        "\n",
        "# 채소.update(\"깻잎\")\n",
        "# 채소\n",
        "\n",
        "#set() 함수의 데이터 삭제\n",
        "# 채소.remove(\"잎\")\n",
        "# 채소\n",
        "\n",
        "# 채소.remove(\"잎\")\n",
        "# 채소.discard(\"깻\")\n",
        "# 채소\n",
        "\n",
        "# 채소.discard(\"깻\")\n",
        "# 채소\n",
        "\n",
        "채소.pop()\n",
        "채소"
      ],
      "metadata": {
        "colab": {
          "base_uri": "https://localhost:8080/"
        },
        "id": "OjOPCyuevBTK",
        "outputId": "5c33083f-4425-4b19-a264-1fe92e7cd67d"
      },
      "execution_count": 64,
      "outputs": [
        {
          "output_type": "execute_result",
          "data": {
            "text/plain": [
              "{'당근', '대파', '양파'}"
            ]
          },
          "metadata": {},
          "execution_count": 64
        }
      ]
    },
    {
      "cell_type": "code",
      "source": [
        "채소 = {\"당근\", \"배추\", \"대파\", \"양파\"}\n",
        "반환된_채소 = 채소.pop()\n",
        "print(f\" {반환된_채소}는 내다버린 채소입니다.\")"
      ],
      "metadata": {
        "colab": {
          "base_uri": "https://localhost:8080/"
        },
        "id": "T7pGfJgPvVWN",
        "outputId": "9df54bf1-70d7-40d4-f1ea-f89a616f3e88"
      },
      "execution_count": 69,
      "outputs": [
        {
          "output_type": "stream",
          "name": "stdout",
          "text": [
            " 배추는 내다버린 채소입니다.\n"
          ]
        }
      ]
    },
    {
      "cell_type": "code",
      "source": [
        "채소"
      ],
      "metadata": {
        "colab": {
          "base_uri": "https://localhost:8080/"
        },
        "id": "vpeSYfePvsgx",
        "outputId": "7b1b3df1-f85a-4a48-8742-03901ac5e9a8"
      },
      "execution_count": 70,
      "outputs": [
        {
          "output_type": "execute_result",
          "data": {
            "text/plain": [
              "{'당근', '대파', '양파'}"
            ]
          },
          "metadata": {},
          "execution_count": 70
        }
      ]
    },
    {
      "cell_type": "code",
      "source": [
        "채소1 = {\"당근\", \"양파\", \"오이\", \"배추\"}\n",
        "채소2 = {\"양파\", \"오이\", \"대파\", \"가지\"}\n",
        "\n",
        "채소1 | 채소2\n",
        "set.union(채소1, 채소2)\n",
        "\n",
        "채소1 & 채소2\n",
        "set.intersection(채소1, 채소2)\n",
        "\n",
        "채소1 - 채소2\n",
        "set.difference(채소1, 채소2)"
      ],
      "metadata": {
        "colab": {
          "base_uri": "https://localhost:8080/"
        },
        "id": "9urfVgKUvvFL",
        "outputId": "882de4c6-fa48-41be-a3dd-ab52cef7bc55"
      },
      "execution_count": 73,
      "outputs": [
        {
          "output_type": "execute_result",
          "data": {
            "text/plain": [
              "{'당근', '배추'}"
            ]
          },
          "metadata": {},
          "execution_count": 73
        }
      ]
    }
  ]
}
