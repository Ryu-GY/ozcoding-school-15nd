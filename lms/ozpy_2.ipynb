{
  "nbformat": 4,
  "nbformat_minor": 0,
  "metadata": {
    "colab": {
      "provenance": [],
      "authorship_tag": "ABX9TyNnrmDSnKU/fZ85dnO2G6RO"
    },
    "kernelspec": {
      "name": "python3",
      "display_name": "Python 3"
    },
    "language_info": {
      "name": "python"
    }
  },
  "cells": [
    {
      "cell_type": "markdown",
      "source": [
        "#Chapter05"
      ],
      "metadata": {
        "id": "sRO6nof8jm1L"
      }
    },
    {
      "cell_type": "code",
      "execution_count": 1,
      "metadata": {
        "id": "HMVzVz0y3sO8",
        "colab": {
          "base_uri": "https://localhost:8080/"
        },
        "outputId": "f84ebce4-cfde-4a86-a34b-27c7e2d84ee7"
      },
      "outputs": [
        {
          "output_type": "stream",
          "name": "stdout",
          "text": [
            "1\n",
            "2\n",
            "1 2\n"
          ]
        }
      ],
      "source": [
        "num = 1\n",
        "#print(num)\n",
        "\n",
        "\n",
        "num_1, num_2 = 1, 2\n",
        "print(num_1)\n",
        "print(num_2)\n",
        "\n",
        "print(num_1, num_2)"
      ]
    },
    {
      "cell_type": "code",
      "source": [
        "1 + 2\n",
        "1 + 2 + 3\n",
        "1 + 2 + 3 + 4\n",
        "1 + 2 + 3 + 4 + 5\n"
      ],
      "metadata": {
        "colab": {
          "base_uri": "https://localhost:8080/"
        },
        "id": "NYhD5359gxFK",
        "outputId": "891fe83a-0bc8-447a-8535-2d83c892d9cc"
      },
      "execution_count": 2,
      "outputs": [
        {
          "output_type": "execute_result",
          "data": {
            "text/plain": [
              "15"
            ]
          },
          "metadata": {},
          "execution_count": 2
        }
      ]
    },
    {
      "cell_type": "code",
      "source": [
        "sum = 1 + 2\n",
        "sum = sum + 3\n",
        "sum = sum + 4\n",
        "sum = sum + 5\n",
        "\n",
        "print(sum)\n"
      ],
      "metadata": {
        "colab": {
          "base_uri": "https://localhost:8080/"
        },
        "id": "RybmwIEog2Ps",
        "outputId": "cea1b9ef-c9b8-490f-9b18-7ec37f5ad956"
      },
      "execution_count": 3,
      "outputs": [
        {
          "output_type": "stream",
          "name": "stdout",
          "text": [
            "15\n"
          ]
        }
      ]
    },
    {
      "cell_type": "code",
      "source": [
        "sum = 1 + 2\n",
        "sum = sum + 3\n",
        "sum = sum + 4\n",
        "sum = sum + 5\n",
        "\n",
        "print(sum)\n",
        "\n",
        "sum2 = 1 + 2\n",
        "sum2 += 3\n",
        "sum2 += 4\n",
        "sum2 += 5\n",
        "\n",
        "print(sum2)"
      ],
      "metadata": {
        "colab": {
          "base_uri": "https://localhost:8080/"
        },
        "id": "fL3_uNKUg42X",
        "outputId": "837a2fb3-4f04-4178-fd31-5336571849c7"
      },
      "execution_count": 4,
      "outputs": [
        {
          "output_type": "stream",
          "name": "stdout",
          "text": [
            "15\n",
            "15\n"
          ]
        }
      ]
    },
    {
      "cell_type": "code",
      "source": [
        "# 선언x 변수 사용 : 오류\n",
        "\n",
        "sum3 =+ 1\n",
        "sum3 = 0\n",
        "\n",
        "sum3"
      ],
      "metadata": {
        "colab": {
          "base_uri": "https://localhost:8080/"
        },
        "id": "A04Cmp9EhJsy",
        "outputId": "a4a8b993-0224-4e16-9eb9-6e683239f746"
      },
      "execution_count": 6,
      "outputs": [
        {
          "output_type": "execute_result",
          "data": {
            "text/plain": [
              "0"
            ]
          },
          "metadata": {},
          "execution_count": 6
        }
      ]
    },
    {
      "cell_type": "code",
      "source": [
        "# 변수에 값 넣지 않고 선언\n",
        "\n",
        "nothing = None\n",
        "print(None)"
      ],
      "metadata": {
        "colab": {
          "base_uri": "https://localhost:8080/"
        },
        "id": "LjFqYUTFhjMP",
        "outputId": "d8adfcb5-530a-4366-af12-44556de61fdd"
      },
      "execution_count": 8,
      "outputs": [
        {
          "output_type": "stream",
          "name": "stdout",
          "text": [
            "None\n"
          ]
        }
      ]
    },
    {
      "cell_type": "code",
      "source": [
        "#대소문자를 구분\n",
        "BIG = \"크다\"\n",
        "big = \"작다\"\n",
        "\n",
        "print(BIG, big)"
      ],
      "metadata": {
        "colab": {
          "base_uri": "https://localhost:8080/"
        },
        "id": "sM0niD2Thsil",
        "outputId": "6f8d3ac1-0ffb-4b05-a382-2fde2432d9c3"
      },
      "execution_count": 9,
      "outputs": [
        {
          "output_type": "stream",
          "name": "stdout",
          "text": [
            "크다 작다\n"
          ]
        }
      ]
    },
    {
      "cell_type": "code",
      "source": [
        "box__shose = \"스니커즈\"\n",
        "box__hat = \"슈프림 모자\"\n",
        "\n",
        "print(box__shose)\n",
        "print(box__hat)"
      ],
      "metadata": {
        "colab": {
          "base_uri": "https://localhost:8080/"
        },
        "id": "tKzwKjK4h27g",
        "outputId": "af150289-1cae-4de9-a763-9f0d857c68a8"
      },
      "execution_count": 10,
      "outputs": [
        {
          "output_type": "stream",
          "name": "stdout",
          "text": [
            "스니커즈\n",
            "슈프림 모자\n"
          ]
        }
      ]
    },
    {
      "cell_type": "code",
      "source": [
        "me = \"가영\"\n",
        "print(f'{me}은 고양이  있어')"
      ],
      "metadata": {
        "colab": {
          "base_uri": "https://localhost:8080/"
        },
        "id": "5TlnZhEph_Or",
        "outputId": "69eb7d1b-4734-46b1-afc2-283f1235f583"
      },
      "execution_count": 12,
      "outputs": [
        {
          "output_type": "stream",
          "name": "stdout",
          "text": [
            "가영은 고양이  있어\n"
          ]
        }
      ]
    },
    {
      "cell_type": "code",
      "source": [
        "fi__p , fi__s , fi__j = \"붕어빵(팥)\", \"붕어빵(슈크림)\", \"붕어빵(잡채)\"\n",
        "fi__p__s , fi__s__s , fi__j__s = 2000, 2500, 3000\n",
        "ord_s, ord_j = 2, 3\n",
        "\n",
        "ord_s__p, ord_j__p = fi__s__s * 2, fi__j__s *3\n",
        "\n",
        "# 총 개수\n",
        "tot = ord_s + ord_j\n",
        "\n",
        "# 구매 총 금액\n",
        "tot_p = ord_s__p + ord_j__p\n",
        "\n",
        "#출력\n",
        "print(f'주문이 완료되었습니다. {fi__s} {ord_s}개, {fi__j}개 {ord_j} 총 {tot}개 결제 금액은 {tot_p}원 입니다.')"
      ],
      "metadata": {
        "colab": {
          "base_uri": "https://localhost:8080/"
        },
        "id": "0ELsBVwiiCKL",
        "outputId": "b6f8b229-5e84-4ca1-b55c-8a9f2efd6def"
      },
      "execution_count": 14,
      "outputs": [
        {
          "output_type": "stream",
          "name": "stdout",
          "text": [
            "주문이 완료되었습니다. 붕어빵(슈크림) 2개, 붕어빵(잡채)개 3 총 5개 결제 금액은 14000원 입니다.\n"
          ]
        }
      ]
    },
    {
      "cell_type": "markdown",
      "source": [
        "#Chapter06"
      ],
      "metadata": {
        "id": "3_b95xFqjvwz"
      }
    },
    {
      "cell_type": "code",
      "source": [
        "1.1 + 2\n",
        "4 / 2"
      ],
      "metadata": {
        "colab": {
          "base_uri": "https://localhost:8080/"
        },
        "id": "b3J-C1jBjSs8",
        "outputId": "944874b3-1be9-4644-d54b-1ef498aeb973"
      },
      "execution_count": 29,
      "outputs": [
        {
          "output_type": "execute_result",
          "data": {
            "text/plain": [
              "2.0"
            ]
          },
          "metadata": {},
          "execution_count": 29
        }
      ]
    },
    {
      "cell_type": "code",
      "source": [
        "9.0 + 2"
      ],
      "metadata": {
        "colab": {
          "base_uri": "https://localhost:8080/"
        },
        "id": "nxnDEY6ZlBY5",
        "outputId": "62270d82-26c9-4ce8-c059-0124e73e2a3a"
      },
      "execution_count": 30,
      "outputs": [
        {
          "output_type": "execute_result",
          "data": {
            "text/plain": [
              "11.0"
            ]
          },
          "metadata": {},
          "execution_count": 30
        }
      ]
    },
    {
      "cell_type": "code",
      "source": [
        "box_num = \"하나\"\n",
        "box_num +- 1\n",
        "print(box_num)"
      ],
      "metadata": {
        "colab": {
          "base_uri": "https://localhost:8080/",
          "height": 180
        },
        "id": "flMGLi9znx-m",
        "outputId": "6f47494e-6e22-4d9a-b52d-3671db95367b"
      },
      "execution_count": 32,
      "outputs": [
        {
          "output_type": "error",
          "ename": "TypeError",
          "evalue": "can only concatenate str (not \"int\") to str",
          "traceback": [
            "\u001b[0;31m---------------------------------------------------------------------------\u001b[0m",
            "\u001b[0;31mTypeError\u001b[0m                                 Traceback (most recent call last)",
            "\u001b[0;32m/tmp/ipython-input-2908275641.py\u001b[0m in \u001b[0;36m<cell line: 0>\u001b[0;34m()\u001b[0m\n\u001b[1;32m      1\u001b[0m \u001b[0mbox_num\u001b[0m \u001b[0;34m=\u001b[0m \u001b[0;34m\"하나\"\u001b[0m\u001b[0;34m\u001b[0m\u001b[0;34m\u001b[0m\u001b[0m\n\u001b[0;32m----> 2\u001b[0;31m \u001b[0mbox_num\u001b[0m \u001b[0;34m+\u001b[0m\u001b[0;34m-\u001b[0m \u001b[0;36m1\u001b[0m\u001b[0;34m\u001b[0m\u001b[0;34m\u001b[0m\u001b[0m\n\u001b[0m\u001b[1;32m      3\u001b[0m \u001b[0mprint\u001b[0m\u001b[0;34m(\u001b[0m\u001b[0mbox_num\u001b[0m\u001b[0;34m)\u001b[0m\u001b[0;34m\u001b[0m\u001b[0;34m\u001b[0m\u001b[0m\n",
            "\u001b[0;31mTypeError\u001b[0m: can only concatenate str (not \"int\") to str"
          ]
        }
      ]
    },
    {
      "cell_type": "code",
      "source": [
        "type(box_num)"
      ],
      "metadata": {
        "colab": {
          "base_uri": "https://localhost:8080/"
        },
        "id": "pL4-pWy6oDPX",
        "outputId": "1aa0652f-2b13-4861-a8d0-0ea736cb88d0"
      },
      "execution_count": 33,
      "outputs": [
        {
          "output_type": "execute_result",
          "data": {
            "text/plain": [
              "str"
            ]
          },
          "metadata": {},
          "execution_count": 33
        }
      ]
    },
    {
      "cell_type": "code",
      "source": [
        "type(1)\n",
        "type(1.2)"
      ],
      "metadata": {
        "colab": {
          "base_uri": "https://localhost:8080/"
        },
        "id": "Wl1BxZmvoLIp",
        "outputId": "d05749af-8452-40e6-d35c-febdbb98c633"
      },
      "execution_count": 34,
      "outputs": [
        {
          "output_type": "execute_result",
          "data": {
            "text/plain": [
              "float"
            ]
          },
          "metadata": {},
          "execution_count": 34
        }
      ]
    },
    {
      "cell_type": "code",
      "source": [
        "4 / 2"
      ],
      "metadata": {
        "colab": {
          "base_uri": "https://localhost:8080/"
        },
        "id": "jS2u0X-HoS8O",
        "outputId": "8d3cc8ec-1665-4f1e-880f-97030d501ce0"
      },
      "execution_count": 35,
      "outputs": [
        {
          "output_type": "execute_result",
          "data": {
            "text/plain": [
              "2.0"
            ]
          },
          "metadata": {},
          "execution_count": 35
        }
      ]
    },
    {
      "cell_type": "code",
      "source": [
        "print(float(5))\n",
        "print(int(5.0))"
      ],
      "metadata": {
        "colab": {
          "base_uri": "https://localhost:8080/"
        },
        "id": "u34ootsAoVf7",
        "outputId": "613d75d4-38b4-44e3-a174-c951fe918f19"
      },
      "execution_count": 36,
      "outputs": [
        {
          "output_type": "stream",
          "name": "stdout",
          "text": [
            "5.0\n",
            "5\n"
          ]
        }
      ]
    },
    {
      "cell_type": "code",
      "source": [
        "나이 = 10\n",
        "type(나이)\n",
        "\n",
        "print(dir(나이))"
      ],
      "metadata": {
        "colab": {
          "base_uri": "https://localhost:8080/"
        },
        "id": "TOfNwwKxou5h",
        "outputId": "ac94093e-0654-47fe-9317-6358d1abbf5f"
      },
      "execution_count": 37,
      "outputs": [
        {
          "output_type": "stream",
          "name": "stdout",
          "text": [
            "['__abs__', '__add__', '__and__', '__bool__', '__ceil__', '__class__', '__delattr__', '__dir__', '__divmod__', '__doc__', '__eq__', '__float__', '__floor__', '__floordiv__', '__format__', '__ge__', '__getattribute__', '__getnewargs__', '__getstate__', '__gt__', '__hash__', '__index__', '__init__', '__init_subclass__', '__int__', '__invert__', '__le__', '__lshift__', '__lt__', '__mod__', '__mul__', '__ne__', '__neg__', '__new__', '__or__', '__pos__', '__pow__', '__radd__', '__rand__', '__rdivmod__', '__reduce__', '__reduce_ex__', '__repr__', '__rfloordiv__', '__rlshift__', '__rmod__', '__rmul__', '__ror__', '__round__', '__rpow__', '__rrshift__', '__rshift__', '__rsub__', '__rtruediv__', '__rxor__', '__setattr__', '__sizeof__', '__str__', '__sub__', '__subclasshook__', '__truediv__', '__trunc__', '__xor__', 'as_integer_ratio', 'bit_count', 'bit_length', 'conjugate', 'denominator', 'from_bytes', 'imag', 'is_integer', 'numerator', 'real', 'to_bytes']\n"
          ]
        }
      ]
    },
    {
      "cell_type": "code",
      "source": [
        "print(나이.bit_length())\n",
        "print(bin(나이))"
      ],
      "metadata": {
        "colab": {
          "base_uri": "https://localhost:8080/"
        },
        "id": "Mms8OKV1pF8a",
        "outputId": "dad1ba61-cd2f-4851-bce1-aab54affb7c6"
      },
      "execution_count": 38,
      "outputs": [
        {
          "output_type": "stream",
          "name": "stdout",
          "text": [
            "4\n",
            "0b1010\n"
          ]
        }
      ]
    },
    {
      "cell_type": "markdown",
      "source": [
        "#Chapter07"
      ],
      "metadata": {
        "id": "5yEPrKcRlC3Y"
      }
    },
    {
      "cell_type": "code",
      "source": [
        "이름 = \"김오즈\"\n",
        "나이 = 30\n",
        "키 = 180.3\n",
        "소속 = \"s매직 서울북부\""
      ],
      "metadata": {
        "id": "T4QM1thOlD4i"
      },
      "execution_count": 15,
      "outputs": []
    },
    {
      "cell_type": "code",
      "source": [
        "print(type(이름))\n",
        "print(type(나이))\n",
        "print(type(키))\n",
        "print(type(소속))"
      ],
      "metadata": {
        "colab": {
          "base_uri": "https://localhost:8080/"
        },
        "id": "EONbK7yflEO_",
        "outputId": "cd22b5de-73e8-40c2-bd07-9c182f75ac07"
      },
      "execution_count": 16,
      "outputs": [
        {
          "output_type": "stream",
          "name": "stdout",
          "text": [
            "<class 'str'>\n",
            "<class 'int'>\n",
            "<class 'float'>\n",
            "<class 'str'>\n"
          ]
        }
      ]
    },
    {
      "cell_type": "code",
      "source": [
        "print(float(5))\n",
        "print(int(5.0))\n",
        "print(\"5\", \"5.0\")\n",
        "print(type(\"5\"), type(\"5.0\"))"
      ],
      "metadata": {
        "colab": {
          "base_uri": "https://localhost:8080/"
        },
        "id": "k_mLb-ZElXFR",
        "outputId": "afb83526-fc57-4543-ffaa-697f628394a2"
      },
      "execution_count": 17,
      "outputs": [
        {
          "output_type": "stream",
          "name": "stdout",
          "text": [
            "5.0\n",
            "5\n",
            "5 5.0\n",
            "<class 'str'> <class 'str'>\n"
          ]
        }
      ]
    },
    {
      "cell_type": "code",
      "source": [
        "print(소속)\n",
        "print(소속[0])\n",
        "print(소속[1])\n",
        "print(소속[2])\n",
        "print(소속[3])\n",
        "print(소속[4])\n",
        "print(소속[5])\n",
        "print(소속[6])\n",
        "print(소속[7])"
      ],
      "metadata": {
        "colab": {
          "base_uri": "https://localhost:8080/"
        },
        "id": "3XwH067ilXEF",
        "outputId": "f5605e75-46e8-49e5-8237-52aa2865f551"
      },
      "execution_count": 18,
      "outputs": [
        {
          "output_type": "stream",
          "name": "stdout",
          "text": [
            "s매직 서울북부\n",
            "s\n",
            "매\n",
            "직\n",
            " \n",
            "서\n",
            "울\n",
            "북\n",
            "부\n"
          ]
        }
      ]
    },
    {
      "cell_type": "code",
      "source": [
        "\"매\" in 소속\n",
        "\"3\" in 소속"
      ],
      "metadata": {
        "colab": {
          "base_uri": "https://localhost:8080/"
        },
        "id": "b_4g3FYklexj",
        "outputId": "f29005d1-a809-4034-fd0d-05f5a3a410a2"
      },
      "execution_count": 19,
      "outputs": [
        {
          "output_type": "execute_result",
          "data": {
            "text/plain": [
              "False"
            ]
          },
          "metadata": {},
          "execution_count": 19
        }
      ]
    },
    {
      "cell_type": "code",
      "source": [
        "\"13\" + \"금요일\""
      ],
      "metadata": {
        "colab": {
          "base_uri": "https://localhost:8080/",
          "height": 36
        },
        "id": "n8nnpzdVlpBY",
        "outputId": "15de8f0e-7719-49cf-8483-dfc60ba8db30"
      },
      "execution_count": 20,
      "outputs": [
        {
          "output_type": "execute_result",
          "data": {
            "text/plain": [
              "'13금요일'"
            ],
            "application/vnd.google.colaboratory.intrinsic+json": {
              "type": "string"
            }
          },
          "metadata": {},
          "execution_count": 20
        }
      ]
    },
    {
      "cell_type": "code",
      "source": [
        "옛날게임 = \"바니바니 당근당근\" * 20\n",
        "print(옛날게임)\n",
        "\n",
        "len(옛날게임)"
      ],
      "metadata": {
        "colab": {
          "base_uri": "https://localhost:8080/"
        },
        "id": "K5Q6EF9VlreR",
        "outputId": "f1d0fb3c-f275-435f-9b86-57a34f5f8821"
      },
      "execution_count": 21,
      "outputs": [
        {
          "output_type": "stream",
          "name": "stdout",
          "text": [
            "바니바니 당근당근바니바니 당근당근바니바니 당근당근바니바니 당근당근바니바니 당근당근바니바니 당근당근바니바니 당근당근바니바니 당근당근바니바니 당근당근바니바니 당근당근바니바니 당근당근바니바니 당근당근바니바니 당근당근바니바니 당근당근바니바니 당근당근바니바니 당근당근바니바니 당근당근바니바니 당근당근바니바니 당근당근바니바니 당근당근\n"
          ]
        },
        {
          "output_type": "execute_result",
          "data": {
            "text/plain": [
              "180"
            ]
          },
          "metadata": {},
          "execution_count": 21
        }
      ]
    },
    {
      "cell_type": "code",
      "source": [
        "퀴즈 = \"차 4대가 고장나면? 카포에라\"\n",
        "print(퀴즈[12:16])\n",
        "print(퀴즈[12:15])"
      ],
      "metadata": {
        "colab": {
          "base_uri": "https://localhost:8080/"
        },
        "id": "YUoXoaeFl91Z",
        "outputId": "0f730b47-5494-4cfd-e463-beda1da89a0b"
      },
      "execution_count": 22,
      "outputs": [
        {
          "output_type": "stream",
          "name": "stdout",
          "text": [
            "카포에라\n",
            "카포에\n"
          ]
        }
      ]
    },
    {
      "cell_type": "code",
      "source": [
        "# 퀴즈[15]\n",
        "퀴즈[-1]"
      ],
      "metadata": {
        "colab": {
          "base_uri": "https://localhost:8080/",
          "height": 36
        },
        "id": "F9bi80mdl-0s",
        "outputId": "1137ead5-ed87-4ff3-a3a7-57dd52bfadc4"
      },
      "execution_count": 23,
      "outputs": [
        {
          "output_type": "execute_result",
          "data": {
            "text/plain": [
              "'라'"
            ],
            "application/vnd.google.colaboratory.intrinsic+json": {
              "type": "string"
            }
          },
          "metadata": {},
          "execution_count": 23
        }
      ]
    },
    {
      "cell_type": "code",
      "source": [
        "생년월일 = \"2000.12.25\"\n",
        "년 = 생년월일[0:4]\n",
        "월 = 생년월일[5:7]\n",
        "일 = 생년월일[8:11]\n",
        "\n",
        "print(f'{년}, {월}, {일}')"
      ],
      "metadata": {
        "colab": {
          "base_uri": "https://localhost:8080/"
        },
        "id": "UqMvww2JmbU4",
        "outputId": "4fb47e04-dcea-4e78-eb14-2e8fb634a66a"
      },
      "execution_count": 24,
      "outputs": [
        {
          "output_type": "stream",
          "name": "stdout",
          "text": [
            "2000, 12, 25\n"
          ]
        }
      ]
    },
    {
      "cell_type": "code",
      "source": [
        "숫자 = \"123838483848939\"\n",
        "print(숫자[::])\n",
        "print(숫자[::-1])\n",
        "\n",
        "print(숫자[::2])\n",
        "\n",
        "print(숫자[4:1:-1])\n",
        "print(숫자[4:])"
      ],
      "metadata": {
        "colab": {
          "base_uri": "https://localhost:8080/"
        },
        "id": "K96DBu25mlAT",
        "outputId": "aef4849b-b22b-485a-8924-1e8b11f3dc9c"
      },
      "execution_count": 25,
      "outputs": [
        {
          "output_type": "stream",
          "name": "stdout",
          "text": [
            "123838483848939\n",
            "939848384838321\n",
            "13343499\n",
            "383\n",
            "38483848939\n"
          ]
        }
      ]
    },
    {
      "cell_type": "code",
      "source": [
        "퀴즈 = \"스님이 공중에 뜬다를 4글자로 말하면? 어중이떠중이\"\n",
        "print(퀴즈[22:28])"
      ],
      "metadata": {
        "colab": {
          "base_uri": "https://localhost:8080/"
        },
        "id": "atvrr4jVmvJU",
        "outputId": "79fad6b8-83ac-413f-a50e-f59a2e8669ac"
      },
      "execution_count": 26,
      "outputs": [
        {
          "output_type": "stream",
          "name": "stdout",
          "text": [
            "어중이떠중이\n"
          ]
        }
      ]
    },
    {
      "cell_type": "code",
      "source": [
        "과일 = \"apple\"\n",
        "과일.count(\"p\")"
      ],
      "metadata": {
        "colab": {
          "base_uri": "https://localhost:8080/"
        },
        "id": "cfaafYc5m4D0",
        "outputId": "b7a6678d-2775-4aee-cf47-f1a9dbd69edd"
      },
      "execution_count": 27,
      "outputs": [
        {
          "output_type": "execute_result",
          "data": {
            "text/plain": [
              "2"
            ]
          },
          "metadata": {},
          "execution_count": 27
        }
      ]
    },
    {
      "cell_type": "code",
      "source": [
        "과일[2]\n",
        "과일.index(\"p\")"
      ],
      "metadata": {
        "colab": {
          "base_uri": "https://localhost:8080/"
        },
        "id": "QfIGHBelm0B4",
        "outputId": "f28e44fb-3fae-4332-d947-5e86b28b9295"
      },
      "execution_count": 28,
      "outputs": [
        {
          "output_type": "execute_result",
          "data": {
            "text/plain": [
              "1"
            ]
          },
          "metadata": {},
          "execution_count": 28
        }
      ]
    },
    {
      "cell_type": "markdown",
      "source": [
        "#Chapter08"
      ],
      "metadata": {
        "id": "yNEjyFG5lEVY"
      }
    },
    {
      "cell_type": "code",
      "source": [
        "3 > 1\n",
        "3 == 1\n",
        "3 == 3\n",
        "\n",
        "20 != 5\n",
        "20 != 20"
      ],
      "metadata": {
        "colab": {
          "base_uri": "https://localhost:8080/"
        },
        "id": "IotlU8mrlGSy",
        "outputId": "c5086515-d4ca-4a84-8d9d-b0390bfd977c"
      },
      "execution_count": 39,
      "outputs": [
        {
          "output_type": "execute_result",
          "data": {
            "text/plain": [
              "False"
            ]
          },
          "metadata": {},
          "execution_count": 39
        }
      ]
    },
    {
      "cell_type": "code",
      "source": [
        "\"python\" == \"Python\"\n",
        "\"Python\" == \"Python\"\n",
        "\"python\" != \"Python\""
      ],
      "metadata": {
        "colab": {
          "base_uri": "https://localhost:8080/"
        },
        "id": "05UiDAKDpkvd",
        "outputId": "40e8870e-899a-4017-e786-3f8d419011c6"
      },
      "execution_count": 40,
      "outputs": [
        {
          "output_type": "execute_result",
          "data": {
            "text/plain": [
              "True"
            ]
          },
          "metadata": {},
          "execution_count": 40
        }
      ]
    },
    {
      "cell_type": "code",
      "source": [
        "5 >= 5\n",
        "5 < 4"
      ],
      "metadata": {
        "colab": {
          "base_uri": "https://localhost:8080/"
        },
        "id": "hP4rtKGOpome",
        "outputId": "b399606f-097a-46ba-e9f4-34ff49323fe8"
      },
      "execution_count": 41,
      "outputs": [
        {
          "output_type": "execute_result",
          "data": {
            "text/plain": [
              "False"
            ]
          },
          "metadata": {},
          "execution_count": 41
        }
      ]
    },
    {
      "cell_type": "code",
      "source": [
        "3 is 3\n",
        "3 == 3\n",
        "\n",
        "3.0 is 3\n",
        "3.0 == 3\n",
        "\n",
        "print(id(3.0))\n",
        "print(id(3))"
      ],
      "metadata": {
        "colab": {
          "base_uri": "https://localhost:8080/"
        },
        "id": "0E0tuW5Tptiw",
        "outputId": "1fabf90e-3f3e-4c5d-cfc3-2c84f358a0cd"
      },
      "execution_count": 42,
      "outputs": [
        {
          "output_type": "stream",
          "name": "stdout",
          "text": [
            "134453596161808\n",
            "11642152\n"
          ]
        },
        {
          "output_type": "stream",
          "name": "stderr",
          "text": [
            "<>:1: SyntaxWarning: \"is\" with 'int' literal. Did you mean \"==\"?\n",
            "<>:4: SyntaxWarning: \"is\" with 'float' literal. Did you mean \"==\"?\n",
            "<>:1: SyntaxWarning: \"is\" with 'int' literal. Did you mean \"==\"?\n",
            "<>:4: SyntaxWarning: \"is\" with 'float' literal. Did you mean \"==\"?\n",
            "/tmp/ipython-input-1857604381.py:1: SyntaxWarning: \"is\" with 'int' literal. Did you mean \"==\"?\n",
            "  3 is 3\n",
            "/tmp/ipython-input-1857604381.py:4: SyntaxWarning: \"is\" with 'float' literal. Did you mean \"==\"?\n",
            "  3.0 is 3\n"
          ]
        }
      ]
    },
    {
      "cell_type": "code",
      "source": [
        "# True : 1 / False : 0\n",
        "True and True # 1 * 1 = 1\n",
        "True and False # 1 * 0 = 0\n",
        "False and True # 0 * 1 = 0\n",
        "False and False # 0 * 0 = 0"
      ],
      "metadata": {
        "colab": {
          "base_uri": "https://localhost:8080/"
        },
        "id": "v18LUK1Mpw7g",
        "outputId": "0f180226-5a9c-49ce-d508-f0b07a9e2e9a"
      },
      "execution_count": 43,
      "outputs": [
        {
          "output_type": "execute_result",
          "data": {
            "text/plain": [
              "False"
            ]
          },
          "metadata": {},
          "execution_count": 43
        }
      ]
    },
    {
      "cell_type": "code",
      "source": [
        "# True : 1 / False : 0\n",
        "True or True # 1 + 1 = 1\n",
        "True or False # 1 + 0 = 1\n",
        "False or True # 0 + 1 = 1\n",
        "False or False # 0 + 0 = 0"
      ],
      "metadata": {
        "colab": {
          "base_uri": "https://localhost:8080/"
        },
        "id": "C8v5jlUWs46f",
        "outputId": "6011b3ac-4367-4a0a-c137-fe1db4f348b6"
      },
      "execution_count": 44,
      "outputs": [
        {
          "output_type": "execute_result",
          "data": {
            "text/plain": [
              "False"
            ]
          },
          "metadata": {},
          "execution_count": 44
        }
      ]
    },
    {
      "cell_type": "code",
      "source": [
        "not True\n",
        "\n",
        "not False"
      ],
      "metadata": {
        "colab": {
          "base_uri": "https://localhost:8080/"
        },
        "id": "Ya5D-voks7GZ",
        "outputId": "06cd34cd-641b-481f-c555-b383a3bf359d"
      },
      "execution_count": 45,
      "outputs": [
        {
          "output_type": "execute_result",
          "data": {
            "text/plain": [
              "True"
            ]
          },
          "metadata": {},
          "execution_count": 45
        }
      ]
    },
    {
      "cell_type": "code",
      "source": [
        "10 == 12 or 6 != 2\n",
        "2 > 5 and 7 == 7\n",
        "not 14 <= 15\n",
        "not 7 is 7.0"
      ],
      "metadata": {
        "colab": {
          "base_uri": "https://localhost:8080/"
        },
        "id": "sl5xrd9Ys9f_",
        "outputId": "1b7eb518-6b1e-46a6-a811-a795c3249bec"
      },
      "execution_count": 46,
      "outputs": [
        {
          "output_type": "stream",
          "name": "stderr",
          "text": [
            "<>:4: SyntaxWarning: \"is not\" with 'int' literal. Did you mean \"!=\"?\n",
            "<>:4: SyntaxWarning: \"is not\" with 'int' literal. Did you mean \"!=\"?\n",
            "/tmp/ipython-input-2018819415.py:4: SyntaxWarning: \"is not\" with 'int' literal. Did you mean \"!=\"?\n",
            "  not 7 is 7.0\n"
          ]
        },
        {
          "output_type": "execute_result",
          "data": {
            "text/plain": [
              "True"
            ]
          },
          "metadata": {},
          "execution_count": 46
        }
      ]
    },
    {
      "cell_type": "code",
      "source": [
        "bool(\"힘들어요\")"
      ],
      "metadata": {
        "colab": {
          "base_uri": "https://localhost:8080/"
        },
        "id": "xCwVKfp6tAM6",
        "outputId": "fd5309e8-0619-4369-9edb-507bdbb900fe"
      },
      "execution_count": 47,
      "outputs": [
        {
          "output_type": "execute_result",
          "data": {
            "text/plain": [
              "True"
            ]
          },
          "metadata": {},
          "execution_count": 47
        }
      ]
    },
    {
      "cell_type": "code",
      "source": [
        "print(False and True)\n",
        "print(False and \"힘들어요\")\n",
        "\n",
        "print(True and False)\n",
        "\n",
        "print(True and '힘들어요')\n"
      ],
      "metadata": {
        "colab": {
          "base_uri": "https://localhost:8080/"
        },
        "id": "IEVpVVfntDI_",
        "outputId": "8a46ac25-ba2d-4e82-afec-10072fd2bee5"
      },
      "execution_count": 48,
      "outputs": [
        {
          "output_type": "stream",
          "name": "stdout",
          "text": [
            "False\n",
            "False\n",
            "False\n",
            "힘들어요\n"
          ]
        }
      ]
    },
    {
      "cell_type": "code",
      "source": [],
      "metadata": {
        "id": "dLZkqnsBtMTP"
      },
      "execution_count": null,
      "outputs": []
    }
  ]
}
