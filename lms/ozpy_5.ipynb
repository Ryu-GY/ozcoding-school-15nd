{
  "nbformat": 4,
  "nbformat_minor": 0,
  "metadata": {
    "colab": {
      "provenance": [],
      "mount_file_id": "1kH-Zb20c9X467lI6uosO-Kc5frBxBm03",
      "authorship_tag": "ABX9TyPT5xMvnuxZbJZt2P6vR6YE"
    },
    "kernelspec": {
      "name": "python3",
      "display_name": "Python 3"
    },
    "language_info": {
      "name": "python"
    }
  },
  "cells": [
    {
      "cell_type": "markdown",
      "source": [
        "Chapter17"
      ],
      "metadata": {
        "id": "vvOYJNWSu-vq"
      }
    },
    {
      "cell_type": "code",
      "execution_count": 51,
      "metadata": {
        "colab": {
          "base_uri": "https://localhost:8080/"
        },
        "id": "rvIfSy5WuvO5",
        "outputId": "34bd8ff2-5c51-4565-c133-7d768c33a258"
      },
      "outputs": [
        {
          "output_type": "stream",
          "name": "stdout",
          "text": [
            "양파를 2개를 수확했습니다.\n",
            "대파를 수확했습니다.\n"
          ]
        }
      ],
      "source": [
        "def 양파():\n",
        "    print(\"양파를 2개를 수확했습니다.\")\n",
        "def 대파():\n",
        "    print(\"대파를 수확했습니다.\")\n",
        "\n",
        "# 함수 호출하기\n",
        "양파()\n",
        "대파()"
      ]
    },
    {
      "cell_type": "code",
      "source": [
        "def 수확():\n",
        "    print('올해 비가 많이 왔습니다.')\n",
        "\n",
        "print('농작물 수확량이 현저히 줄었습니다.')\n",
        "\n",
        "수확()"
      ],
      "metadata": {
        "colab": {
          "base_uri": "https://localhost:8080/"
        },
        "id": "DHML200lzGxf",
        "outputId": "2b5269f3-9831-45d4-d0ae-0bbd62dd7667"
      },
      "execution_count": 52,
      "outputs": [
        {
          "output_type": "stream",
          "name": "stdout",
          "text": [
            "농작물 수확량이 현저히 줄었습니다.\n",
            "올해 비가 많이 왔습니다.\n"
          ]
        }
      ]
    },
    {
      "cell_type": "code",
      "source": [
        "def function(x, y):\n",
        "    z = x + y\n",
        "    return z\n",
        "    print(\"진짠가요?\")\n",
        "\n",
        "# A등급 10마리, B등급 9마리\n",
        "print('옥수수와 수박의 수확량  :', function(10, 2))"
      ],
      "metadata": {
        "colab": {
          "base_uri": "https://localhost:8080/"
        },
        "id": "lnAIRu3m19m3",
        "outputId": "77a49b70-a84a-46ea-8f15-37c87bd763e6"
      },
      "execution_count": 53,
      "outputs": [
        {
          "output_type": "stream",
          "name": "stdout",
          "text": [
            "옥수수와 수박의 수확량  : 12\n"
          ]
        }
      ]
    },
    {
      "cell_type": "code",
      "source": [
        "def 수확():\n",
        "    print(\"고라니 2마리를 박았습니다.\")\n",
        "수확()"
      ],
      "metadata": {
        "colab": {
          "base_uri": "https://localhost:8080/"
        },
        "id": "ZsAztCEE2EsO",
        "outputId": "1eb942b1-f3a1-4e4b-9270-6f6853cf1cb7"
      },
      "execution_count": 54,
      "outputs": [
        {
          "output_type": "stream",
          "name": "stdout",
          "text": [
            "고라니 2마리를 박았습니다.\n"
          ]
        }
      ]
    },
    {
      "cell_type": "code",
      "source": [
        "def function(x, y):\n",
        "    z = x + y\n",
        "    print(z)\n",
        "\n",
        "# A등급 10마리, B등급 9마리\n",
        "print('옥수수와 수박의 수확량  :', function(10, 2))"
      ],
      "metadata": {
        "colab": {
          "base_uri": "https://localhost:8080/"
        },
        "id": "TUnMhlrH2PnS",
        "outputId": "94437ba7-7b3e-4968-e61b-a65985cc0f46"
      },
      "execution_count": 55,
      "outputs": [
        {
          "output_type": "stream",
          "name": "stdout",
          "text": [
            "12\n",
            "옥수수와 수박의 수확량  : None\n"
          ]
        }
      ]
    },
    {
      "cell_type": "code",
      "source": [
        "def 계산(가격, 개수):\n",
        "    return 가격 * 개수\n",
        "print(계산(1000, 5), '원입니다.')"
      ],
      "metadata": {
        "colab": {
          "base_uri": "https://localhost:8080/"
        },
        "id": "6s1UKRY82Vk5",
        "outputId": "aa5f27ea-4d06-4ffc-9b13-36319ad7de5a"
      },
      "execution_count": 56,
      "outputs": [
        {
          "output_type": "stream",
          "name": "stdout",
          "text": [
            "5000 원입니다.\n"
          ]
        }
      ]
    },
    {
      "cell_type": "code",
      "source": [
        "def 계산(a, b, c):\n",
        "    합계 = a*1000 + b*500 + c*100\n",
        "    return 합계\n",
        "\n",
        "print(계산(5, 2, 3), '원입니다.')"
      ],
      "metadata": {
        "colab": {
          "base_uri": "https://localhost:8080/"
        },
        "id": "u2g9L4p12Y7r",
        "outputId": "a315ae3a-bd09-461d-91a9-9b3e18ae6f8f"
      },
      "execution_count": 57,
      "outputs": [
        {
          "output_type": "stream",
          "name": "stdout",
          "text": [
            "6300 원입니다.\n"
          ]
        }
      ]
    },
    {
      "cell_type": "code",
      "source": [
        "a = 100\n",
        "def f():\n",
        "    global a\n",
        "    a = a + 1\n",
        "    return a\n",
        "f()"
      ],
      "metadata": {
        "colab": {
          "base_uri": "https://localhost:8080/"
        },
        "id": "oyWG-u6b2c_t",
        "outputId": "0b6a83be-70d5-4ec0-9e03-e119f6a3308a"
      },
      "execution_count": 58,
      "outputs": [
        {
          "output_type": "execute_result",
          "data": {
            "text/plain": [
              "101"
            ]
          },
          "metadata": {},
          "execution_count": 58
        }
      ]
    },
    {
      "cell_type": "code",
      "source": [
        "won = {'A등급':1000, 'B등급':500, 'C등급':100}\n",
        "\n",
        "def 계산(a, b, c):\n",
        "    합계 = won['A등급']* a + won['B등급'] *b + won['C등급']*c\n",
        "    return 합계\n",
        "\n",
        "print(계산(5, 2, 3), '원입니다.')"
      ],
      "metadata": {
        "colab": {
          "base_uri": "https://localhost:8080/"
        },
        "id": "KBfsIukJ2hsE",
        "outputId": "53bf9afb-4163-4317-a6ce-6e940f8bb3ac"
      },
      "execution_count": 59,
      "outputs": [
        {
          "output_type": "stream",
          "name": "stdout",
          "text": [
            "6300 원입니다.\n"
          ]
        }
      ]
    },
    {
      "cell_type": "code",
      "source": [
        "PI = 3.14\n",
        "def circle(r,inputpi):\n",
        "    z = r*r*inputpi\n",
        "    return z\n",
        "\n",
        "result = circle(10, PI)\n",
        "print(result)"
      ],
      "metadata": {
        "colab": {
          "base_uri": "https://localhost:8080/"
        },
        "id": "6IbgXE252vcI",
        "outputId": "701e56de-f2b0-494c-b9fb-068d3e04dcbc"
      },
      "execution_count": 60,
      "outputs": [
        {
          "output_type": "stream",
          "name": "stdout",
          "text": [
            "314.0\n"
          ]
        }
      ]
    },
    {
      "cell_type": "code",
      "source": [
        "A = 4\n",
        "B = 3\n",
        "C = 4\n",
        "유물 = 1\n",
        "\n",
        "def 감자():\n",
        "    global A\n",
        "    A += 1\n",
        "\n",
        "def 양파():\n",
        "    global A, B, C\n",
        "    A += 3\n",
        "    B += 3\n",
        "    C += 4\n",
        "\n",
        "def 옥수수():\n",
        "    global 유물\n",
        "    유물 += 1\n",
        "\n",
        "감자()\n",
        "양파()\n",
        "옥수수()\n",
        "\n",
        "합계 = A + B + C + 유물\n",
        "print('오늘 수확한 수확물 :', 합계)"
      ],
      "metadata": {
        "colab": {
          "base_uri": "https://localhost:8080/"
        },
        "id": "4kbGb0Mi2xvc",
        "outputId": "7930232a-58d4-420e-9655-51471e7ba8c8"
      },
      "execution_count": 61,
      "outputs": [
        {
          "output_type": "stream",
          "name": "stdout",
          "text": [
            "오늘 수확한 수확물 : 24\n"
          ]
        }
      ]
    },
    {
      "cell_type": "code",
      "source": [
        "def print_text():\n",
        "    text = \"콩콩팥팥 수확의 기쁨\"\n",
        "    def txt():\n",
        "        print(text)\n",
        "    txt()\n",
        "print_text()"
      ],
      "metadata": {
        "colab": {
          "base_uri": "https://localhost:8080/"
        },
        "id": "jIfkLQPG21xg",
        "outputId": "eb1e42a9-7e8c-4641-c9b3-a14ec52d6d44"
      },
      "execution_count": 62,
      "outputs": [
        {
          "output_type": "stream",
          "name": "stdout",
          "text": [
            "콩콩팥팥 수확의 기쁨\n"
          ]
        }
      ]
    },
    {
      "cell_type": "code",
      "source": [
        "def 수확철():\n",
        "    야채 = {'A등급':0, 'B등급':0, 'C등급':0}\n",
        "\n",
        "    def 양파():\n",
        "        야채['A등급'] += 1\n",
        "\n",
        "    def 대파():\n",
        "        야채['A등급'] += 3\n",
        "        야채['B등급'] += 3\n",
        "        야채['C등급'] += 4\n",
        "\n",
        "    def 쪽파():\n",
        "        야채['금'] = 1\n",
        "\n",
        "    양파()\n",
        "    대파()\n",
        "    쪽파()\n",
        "\n",
        "    return 야채\n",
        "\n",
        "수확철()\n",
        "sum(수확철().values())"
      ],
      "metadata": {
        "colab": {
          "base_uri": "https://localhost:8080/"
        },
        "id": "_6kOq1DC25tj",
        "outputId": "7ed74d5c-69e5-4a0b-fedf-b3b41f4cba10"
      },
      "execution_count": 63,
      "outputs": [
        {
          "output_type": "execute_result",
          "data": {
            "text/plain": [
              "12"
            ]
          },
          "metadata": {},
          "execution_count": 63
        }
      ]
    },
    {
      "cell_type": "markdown",
      "source": [
        "Chapter18"
      ],
      "metadata": {
        "id": "ag6S59n0vABy"
      }
    },
    {
      "cell_type": "code",
      "source": [
        "class Person:\n",
        "    def hello(self):\n",
        "        print('고양이 야옹')\n",
        "\n",
        "호출 = Person()\n",
        "호출.hello()"
      ],
      "metadata": {
        "colab": {
          "base_uri": "https://localhost:8080/"
        },
        "id": "xEcK4GkV3QFn",
        "outputId": "82b01b9a-1fc8-4785-89ba-41275b474b68"
      },
      "execution_count": 107,
      "outputs": [
        {
          "output_type": "stream",
          "name": "stdout",
          "text": [
            "고양이 야옹\n"
          ]
        }
      ]
    },
    {
      "cell_type": "code",
      "source": [
        "a = int(10)\n",
        "print(a)\n",
        "\n",
        "#b = list(range(10))\n",
        "print(b)"
      ],
      "metadata": {
        "colab": {
          "base_uri": "https://localhost:8080/"
        },
        "id": "67_2IrwR3T99",
        "outputId": "e774935d-a9ca-4ff7-fa64-0e6d354030d2"
      },
      "execution_count": 109,
      "outputs": [
        {
          "output_type": "stream",
          "name": "stdout",
          "text": [
            "10\n",
            "[0, 1, 2, 3, 4, 5, 6, 7, 8, 9]\n"
          ]
        }
      ]
    },
    {
      "cell_type": "code",
      "source": [
        "class Person:\n",
        "    def __init__(self):  # __\n",
        "        self.hello = \"안녕하세요\"\n",
        "\n",
        "    def greeting(self):\n",
        "        print(self.hello)\n",
        "\n",
        "호출 = Person()\n",
        "호출.greeting()"
      ],
      "metadata": {
        "colab": {
          "base_uri": "https://localhost:8080/"
        },
        "id": "4dOe8nI13bfd",
        "outputId": "2f00d9e0-eb59-45df-fd9e-d681b810b675"
      },
      "execution_count": 69,
      "outputs": [
        {
          "output_type": "stream",
          "name": "stdout",
          "text": [
            "안녕하세요\n"
          ]
        }
      ]
    },
    {
      "cell_type": "code",
      "source": [
        "# 매직메서드\n",
        "print(dir(int))"
      ],
      "metadata": {
        "colab": {
          "base_uri": "https://localhost:8080/"
        },
        "id": "H6yBE9V87pNH",
        "outputId": "33788ba4-ccc4-4cfa-d807-2f1e5f201f2e"
      },
      "execution_count": 70,
      "outputs": [
        {
          "output_type": "stream",
          "name": "stdout",
          "text": [
            "['__abs__', '__add__', '__and__', '__bool__', '__ceil__', '__class__', '__delattr__', '__dir__', '__divmod__', '__doc__', '__eq__', '__float__', '__floor__', '__floordiv__', '__format__', '__ge__', '__getattribute__', '__getnewargs__', '__getstate__', '__gt__', '__hash__', '__index__', '__init__', '__init_subclass__', '__int__', '__invert__', '__le__', '__lshift__', '__lt__', '__mod__', '__mul__', '__ne__', '__neg__', '__new__', '__or__', '__pos__', '__pow__', '__radd__', '__rand__', '__rdivmod__', '__reduce__', '__reduce_ex__', '__repr__', '__rfloordiv__', '__rlshift__', '__rmod__', '__rmul__', '__ror__', '__round__', '__rpow__', '__rrshift__', '__rshift__', '__rsub__', '__rtruediv__', '__rxor__', '__setattr__', '__sizeof__', '__str__', '__sub__', '__subclasshook__', '__truediv__', '__trunc__', '__xor__', 'as_integer_ratio', 'bit_count', 'bit_length', 'conjugate', 'denominator', 'from_bytes', 'imag', 'is_integer', 'numerator', 'real', 'to_bytes']\n"
          ]
        }
      ]
    },
    {
      "cell_type": "code",
      "source": [
        "class 클래스이름:\n",
        "    def __init__(self, 매개변수1, 매개변수2):\n",
        "        self.속성1 = 매개변수1\n",
        "        self.속성2 = 매개변수2"
      ],
      "metadata": {
        "id": "fJIR8pGy7ric"
      },
      "execution_count": 71,
      "outputs": []
    },
    {
      "cell_type": "code",
      "source": [
        "class Person:\n",
        "    def __init__(self, name, age, address):\n",
        "        self.hello = '안녕하세요.'\n",
        "        self.name = name\n",
        "        self.age = age\n",
        "        self.address = address\n",
        "\n",
        "    def greeting(self):\n",
        "        print('{0} 저는 {1}입니다.'.format(self.hello, self.name))\n",
        "\n",
        "maria = Person('마리아', 20, '서울시 서초구 반포동')\n",
        "maria.greeting()    # 안녕하세요. 저는 마리아입니다.\n",
        "\n",
        "print('이름:', maria.name)       # 마리아\n",
        "print('나이:', maria.age)        # 20\n",
        "print('주소:', maria.address)    # 서울시 서초구 반포동"
      ],
      "metadata": {
        "colab": {
          "base_uri": "https://localhost:8080/"
        },
        "id": "Dekr6Dts8vhP",
        "outputId": "30de3668-9f99-4c35-adb8-09ec0f1b945b"
      },
      "execution_count": 72,
      "outputs": [
        {
          "output_type": "stream",
          "name": "stdout",
          "text": [
            "안녕하세요. 저는 마리아입니다.\n",
            "이름: 마리아\n",
            "나이: 20\n",
            "주소: 서울시 서초구 반포동\n"
          ]
        }
      ]
    },
    {
      "cell_type": "code",
      "source": [
        "class Car(object):\n",
        "    maxspeed = 300\n",
        "    maxpeople = 5\n",
        "    def move(self, x):\n",
        "        print(\"스피드로 달리고 있습니다.\")\n",
        "    def stop(self):\n",
        "        print(\"멈췄습니다.\")\n",
        "\n",
        "class HybridCar(Car):\n",
        "    battery = 1000\n",
        "    batteryKM = 300\n",
        "\n",
        "\n",
        "k5 = HybridCar()\n",
        "k5.maxspeed\n",
        "\n",
        "print(dir(k5))"
      ],
      "metadata": {
        "colab": {
          "base_uri": "https://localhost:8080/"
        },
        "id": "Ccf5xnLq8xTY",
        "outputId": "4171fdc8-94e0-4b06-8a89-8e8d26f8922c"
      },
      "execution_count": 73,
      "outputs": [
        {
          "output_type": "stream",
          "name": "stdout",
          "text": [
            "['__class__', '__delattr__', '__dict__', '__dir__', '__doc__', '__eq__', '__format__', '__ge__', '__getattribute__', '__getstate__', '__gt__', '__hash__', '__init__', '__init_subclass__', '__le__', '__lt__', '__module__', '__ne__', '__new__', '__reduce__', '__reduce_ex__', '__repr__', '__setattr__', '__sizeof__', '__str__', '__subclasshook__', '__weakref__', 'battery', 'batteryKM', 'maxpeople', 'maxspeed', 'move', 'stop']\n"
          ]
        }
      ]
    },
    {
      "cell_type": "code",
      "source": [
        "class Car(object):\n",
        "    maxspeed = 300\n",
        "    maxpeople = 5\n",
        "    def move(self, x):\n",
        "        print(\"스피드로 달리고 있습니다.\")\n",
        "    def stop(self):\n",
        "        print(\"멈췄습니다.\")\n",
        "\n",
        "class HybridCar(Car):\n",
        "    battery = 1000\n",
        "    batteryKM = 300\n",
        "\n",
        "class ElectricCar( HybridCar):\n",
        "    battery = 1000\n",
        "    batteryKM = 300\n",
        "\n",
        "k5 = HybridCar()\n",
        "# k5.maxspeed\n",
        "\n",
        "electricCark5 = ElectricCar()\n",
        "electricCark5.maxspeed"
      ],
      "metadata": {
        "colab": {
          "base_uri": "https://localhost:8080/"
        },
        "id": "zjYTIP0K84c8",
        "outputId": "0a69832a-925d-4978-fa38-384d96c6fe1f"
      },
      "execution_count": 74,
      "outputs": [
        {
          "output_type": "execute_result",
          "data": {
            "text/plain": [
              "300"
            ]
          },
          "metadata": {},
          "execution_count": 74
        }
      ]
    },
    {
      "cell_type": "code",
      "source": [
        "class Car(object):\n",
        "    maxspeed = 300\n",
        "    maxpeople = 5\n",
        "    # def move(self, x):\n",
        "    #     print(\"스피드로 달리고 있습니다.\")\n",
        "    def stop(self):\n",
        "        print(\"멈췄습니다.\")\n",
        "\n",
        "class HybridCar(Car):\n",
        "    battery = 1000\n",
        "    batteryKM = 300\n",
        "\n",
        "class ElectricCar( HybridCar):\n",
        "    battery = 1000\n",
        "    batteryKM = 300\n",
        "    def move(self, x):\n",
        "        print(self.batteryKM, '만큼 달릴 수 있습니다.')\n",
        "        print(x, '스피드로 달리고 있습니다.')\n",
        "\n",
        "k5 = HybridCar()\n",
        "k5.maxspeed\n",
        "\n",
        "electricCark5 = ElectricCar()\n",
        "electricCark5.maxspeed\n",
        "electricCark5.battery\n",
        "electricCark5.move(10)"
      ],
      "metadata": {
        "colab": {
          "base_uri": "https://localhost:8080/"
        },
        "id": "drrUstXo85cw",
        "outputId": "07402d1e-9701-4927-e105-15d205cde455"
      },
      "execution_count": 75,
      "outputs": [
        {
          "output_type": "stream",
          "name": "stdout",
          "text": [
            "300 만큼 달릴 수 있습니다.\n",
            "10 스피드로 달리고 있습니다.\n"
          ]
        }
      ]
    },
    {
      "cell_type": "markdown",
      "source": [
        "Chapter19"
      ],
      "metadata": {
        "id": "JsSxMRimvBN8"
      }
    },
    {
      "cell_type": "code",
      "source": [
        "pwd"
      ],
      "metadata": {
        "colab": {
          "base_uri": "https://localhost:8080/",
          "height": 36
        },
        "id": "DGrKwX2BvCUQ",
        "outputId": "dce76262-b7ec-49c1-8eac-2b31823731db"
      },
      "execution_count": 76,
      "outputs": [
        {
          "output_type": "execute_result",
          "data": {
            "text/plain": [
              "'/content/drive/MyDrive/Colab Notebooks'"
            ],
            "application/vnd.google.colaboratory.intrinsic+json": {
              "type": "string"
            }
          },
          "metadata": {},
          "execution_count": 76
        }
      ]
    },
    {
      "cell_type": "code",
      "source": [
        "cd /content/drive/MyDrive/Colab Notebooks"
      ],
      "metadata": {
        "colab": {
          "base_uri": "https://localhost:8080/"
        },
        "id": "hW66YJGB9H1X",
        "outputId": "46282fd6-a67a-4cf3-f678-c84b31722a53"
      },
      "execution_count": 77,
      "outputs": [
        {
          "output_type": "stream",
          "name": "stdout",
          "text": [
            "/content/drive/MyDrive/Colab Notebooks\n"
          ]
        }
      ]
    },
    {
      "cell_type": "code",
      "source": [
        "f = open('test.txt','w')\n",
        "f.write('수강생 여러분')\n",
        "f.close()"
      ],
      "metadata": {
        "id": "Um1D54iE9d75"
      },
      "execution_count": 78,
      "outputs": []
    },
    {
      "cell_type": "code",
      "source": [
        "f = open('test.txt','w')\n",
        "f.write('개발자 여러분')\n",
        "f.close()"
      ],
      "metadata": {
        "id": "DL9loJtM9jBa"
      },
      "execution_count": 79,
      "outputs": []
    },
    {
      "cell_type": "code",
      "source": [
        "f = open('test.txt','w')\n",
        "f.write('''개발자 여러분\n",
        "개발자 여러분\n",
        "개발자 여러분\n",
        "개발자 여러분\n",
        "개발자 여러분\n",
        "개발자 여러분\n",
        "''')\n",
        "f.close()"
      ],
      "metadata": {
        "id": "DpcXJDOR9k5Q"
      },
      "execution_count": 80,
      "outputs": []
    },
    {
      "cell_type": "code",
      "source": [
        "f = open('test.txt','w')\n",
        "메시지 = ''\n",
        "\n",
        "for i in range(10):\n",
        "    메시지 += \"개발자 여러분\\n\"\n",
        "f.write(메시지)\n",
        "f.close()"
      ],
      "metadata": {
        "id": "29H-1I7k9opB"
      },
      "execution_count": 81,
      "outputs": []
    },
    {
      "cell_type": "code",
      "source": [
        "f = open('test.txt', 'r')\n",
        "s = f.read()\n",
        "print(s)\n",
        "f.close()"
      ],
      "metadata": {
        "colab": {
          "base_uri": "https://localhost:8080/"
        },
        "id": "EsIWdfiD9puv",
        "outputId": "427a7543-053c-4f02-caf3-0b20f69298f7"
      },
      "execution_count": 82,
      "outputs": [
        {
          "output_type": "stream",
          "name": "stdout",
          "text": [
            "개발자 여러분\n",
            "개발자 여러분\n",
            "개발자 여러분\n",
            "개발자 여러분\n",
            "개발자 여러분\n",
            "개발자 여러분\n",
            "개발자 여러분\n",
            "개발자 여러분\n",
            "개발자 여러분\n",
            "개발자 여러분\n",
            "\n"
          ]
        }
      ]
    },
    {
      "cell_type": "code",
      "source": [
        "f = open('test.txt', 'r')\n",
        "line = f.readline()\n",
        "print(line)\n",
        "print(type(line))\n",
        "f.close()"
      ],
      "metadata": {
        "colab": {
          "base_uri": "https://localhost:8080/"
        },
        "id": "3sxWxs-39sMB",
        "outputId": "36269b07-97f3-4753-e63c-d5ab0eeb5c4d"
      },
      "execution_count": 83,
      "outputs": [
        {
          "output_type": "stream",
          "name": "stdout",
          "text": [
            "개발자 여러분\n",
            "\n",
            "<class 'str'>\n"
          ]
        }
      ]
    },
    {
      "cell_type": "code",
      "source": [
        "f = open('test.txt', 'r')\n",
        "while line:\n",
        "    line = f.readline()\n",
        "    print(line)\n",
        "f.close()"
      ],
      "metadata": {
        "colab": {
          "base_uri": "https://localhost:8080/"
        },
        "id": "OuVcJcgw9t2q",
        "outputId": "25b3083b-a597-4c64-d015-961fef821075"
      },
      "execution_count": 84,
      "outputs": [
        {
          "output_type": "stream",
          "name": "stdout",
          "text": [
            "개발자 여러분\n",
            "\n",
            "개발자 여러분\n",
            "\n",
            "개발자 여러분\n",
            "\n",
            "개발자 여러분\n",
            "\n",
            "개발자 여러분\n",
            "\n",
            "개발자 여러분\n",
            "\n",
            "개발자 여러분\n",
            "\n",
            "개발자 여러분\n",
            "\n",
            "개발자 여러분\n",
            "\n",
            "개발자 여러분\n",
            "\n",
            "\n"
          ]
        }
      ]
    },
    {
      "cell_type": "code",
      "source": [
        "f = open('test.txt', 'a')\n",
        "f.write(\"힘내자\")\n",
        "f.close()"
      ],
      "metadata": {
        "id": "_i3II8Ai9wFV"
      },
      "execution_count": 85,
      "outputs": []
    },
    {
      "cell_type": "code",
      "source": [
        "with open('test.txt', 'a') as f:\n",
        "    f.write('힘내자 !!!!')"
      ],
      "metadata": {
        "id": "Dkj3f7189yFT"
      },
      "execution_count": 86,
      "outputs": []
    },
    {
      "cell_type": "code",
      "source": [
        "list = [10, 20, 30]\n",
        "\n",
        "with open('test.txt', 'w') as f:\n",
        "    f.write(str(list))"
      ],
      "metadata": {
        "id": "8_TA4sFa9z9Q"
      },
      "execution_count": 87,
      "outputs": []
    },
    {
      "cell_type": "code",
      "source": [
        "list = [10, 20, 30]\n",
        "with open('test.txt', 'w') as f:\n",
        "    f.write('let test =' + str(list))"
      ],
      "metadata": {
        "id": "OSl8zMWe92tb"
      },
      "execution_count": 88,
      "outputs": []
    },
    {
      "cell_type": "code",
      "source": [
        "list = ['10', '20', '30']\n",
        "with open('test.txt', 'w') as f:\n",
        "    f.writelines(list)"
      ],
      "metadata": {
        "id": "QLtdHEX593TM"
      },
      "execution_count": 89,
      "outputs": []
    },
    {
      "cell_type": "code",
      "source": [
        "#csv\n",
        "list = ['10', '20', '30']\n",
        "\n",
        "with open('test3.csv', 'w') as f:\n",
        "    f.write(','.join(list))"
      ],
      "metadata": {
        "id": "h0awxgCr95Me"
      },
      "execution_count": 90,
      "outputs": []
    },
    {
      "cell_type": "markdown",
      "source": [
        "Chapter20"
      ],
      "metadata": {
        "id": "8-FH5wkjvCbh"
      }
    },
    {
      "cell_type": "code",
      "source": [
        "try:\n",
        "    x =int(input('나눌 숫자를 입력하세요'))\n",
        "    y = 10 /x\n",
        "    print(y)\n",
        "except:\n",
        "    print(\"예외가 발생했습니다.\")"
      ],
      "metadata": {
        "colab": {
          "base_uri": "https://localhost:8080/"
        },
        "id": "9oblWW2-vDuY",
        "outputId": "ef513b46-beb3-4e49-b092-a33bb1ae1347"
      },
      "execution_count": 95,
      "outputs": [
        {
          "output_type": "stream",
          "name": "stdout",
          "text": [
            "나눌 숫자를 입력하세요5\n",
            "2.0\n"
          ]
        }
      ]
    },
    {
      "cell_type": "code",
      "source": [
        "y = [10, 20, 30]\n",
        "try:\n",
        "    index, x = map(int, input('나눌 숫자를 입력하세요: ').split(','))\n",
        "    print(y[index]/x)\n",
        "except ZeroDivisionError:\n",
        "    print('숫자를 0으로 나눌 수 없습니다.')\n",
        "except IndexError:\n",
        "    print(\"잘못된 인덱스입니다.\")"
      ],
      "metadata": {
        "colab": {
          "base_uri": "https://localhost:8080/"
        },
        "id": "PmIUyxZ0rMUL",
        "outputId": "f81c41df-b839-4672-9d76-5bb5c6a488fa"
      },
      "execution_count": 102,
      "outputs": [
        {
          "output_type": "stream",
          "name": "stdout",
          "text": [
            "나눌 숫자를 입력하세요: 4, 2\n",
            "잘못된 인덱스입니다.\n"
          ]
        }
      ]
    },
    {
      "cell_type": "code",
      "source": [
        "try:\n",
        "    x =int(input('나눌 숫자를 입력하세요'))\n",
        "    y = 10 /x\n",
        "    print(y)\n",
        "except:\n",
        "    print(\"예외가 발생했습니다.\")\n",
        "else:\n",
        "    print(\"성공하셨습니다\")"
      ],
      "metadata": {
        "colab": {
          "base_uri": "https://localhost:8080/"
        },
        "id": "iVHG9ksl_Hdg",
        "outputId": "85274fb0-a974-4b95-f94f-018074d17e75"
      },
      "execution_count": 103,
      "outputs": [
        {
          "output_type": "stream",
          "name": "stdout",
          "text": [
            "나눌 숫자를 입력하세요5\n",
            "2.0\n",
            "성공하셨습니다\n"
          ]
        }
      ]
    },
    {
      "cell_type": "code",
      "source": [
        "try:\n",
        "    x =int(input('나눌 숫자를 입력하세요'))\n",
        "    y = 10 /x\n",
        "    print(y)\n",
        "except:\n",
        "    print(\"예외가 발생했습니다.\")\n",
        "else:\n",
        "    print(\"성공하셨습니다\")\n",
        "finally:\n",
        "    print(\"코드 실행이 종료되었습니다.\")"
      ],
      "metadata": {
        "colab": {
          "base_uri": "https://localhost:8080/"
        },
        "id": "Pdx8z_Xn_rnZ",
        "outputId": "ea316026-c50f-42ca-f9f2-100387462096"
      },
      "execution_count": 104,
      "outputs": [
        {
          "output_type": "stream",
          "name": "stdout",
          "text": [
            "나눌 숫자를 입력하세요5\n",
            "2.0\n",
            "성공하셨습니다\n",
            "코드 실행이 종료되었습니다.\n"
          ]
        }
      ]
    },
    {
      "cell_type": "code",
      "source": [
        "try:\n",
        "    x =int(input('나눌 숫자를 입력하세요'))\n",
        "    y = 10 /x\n",
        "    raise\n",
        "    print(y)\n",
        "except:\n",
        "    print(\"예외가 발생했습니다.\")\n",
        "else:\n",
        "    print(\"성공하셨습니다\")\n",
        "finally:\n",
        "    print(\"코드 실행이 종료되었습니다.\")\n",
        ""
      ],
      "metadata": {
        "colab": {
          "base_uri": "https://localhost:8080/"
        },
        "id": "B_0XeYOa_t_6",
        "outputId": "f81be5e0-1101-4bbc-f517-689cc45a5224"
      },
      "execution_count": 105,
      "outputs": [
        {
          "output_type": "stream",
          "name": "stdout",
          "text": [
            "나눌 숫자를 입력하세요6\n",
            "예외가 발생했습니다.\n",
            "코드 실행이 종료되었습니다.\n"
          ]
        }
      ]
    }
  ]
}
